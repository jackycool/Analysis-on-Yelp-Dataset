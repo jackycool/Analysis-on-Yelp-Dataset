{
 "cells": [
  {
   "cell_type": "code",
   "execution_count": null,
   "id": "understanding-payment",
   "metadata": {},
   "outputs": [],
   "source": [
    "'''\n",
    "CIND820 Project - Sentiment and Classification Analysis on Yelp Dataset \n",
    "Time: Jan - Apr 2021\n",
    "YINGQI HU\n",
    "\n",
    "Note: \n",
    "This analysis replicates: Siqi Liu. \"Sentiment Analysis of Yelp Reviews:A Comparison of Techniques and Models\"(2020)\n",
    "\n",
    "On top of replication, following changes will be implemented:\n",
    "1)In terms of the polarity categories for sentiment analysis, instead of assign only 3 categories (negative, neutral, positive),\n",
    "  fine-grained sentiment analysis will be used to interpret 5-star review ratings (very negative, negative, neutral, positive, very positive).\n",
    "2)Time Series cross-validattion is used instead of train_test_split. The date of each review will be considered while spliting training and testing dataset. \n",
    "  Reviews from earlier time will be assigned to training set and reviews from later time will be assigned to testing set.\n",
    "3)Besides analysis on text reviews, classification analysis on business attributes for predicting rating will be added \n",
    "'''"
   ]
  },
  {
   "cell_type": "code",
   "execution_count": 5,
   "id": "confused-majority",
   "metadata": {},
   "outputs": [
    {
     "name": "stdout",
     "output_type": "stream",
     "text": [
      "Requirement already satisfied: pandas in c:\\users\\saivi\\appdata\\local\\programs\\python\\python39\\lib\\site-packages (1.2.1)\n",
      "Requirement already satisfied: python-dateutil>=2.7.3 in c:\\users\\saivi\\appdata\\local\\programs\\python\\python39\\lib\\site-packages (from pandas) (2.8.1)\n",
      "Requirement already satisfied: pytz>=2017.3 in c:\\users\\saivi\\appdata\\local\\programs\\python\\python39\\lib\\site-packages (from pandas) (2021.1)\n",
      "Requirement already satisfied: numpy>=1.16.5 in c:\\users\\saivi\\appdata\\local\\programs\\python\\python39\\lib\\site-packages (from pandas) (1.20.0)\n",
      "Requirement already satisfied: six>=1.5 in c:\\users\\saivi\\appdata\\local\\programs\\python\\python39\\lib\\site-packages (from python-dateutil>=2.7.3->pandas) (1.15.0)\n",
      "Note: you may need to restart the kernel to use updated packages.\n"
     ]
    }
   ],
   "source": [
    "pip install pandas"
   ]
  },
  {
   "cell_type": "code",
   "execution_count": 6,
   "id": "regulation-milton",
   "metadata": {},
   "outputs": [
    {
     "name": "stdout",
     "output_type": "stream",
     "text": [
      "Requirement already satisfied: tqdm in c:\\users\\saivi\\appdata\\local\\programs\\python\\python39\\lib\\site-packages (4.56.0)\n",
      "Note: you may need to restart the kernel to use updated packages.\n"
     ]
    }
   ],
   "source": [
    "pip install tqdm"
   ]
  },
  {
   "cell_type": "code",
   "execution_count": 1,
   "id": "impaired-henry",
   "metadata": {},
   "outputs": [],
   "source": [
    "import pandas as pd\n",
    "import tarfile\n",
    "from tqdm import tqdm, tqdm_notebook, tnrange\n",
    "import json\n",
    "import csv\n",
    "import numpy as np\n",
    "import time\n",
    "from copy import deepcopy\n",
    "import warnings\n",
    "import gc"
   ]
  },
  {
   "cell_type": "code",
   "execution_count": 2,
   "id": "level-clear",
   "metadata": {},
   "outputs": [
    {
     "name": "stdout",
     "output_type": "stream",
     "text": [
      "Requirement already satisfied: matplotlib in c:\\users\\saivi\\appdata\\local\\programs\\python\\python39\\lib\\site-packages (3.3.4)\n",
      "Requirement already satisfied: python-dateutil>=2.1 in c:\\users\\saivi\\appdata\\local\\programs\\python\\python39\\lib\\site-packages (from matplotlib) (2.8.1)\n",
      "Requirement already satisfied: pillow>=6.2.0 in c:\\users\\saivi\\appdata\\local\\programs\\python\\python39\\lib\\site-packages (from matplotlib) (8.1.0)\n",
      "Requirement already satisfied: pyparsing!=2.0.4,!=2.1.2,!=2.1.6,>=2.0.3 in c:\\users\\saivi\\appdata\\local\\programs\\python\\python39\\lib\\site-packages (from matplotlib) (2.4.7)\n",
      "Requirement already satisfied: cycler>=0.10 in c:\\users\\saivi\\appdata\\local\\programs\\python\\python39\\lib\\site-packages (from matplotlib) (0.10.0)\n",
      "Requirement already satisfied: kiwisolver>=1.0.1 in c:\\users\\saivi\\appdata\\local\\programs\\python\\python39\\lib\\site-packages (from matplotlib) (1.3.1)\n",
      "Requirement already satisfied: numpy>=1.15 in c:\\users\\saivi\\appdata\\local\\programs\\python\\python39\\lib\\site-packages (from matplotlib) (1.20.0)\n",
      "Requirement already satisfied: six in c:\\users\\saivi\\appdata\\local\\programs\\python\\python39\\lib\\site-packages (from cycler>=0.10->matplotlib) (1.15.0)\n"
     ]
    }
   ],
   "source": [
    "!pip install matplotlib\n",
    "import matplotlib.pyplot as plt\n",
    "%matplotlib inline\n",
    "from matplotlib.pylab import rcParams\n",
    "rcParams['figure.figsize'] = 12, 4"
   ]
  },
  {
   "cell_type": "code",
   "execution_count": 3,
   "id": "generous-fisher",
   "metadata": {},
   "outputs": [
    {
     "name": "stdout",
     "output_type": "stream",
     "text": [
      "Requirement already satisfied: seaborn in c:\\users\\saivi\\appdata\\local\\programs\\python\\python39\\lib\\site-packages (0.11.1)\n",
      "Requirement already satisfied: pandas>=0.23 in c:\\users\\saivi\\appdata\\local\\programs\\python\\python39\\lib\\site-packages (from seaborn) (1.2.1)\n",
      "Requirement already satisfied: matplotlib>=2.2 in c:\\users\\saivi\\appdata\\local\\programs\\python\\python39\\lib\\site-packages (from seaborn) (3.3.4)\n",
      "Requirement already satisfied: scipy>=1.0 in c:\\users\\saivi\\appdata\\local\\programs\\python\\python39\\lib\\site-packages (from seaborn) (1.6.1)\n",
      "Requirement already satisfied: numpy>=1.15 in c:\\users\\saivi\\appdata\\local\\programs\\python\\python39\\lib\\site-packages (from seaborn) (1.20.0)\n",
      "Requirement already satisfied: pillow>=6.2.0 in c:\\users\\saivi\\appdata\\local\\programs\\python\\python39\\lib\\site-packages (from matplotlib>=2.2->seaborn) (8.1.0)\n",
      "Requirement already satisfied: pyparsing!=2.0.4,!=2.1.2,!=2.1.6,>=2.0.3 in c:\\users\\saivi\\appdata\\local\\programs\\python\\python39\\lib\\site-packages (from matplotlib>=2.2->seaborn) (2.4.7)\n",
      "Requirement already satisfied: python-dateutil>=2.1 in c:\\users\\saivi\\appdata\\local\\programs\\python\\python39\\lib\\site-packages (from matplotlib>=2.2->seaborn) (2.8.1)\n",
      "Requirement already satisfied: cycler>=0.10 in c:\\users\\saivi\\appdata\\local\\programs\\python\\python39\\lib\\site-packages (from matplotlib>=2.2->seaborn) (0.10.0)\n",
      "Requirement already satisfied: kiwisolver>=1.0.1 in c:\\users\\saivi\\appdata\\local\\programs\\python\\python39\\lib\\site-packages (from matplotlib>=2.2->seaborn) (1.3.1)\n",
      "Requirement already satisfied: six in c:\\users\\saivi\\appdata\\local\\programs\\python\\python39\\lib\\site-packages (from cycler>=0.10->matplotlib>=2.2->seaborn) (1.15.0)\n",
      "Requirement already satisfied: pytz>=2017.3 in c:\\users\\saivi\\appdata\\local\\programs\\python\\python39\\lib\\site-packages (from pandas>=0.23->seaborn) (2021.1)\n"
     ]
    }
   ],
   "source": [
    "!pip install seaborn\n",
    "import seaborn as sns"
   ]
  },
  {
   "cell_type": "code",
   "execution_count": 4,
   "id": "palestinian-crown",
   "metadata": {},
   "outputs": [],
   "source": [
    "# Handle date time conversions between pandas and matplotlib\n",
    "from pandas.plotting import register_matplotlib_converters\n",
    "register_matplotlib_converters()\n",
    "\n",
    "# Use white grid plot background from seaborn\n",
    "sns.set(font_scale=1.5, style=\"whitegrid\")"
   ]
  },
  {
   "cell_type": "code",
   "execution_count": 5,
   "id": "under-click",
   "metadata": {},
   "outputs": [
    {
     "name": "stdout",
     "output_type": "stream",
     "text": [
      "C:\\Users\\Saivi\\AppData\\Local\\Programs\\Python\\Python39\\Scripts\\Yelp Project\n"
     ]
    }
   ],
   "source": [
    "import os\n",
    "cwd = os.getcwd()\n",
    "print (cwd)"
   ]
  },
  {
   "cell_type": "code",
   "execution_count": 11,
   "id": "paperback-reporter",
   "metadata": {},
   "outputs": [
    {
     "name": "stdout",
     "output_type": "stream",
     "text": [
      "Requirement already satisfied: wordcloud in c:\\users\\saivi\\appdata\\local\\programs\\python\\python39\\lib\\site-packages (1.8.1)\n",
      "Requirement already satisfied: numpy>=1.6.1 in c:\\users\\saivi\\appdata\\local\\programs\\python\\python39\\lib\\site-packages (from wordcloud) (1.20.0)\n",
      "Requirement already satisfied: pillow in c:\\users\\saivi\\appdata\\local\\programs\\python\\python39\\lib\\site-packages (from wordcloud) (8.1.0)\n",
      "Requirement already satisfied: matplotlib in c:\\users\\saivi\\appdata\\local\\programs\\python\\python39\\lib\\site-packages (from wordcloud) (3.3.4)\n",
      "Requirement already satisfied: cycler>=0.10 in c:\\users\\saivi\\appdata\\local\\programs\\python\\python39\\lib\\site-packages (from matplotlib->wordcloud) (0.10.0)\n",
      "Requirement already satisfied: kiwisolver>=1.0.1 in c:\\users\\saivi\\appdata\\local\\programs\\python\\python39\\lib\\site-packages (from matplotlib->wordcloud) (1.3.1)\n",
      "Requirement already satisfied: python-dateutil>=2.1 in c:\\users\\saivi\\appdata\\local\\programs\\python\\python39\\lib\\site-packages (from matplotlib->wordcloud) (2.8.1)\n",
      "Requirement already satisfied: pyparsing!=2.0.4,!=2.1.2,!=2.1.6,>=2.0.3 in c:\\users\\saivi\\appdata\\local\\programs\\python\\python39\\lib\\site-packages (from matplotlib->wordcloud) (2.4.7)\n",
      "Requirement already satisfied: six in c:\\users\\saivi\\appdata\\local\\programs\\python\\python39\\lib\\site-packages (from cycler>=0.10->matplotlib->wordcloud) (1.15.0)\n",
      "Note: you may need to restart the kernel to use updated packages.\n"
     ]
    }
   ],
   "source": [
    "#pip install wordcloud"
   ]
  },
  {
   "cell_type": "code",
   "execution_count": 6,
   "id": "initial-fabric",
   "metadata": {},
   "outputs": [
    {
     "data": {
      "text/plain": [
       "[<TarInfo '.' at 0x1cb638e14c0>,\n",
       " <TarInfo './yelp_academic_dataset_user.json' at 0x1cb638e1040>,\n",
       " <TarInfo './yelp_academic_dataset_tip.json' at 0x1cb638e1340>,\n",
       " <TarInfo './yelp_academic_dataset_checkin.json' at 0x1cb638e1580>,\n",
       " <TarInfo './Dataset_User_Agreement.pdf' at 0x1cb638e1640>,\n",
       " <TarInfo './yelp_academic_dataset_business.json' at 0x1cb638e1700>,\n",
       " <TarInfo './yelp_academic_dataset_review.json' at 0x1cb638e17c0>]"
      ]
     },
     "execution_count": 6,
     "metadata": {},
     "output_type": "execute_result"
    }
   ],
   "source": [
    "zf = tarfile.open('yelp_dataset.tar','r') \n",
    "zf.getmembers()"
   ]
  },
  {
   "cell_type": "code",
   "execution_count": 16,
   "id": "optical-width",
   "metadata": {},
   "outputs": [],
   "source": [
    "zf.extract('./yelp_academic_dataset_business.json')"
   ]
  },
  {
   "cell_type": "code",
   "execution_count": 17,
   "id": "ethical-insight",
   "metadata": {},
   "outputs": [],
   "source": [
    "zf.extract('./yelp_academic_dataset_review.json')"
   ]
  },
  {
   "cell_type": "code",
   "execution_count": 7,
   "id": "accepted-monitoring",
   "metadata": {},
   "outputs": [],
   "source": [
    "#Change setting to display all columns and full string\n",
    "pd.set_option('display.max_columns',600)\n",
    "pd.set_option('display.max_colwidth',100)"
   ]
  },
  {
   "cell_type": "markdown",
   "id": "north-phase",
   "metadata": {
    "colab_type": "text",
    "id": "b61mfGggrnat"
   },
   "source": [
    "# Review"
   ]
  },
  {
   "cell_type": "code",
   "execution_count": 10,
   "id": "designed-debut",
   "metadata": {},
   "outputs": [],
   "source": [
    "#Step1:review data: './yelp_academic_dataset_review.json'"
   ]
  },
  {
   "cell_type": "code",
   "execution_count": 8,
   "id": "illegal-combine",
   "metadata": {},
   "outputs": [],
   "source": [
    "review_data = []\n",
    "with open('./yelp_academic_dataset_review.json',encoding=\"utf8\") as f:\n",
    "    for line in f:\n",
    "        review_data.append(json.loads(line))\n",
    "review_df = pd.DataFrame.from_dict(review_data)\n",
    "# Make sure specify : encoding=\"utf8\" to avoid decoding errors"
   ]
  },
  {
   "cell_type": "code",
   "execution_count": 10,
   "id": "affecting-reset",
   "metadata": {},
   "outputs": [
    {
     "name": "stdout",
     "output_type": "stream",
     "text": [
      "                review_id                 user_id             business_id  \\\n",
      "0  xQY8N_XvtGbearJ5X4QryQ  OwjRMXRC0KyPrIlcjaXeFQ  -MhfebM0QIsKt87iDN-FNw   \n",
      "\n",
      "   stars  useful  funny  cool  \\\n",
      "0    2.0       5      0     0   \n",
      "\n",
      "                                                                                                  text  \\\n",
      "0  As someone who has worked with many museums, I was eager to visit this gallery on my most recent...   \n",
      "\n",
      "                  date  \n",
      "0  2015-04-15 05:21:16  \n"
     ]
    }
   ],
   "source": [
    "print(review_df.head(1))"
   ]
  },
  {
   "cell_type": "code",
   "execution_count": 11,
   "id": "coastal-dictionary",
   "metadata": {},
   "outputs": [
    {
     "name": "stdout",
     "output_type": "stream",
     "text": [
      "Index(['review_id', 'user_id', 'business_id', 'stars', 'useful', 'funny',\n",
      "       'cool', 'text', 'date'],\n",
      "      dtype='object')\n",
      "(8021122, 9)\n",
      "<class 'pandas.core.frame.DataFrame'>\n",
      "RangeIndex: 8021122 entries, 0 to 8021121\n",
      "Data columns (total 9 columns):\n",
      " #   Column       Dtype  \n",
      "---  ------       -----  \n",
      " 0   review_id    object \n",
      " 1   user_id      object \n",
      " 2   business_id  object \n",
      " 3   stars        float64\n",
      " 4   useful       int64  \n",
      " 5   funny        int64  \n",
      " 6   cool         int64  \n",
      " 7   text         object \n",
      " 8   date         object \n",
      "dtypes: float64(1), int64(3), object(5)\n",
      "memory usage: 550.8+ MB\n",
      "None\n"
     ]
    }
   ],
   "source": [
    "print(review_df.columns)\n",
    "print(review_df.shape)\n",
    "print(review_df.info())"
   ]
  },
  {
   "cell_type": "code",
   "execution_count": 12,
   "id": "rational-theater",
   "metadata": {},
   "outputs": [
    {
     "name": "stdout",
     "output_type": "stream",
     "text": [
      "False\n",
      "True\n"
     ]
    }
   ],
   "source": [
    "#Are all business id unique?\n",
    "print(review_df.business_id.is_unique) \n",
    "print(review_df.review_id.is_unique) "
   ]
  },
  {
   "cell_type": "code",
   "execution_count": 15,
   "id": "classified-kitty",
   "metadata": {},
   "outputs": [],
   "source": [
    "#Save dataframe as csv file\n",
    "review_df.to_csv(\"review_df.csv\")"
   ]
  },
  {
   "cell_type": "code",
   "execution_count": 16,
   "id": "natural-surrey",
   "metadata": {},
   "outputs": [],
   "source": [
    "#Dealing with 'date' data to check the timeframe of the review dataset\n",
    "review_timeframe = pd.read_csv('review_df.csv',parse_dates=['date'], index_col=['date'])"
   ]
  },
  {
   "cell_type": "code",
   "execution_count": null,
   "id": "little-notification",
   "metadata": {},
   "outputs": [],
   "source": [
    "print(review_timeframe.columns)\n",
    "print(review_timeframe.shape)\n",
    "print(review_timeframe.info())"
   ]
  },
  {
   "cell_type": "code",
   "execution_count": 89,
   "id": "competent-craft",
   "metadata": {},
   "outputs": [
    {
     "data": {
      "text/html": [
       "<div>\n",
       "<style scoped>\n",
       "    .dataframe tbody tr th:only-of-type {\n",
       "        vertical-align: middle;\n",
       "    }\n",
       "\n",
       "    .dataframe tbody tr th {\n",
       "        vertical-align: top;\n",
       "    }\n",
       "\n",
       "    .dataframe thead th {\n",
       "        text-align: right;\n",
       "    }\n",
       "</style>\n",
       "<table border=\"1\" class=\"dataframe\">\n",
       "  <thead>\n",
       "    <tr style=\"text-align: right;\">\n",
       "      <th></th>\n",
       "      <th>Unnamed: 0</th>\n",
       "      <th>review_id</th>\n",
       "      <th>user_id</th>\n",
       "      <th>business_id</th>\n",
       "      <th>stars</th>\n",
       "      <th>useful</th>\n",
       "      <th>funny</th>\n",
       "      <th>cool</th>\n",
       "      <th>text</th>\n",
       "    </tr>\n",
       "    <tr>\n",
       "      <th>date</th>\n",
       "      <th></th>\n",
       "      <th></th>\n",
       "      <th></th>\n",
       "      <th></th>\n",
       "      <th></th>\n",
       "      <th></th>\n",
       "      <th></th>\n",
       "      <th></th>\n",
       "      <th></th>\n",
       "    </tr>\n",
       "  </thead>\n",
       "  <tbody>\n",
       "    <tr>\n",
       "      <th>2015-04-15 05:21:16</th>\n",
       "      <td>0</td>\n",
       "      <td>xQY8N_XvtGbearJ5X4QryQ</td>\n",
       "      <td>OwjRMXRC0KyPrIlcjaXeFQ</td>\n",
       "      <td>-MhfebM0QIsKt87iDN-FNw</td>\n",
       "      <td>2.0</td>\n",
       "      <td>5</td>\n",
       "      <td>0</td>\n",
       "      <td>0</td>\n",
       "      <td>As someone who has worked with many museums, I was eager to visit this gallery on my most recent trip to Las Vegas. When I saw they would be showing infamous eggs of the House of Faberge from the Virginia Museum of Fine Arts (VMFA), I knew I had to go!\\n\\nTucked away near the gelateria and the garden, the Gallery is pretty much hidden from view. It's what real estate agents would call \"cozy\" or \"charming\" - basically any euphemism for small.\\n\\nThat being said, you can still see wonderful art at a gallery of any size, so why the two *s you ask? Let me tell you:\\n\\n* pricing for this, while relatively inexpensive for a Las Vegas attraction, is completely over the top. For the space and the amount of art you can fit in there, it is a bit much.\\n* it's not kid friendly at all. Seriously, don't bring them.\\n* the security is not trained properly for the show. When the curating and design teams collaborate for exhibitions, there is a definite flow. That means visitors should view the art in a certain sequence, whether it be by historical period or cultural significance (this is how audio guides are usually developed). When I arrived in the gallery I could not tell where to start, and security was certainly not helpful. I was told to \"just look around\" and \"do whatever.\" \\n\\nAt such a *fine* institution, I find the lack of knowledge and respect for the art appalling.</td>\n",
       "    </tr>\n",
       "  </tbody>\n",
       "</table>\n",
       "</div>"
      ],
      "text/plain": [
       "                     Unnamed: 0               review_id  \\\n",
       "date                                                      \n",
       "2015-04-15 05:21:16           0  xQY8N_XvtGbearJ5X4QryQ   \n",
       "\n",
       "                                    user_id             business_id  stars  \\\n",
       "date                                                                         \n",
       "2015-04-15 05:21:16  OwjRMXRC0KyPrIlcjaXeFQ  -MhfebM0QIsKt87iDN-FNw    2.0   \n",
       "\n",
       "                     useful  funny  cool  \\\n",
       "date                                       \n",
       "2015-04-15 05:21:16       5      0     0   \n",
       "\n",
       "                                                                                                                                                                                                                                                                                                                                                                                                                                                                                                                                                                                                                                                                                                                                                                                                                                                                                                                                                                                                                                                                                                                                                                                                                                                                                                                                                                                                                                                        text  \n",
       "date                                                                                                                                                                                                                                                                                                                                                                                                                                                                                                                                                                                                                                                                                                                                                                                                                                                                                                                                                                                                                                                                                                                                                                                                                                                                                                                                                                                                                                                          \n",
       "2015-04-15 05:21:16  As someone who has worked with many museums, I was eager to visit this gallery on my most recent trip to Las Vegas. When I saw they would be showing infamous eggs of the House of Faberge from the Virginia Museum of Fine Arts (VMFA), I knew I had to go!\\n\\nTucked away near the gelateria and the garden, the Gallery is pretty much hidden from view. It's what real estate agents would call \"cozy\" or \"charming\" - basically any euphemism for small.\\n\\nThat being said, you can still see wonderful art at a gallery of any size, so why the two *s you ask? Let me tell you:\\n\\n* pricing for this, while relatively inexpensive for a Las Vegas attraction, is completely over the top. For the space and the amount of art you can fit in there, it is a bit much.\\n* it's not kid friendly at all. Seriously, don't bring them.\\n* the security is not trained properly for the show. When the curating and design teams collaborate for exhibitions, there is a definite flow. That means visitors should view the art in a certain sequence, whether it be by historical period or cultural significance (this is how audio guides are usually developed). When I arrived in the gallery I could not tell where to start, and security was certainly not helpful. I was told to \"just look around\" and \"do whatever.\" \\n\\nAt such a *fine* institution, I find the lack of knowledge and respect for the art appalling.  "
      ]
     },
     "execution_count": 89,
     "metadata": {},
     "output_type": "execute_result"
    }
   ],
   "source": [
    "review_timeframe.head(1)"
   ]
  },
  {
   "cell_type": "code",
   "execution_count": 17,
   "id": "careful-rubber",
   "metadata": {},
   "outputs": [
    {
     "name": "stdout",
     "output_type": "stream",
     "text": [
      "2004-10-12 10:13:32\n"
     ]
    }
   ],
   "source": [
    "# Check min value of index \n",
    "print(review_timeframe.index.min())"
   ]
  },
  {
   "cell_type": "code",
   "execution_count": 91,
   "id": "seasonal-syntax",
   "metadata": {},
   "outputs": [
    {
     "name": "stdout",
     "output_type": "stream",
     "text": [
      "2019-12-13 15:51:19\n"
     ]
    }
   ],
   "source": [
    "# Check max value of index \n",
    "print(review_timeframe.index.max())"
   ]
  },
  {
   "cell_type": "code",
   "execution_count": 92,
   "id": "empty-while",
   "metadata": {},
   "outputs": [
    {
     "name": "stdout",
     "output_type": "stream",
     "text": [
      "Total star1 reviews: 1283897, percentage:16%\n",
      "Total star2 reviews: 635072, percentage:8%\n",
      "Total star3 reviews: 842289, percentage:11%\n",
      "Total star4 reviews: 1673404, percentage:21%\n",
      "Total star5 reviews: 3586460, percentage:45%\n",
      "Total reviews: 8021122\n"
     ]
    }
   ],
   "source": [
    "#Distribution of reviews from star 1 to star 5:\n",
    "\n",
    "star1_reviews = len(review_timeframe[review_timeframe[\"stars\"]==1])\n",
    "star2_reviews = len(review_timeframe[review_timeframe[\"stars\"]==2])\n",
    "star3_reviews = len(review_timeframe[review_timeframe[\"stars\"]==3])\n",
    "star4_reviews = len(review_timeframe[review_timeframe[\"stars\"]==4])\n",
    "star5_reviews = len(review_timeframe[review_timeframe[\"stars\"]==5])\n",
    "total_reviews = len(review_timeframe)\n",
    "star1_percentage = star1_reviews/total_reviews\n",
    "star2_percentage = star2_reviews/total_reviews\n",
    "star3_percentage = star3_reviews/total_reviews\n",
    "star4_percentage = star4_reviews/total_reviews\n",
    "star5_percentage = star5_reviews/total_reviews\n",
    "\n",
    "print(\"Total star1 reviews: {}, percentage:{:.0%}\".format(star1_reviews,star1_percentage))\n",
    "print(\"Total star2 reviews: {}, percentage:{:.0%}\".format(star2_reviews,star2_percentage))\n",
    "print(\"Total star3 reviews: {}, percentage:{:.0%}\".format(star3_reviews,star3_percentage))\n",
    "print(\"Total star4 reviews: {}, percentage:{:.0%}\".format(star4_reviews,star4_percentage))\n",
    "print(\"Total star5 reviews: {}, percentage:{:.0%}\".format(star5_reviews,star5_percentage))\n",
    "print(\"Total reviews: {}\".format(total_reviews))"
   ]
  },
  {
   "cell_type": "code",
   "execution_count": 95,
   "id": "peripheral-comment",
   "metadata": {},
   "outputs": [
    {
     "data": {
      "text/plain": [
       "<AxesSubplot:xlabel='stars', ylabel='Count'>"
      ]
     },
     "execution_count": 95,
     "metadata": {},
     "output_type": "execute_result"
    },
    {
     "data": {
      "image/png": "[encoded data removed]",
      "text/plain": [
       "<Figure size 864x288 with 1 Axes>"
      ]
     },
     "metadata": {},
     "output_type": "display_data"
    }
   ],
   "source": [
    "#Visualize distribution of review ratings:\n",
    "sns.histplot(review_timeframe.stars)"
   ]
  },
  {
   "cell_type": "code",
   "execution_count": 11,
   "id": "korean-marina",
   "metadata": {},
   "outputs": [
    {
     "name": "stdout",
     "output_type": "stream",
     "text": [
      "review_id      0\n",
      "user_id        0\n",
      "business_id    0\n",
      "stars          0\n",
      "useful         0\n",
      "funny          0\n",
      "cool           0\n",
      "text           0\n",
      "date           0\n",
      "dtype: int64\n"
     ]
    }
   ],
   "source": [
    "print(review_df.isnull().sum().sort_values(ascending=False))"
   ]
  },
  {
   "cell_type": "code",
   "execution_count": 9,
   "id": "realistic-subdivision",
   "metadata": {},
   "outputs": [],
   "source": [
    "review_final = review_df[['review_id', 'business_id', 'stars', 'text','date']]\n",
    "review_final = review_final.rename(columns={'stars':'review_stars', 'text':'review_text'})"
   ]
  },
  {
   "cell_type": "code",
   "execution_count": 13,
   "id": "buried-secret",
   "metadata": {},
   "outputs": [
    {
     "data": {
      "text/html": [
       "<div>\n",
       "<style scoped>\n",
       "    .dataframe tbody tr th:only-of-type {\n",
       "        vertical-align: middle;\n",
       "    }\n",
       "\n",
       "    .dataframe tbody tr th {\n",
       "        vertical-align: top;\n",
       "    }\n",
       "\n",
       "    .dataframe thead th {\n",
       "        text-align: right;\n",
       "    }\n",
       "</style>\n",
       "<table border=\"1\" class=\"dataframe\">\n",
       "  <thead>\n",
       "    <tr style=\"text-align: right;\">\n",
       "      <th></th>\n",
       "      <th>review_id</th>\n",
       "      <th>business_id</th>\n",
       "      <th>review_stars</th>\n",
       "      <th>review_text</th>\n",
       "      <th>date</th>\n",
       "    </tr>\n",
       "  </thead>\n",
       "  <tbody>\n",
       "    <tr>\n",
       "      <th>0</th>\n",
       "      <td>xQY8N_XvtGbearJ5X4QryQ</td>\n",
       "      <td>-MhfebM0QIsKt87iDN-FNw</td>\n",
       "      <td>2.0</td>\n",
       "      <td>As someone who has worked with many museums, I was eager to visit this gallery on my most recent...</td>\n",
       "      <td>2015-04-15 05:21:16</td>\n",
       "    </tr>\n",
       "  </tbody>\n",
       "</table>\n",
       "</div>"
      ],
      "text/plain": [
       "                review_id             business_id  review_stars  \\\n",
       "0  xQY8N_XvtGbearJ5X4QryQ  -MhfebM0QIsKt87iDN-FNw           2.0   \n",
       "\n",
       "                                                                                           review_text  \\\n",
       "0  As someone who has worked with many museums, I was eager to visit this gallery on my most recent...   \n",
       "\n",
       "                  date  \n",
       "0  2015-04-15 05:21:16  "
      ]
     },
     "execution_count": 13,
     "metadata": {},
     "output_type": "execute_result"
    }
   ],
   "source": [
    "review_final.head(1)"
   ]
  },
  {
   "cell_type": "markdown",
   "id": "juvenile-combining",
   "metadata": {
    "colab_type": "text",
    "id": "xdFFyAnN3D9v"
   },
   "source": [
    "# Business"
   ]
  },
  {
   "cell_type": "code",
   "execution_count": null,
   "id": "likely-silly",
   "metadata": {},
   "outputs": [],
   "source": [
    "#Step 2: business data : './yelp_academic_dataset_business.json'"
   ]
  },
  {
   "cell_type": "code",
   "execution_count": 10,
   "id": "instructional-algeria",
   "metadata": {},
   "outputs": [],
   "source": [
    "business_data = []\n",
    "with open('./yelp_academic_dataset_business.json',encoding=\"utf8\") as f:\n",
    "    for line in f:\n",
    "        business_data.append(json.loads(line))\n",
    "business_df = pd.DataFrame.from_dict(business_data)"
   ]
  },
  {
   "cell_type": "code",
   "execution_count": 15,
   "id": "editorial-salem",
   "metadata": {},
   "outputs": [
    {
     "data": {
      "text/plain": [
       "209393"
      ]
     },
     "execution_count": 15,
     "metadata": {},
     "output_type": "execute_result"
    }
   ],
   "source": [
    "len(business_df)"
   ]
  },
  {
   "cell_type": "code",
   "execution_count": 16,
   "id": "olive-clinic",
   "metadata": {},
   "outputs": [
    {
     "name": "stdout",
     "output_type": "stream",
     "text": [
      "Index(['business_id', 'name', 'address', 'city', 'state', 'postal_code',\n",
      "       'latitude', 'longitude', 'stars', 'review_count', 'is_open',\n",
      "       'attributes', 'categories', 'hours'],\n",
      "      dtype='object')\n",
      "(209393, 14)\n"
     ]
    }
   ],
   "source": [
    "#Overview of the datastruction on business_df\n",
    "print(business_df.columns)\n",
    "print(business_df.shape)"
   ]
  },
  {
   "cell_type": "code",
   "execution_count": 17,
   "id": "parliamentary-twelve",
   "metadata": {},
   "outputs": [
    {
     "name": "stdout",
     "output_type": "stream",
     "text": [
      "hours           44843\n",
      "attributes      29045\n",
      "categories        524\n",
      "business_id         0\n",
      "name                0\n",
      "address             0\n",
      "city                0\n",
      "state               0\n",
      "postal_code         0\n",
      "latitude            0\n",
      "longitude           0\n",
      "stars               0\n",
      "review_count        0\n",
      "is_open             0\n",
      "dtype: int64\n"
     ]
    }
   ],
   "source": [
    "#Check Null values:\n",
    "print(business_df.isnull().sum().sort_values(ascending=False))"
   ]
  },
  {
   "cell_type": "code",
   "execution_count": 24,
   "id": "convinced-fountain",
   "metadata": {},
   "outputs": [
    {
     "name": "stdout",
     "output_type": "stream",
     "text": [
      "True\n"
     ]
    }
   ],
   "source": [
    "#Are all business ids unique?\n",
    "print(business_df.business_id.is_unique) \n",
    "#business id is unique"
   ]
  },
  {
   "cell_type": "code",
   "execution_count": 25,
   "id": "yellow-manor",
   "metadata": {},
   "outputs": [
    {
     "name": "stdout",
     "output_type": "stream",
     "text": [
      "Las Vegas              31631\n",
      "Toronto                20366\n",
      "Phoenix                20171\n",
      "Charlotte              10422\n",
      "Scottsdale              9342\n",
      "                       ...  \n",
      "Norval                     1\n",
      "Le Sud-Ouest               1\n",
      "Leeds                      1\n",
      "Nottingham Township        1\n",
      "Scarobrough                1\n",
      "Name: city, Length: 1251, dtype: int64\n"
     ]
    }
   ],
   "source": [
    "print(business_df.city.value_counts())\n",
    "#Total 1251 cities, top three cities: Las Vegas, Toronto, Phoenix"
   ]
  },
  {
   "cell_type": "code",
   "execution_count": 26,
   "id": "completed-jacob",
   "metadata": {},
   "outputs": [],
   "source": [
    "#Visualize Number of business listed in different cities\n",
    "city_business_counts = business_df[['city', 'business_id']].groupby(['city'])['business_id'].agg('count').sort_values(ascending=False)\n",
    "city_business_counts = pd.DataFrame(data=city_business_counts)\n",
    "city_business_counts.rename(columns={'business_id' : 'number_of_businesses'}, inplace=True)"
   ]
  },
  {
   "cell_type": "code",
   "execution_count": 27,
   "id": "outer-works",
   "metadata": {},
   "outputs": [
    {
     "data": {
      "text/plain": [
       "Text(0.5, 1.0, 'Top 50 cities by businesses listed')"
      ]
     },
     "execution_count": 27,
     "metadata": {},
     "output_type": "execute_result"
    },
    {
     "data": {
      "image/png": "[encoded data removed]",
      "text/plain": [
       "<Figure size 720x720 with 1 Axes>"
      ]
     },
     "metadata": {},
     "output_type": "display_data"
    }
   ],
   "source": [
    "city_business_counts[0:50].sort_values(ascending=False, by=\"number_of_businesses\")\\\n",
    ".plot(kind='barh', stacked=False, figsize=[10,10], colormap='winter')\n",
    "plt.title('Top 50 cities by businesses listed')"
   ]
  },
  {
   "cell_type": "code",
   "execution_count": 28,
   "id": "serial-presentation",
   "metadata": {},
   "outputs": [
    {
     "name": "stdout",
     "output_type": "stream",
     "text": [
      "4.0    39199\n",
      "3.5    38079\n",
      "4.5    29940\n",
      "3.0    28634\n",
      "5.0    27080\n",
      "2.5    21435\n",
      "2.0    13124\n",
      "1.5     6004\n",
      "1.0     5898\n",
      "Name: stars, dtype: int64\n"
     ]
    }
   ],
   "source": [
    "#Distribution of stars\n",
    "print(business_df['stars'].value_counts())"
   ]
  },
  {
   "cell_type": "code",
   "execution_count": 29,
   "id": "animal-piano",
   "metadata": {},
   "outputs": [
    {
     "data": {
      "text/plain": [
       "<AxesSubplot:xlabel='stars', ylabel='Count'>"
      ]
     },
     "execution_count": 29,
     "metadata": {},
     "output_type": "execute_result"
    },
    {
     "data": {
      "image/png": "[encoded data removed]",
      "text/plain": [
       "<Figure size 864x288 with 1 Axes>"
      ]
     },
     "metadata": {},
     "output_type": "display_data"
    }
   ],
   "source": [
    "sns.histplot(business_df.stars)"
   ]
  },
  {
   "cell_type": "code",
   "execution_count": 11,
   "id": "interesting-supply",
   "metadata": {},
   "outputs": [],
   "source": [
    "#Remove rows that have null values in categories\n",
    "business_df = business_df[business_df['categories'].notna()]"
   ]
  },
  {
   "cell_type": "code",
   "execution_count": 19,
   "id": "corrected-antarctica",
   "metadata": {},
   "outputs": [
    {
     "data": {
      "text/plain": [
       "0    {'BusinessAcceptsCreditCards': 'True', 'BikeParking': 'True', 'GoodForKids': 'False', 'BusinessP...\n",
       "Name: attributes, dtype: object"
      ]
     },
     "execution_count": 19,
     "metadata": {},
     "output_type": "execute_result"
    }
   ],
   "source": [
    "business_df.head(1).attributes"
   ]
  },
  {
   "cell_type": "code",
   "execution_count": 32,
   "id": "divine-authorization",
   "metadata": {},
   "outputs": [
    {
     "name": "stdout",
     "output_type": "stream",
     "text": [
      "There are  2528  different types/categories of Businesses in Yelp!\n"
     ]
    }
   ],
   "source": [
    "#How many business categories in total?\n",
    "business_cats=','.join(business_df['categories'])\n",
    "cats=pd.DataFrame(business_cats.split(','),columns=['category'])\n",
    "x=cats.category.value_counts()\n",
    "print(\"There are \",len(x),\" different types/categories of Businesses in Yelp!\")"
   ]
  },
  {
   "cell_type": "code",
   "execution_count": 28,
   "id": "buried-birth",
   "metadata": {},
   "outputs": [],
   "source": [
    "#For the purpose of this analysis, we will focus only on \"Restaurant\"\n",
    "#Below is the steps taken to filter data with 'categories' cantains 'Restarurnt'\n",
    "#Note:below coding can also be used to filer data based on other attributes, e.g. city"
   ]
  },
  {
   "cell_type": "code",
   "execution_count": 12,
   "id": "disciplinary-fossil",
   "metadata": {},
   "outputs": [
    {
     "name": "stdout",
     "output_type": "stream",
     "text": [
      "['Ethnic Food, Food Trucks, Specialty Food, Imported Food, Argentine, Food, Restaurants, Empanadas', 'Food, Restaurants, Grocery, Middle Eastern', 'Restaurants, Cheesesteaks, Poutineries', 'Japanese, Fast Food, Food Court, Restaurants', 'Persian/Iranian, Turkish, Middle Eastern, Restaurants, Kebab']\n"
     ]
    }
   ],
   "source": [
    "#First create a filtering list\n",
    "restaurant_cat = []\n",
    "for c in business_df['categories']:\n",
    "    if 'Restaurant'in str(c):\n",
    "        restaurant_cat.append(c)\n",
    "print(restaurant_cat[:5])"
   ]
  },
  {
   "cell_type": "code",
   "execution_count": 14,
   "id": "bizarre-wesley",
   "metadata": {},
   "outputs": [
    {
     "name": "stdout",
     "output_type": "stream",
     "text": [
      "63961\n"
     ]
    }
   ],
   "source": [
    "#Filter data with the list created\n",
    "restaurant_df = business_df.loc[business_df['categories'].isin(restaurant_cat)]\n",
    "print(len(restaurant_df))"
   ]
  },
  {
   "cell_type": "code",
   "execution_count": 22,
   "id": "annoying-trinidad",
   "metadata": {},
   "outputs": [
    {
     "name": "stdout",
     "output_type": "stream",
     "text": [
      "True\n"
     ]
    }
   ],
   "source": [
    "print(restaurant_df.business_id.is_unique) "
   ]
  },
  {
   "cell_type": "code",
   "execution_count": 23,
   "id": "basic-liability",
   "metadata": {},
   "outputs": [
    {
     "data": {
      "text/plain": [
       "Toronto           8681\n",
       "Las Vegas         6937\n",
       "Phoenix           4221\n",
       "Montréal          4097\n",
       "Calgary           3117\n",
       "                  ... \n",
       "Sunrise Manor        1\n",
       "Schottsdale          1\n",
       "Troy Township        1\n",
       "Garfield Hts.        1\n",
       "Sainte-thérèse       1\n",
       "Name: city, Length: 813, dtype: int64"
      ]
     },
     "execution_count": 23,
     "metadata": {},
     "output_type": "execute_result"
    }
   ],
   "source": [
    "restaurant_df['city'].value_counts(dropna=False)"
   ]
  },
  {
   "cell_type": "code",
   "execution_count": 15,
   "id": "severe-pearl",
   "metadata": {},
   "outputs": [],
   "source": [
    "# Toronto restaurant only\n",
    "restaurant_TO = restaurant_df.loc[restaurant_df['city'] == 'Toronto']"
   ]
  },
  {
   "cell_type": "code",
   "execution_count": 25,
   "id": "listed-satisfaction",
   "metadata": {},
   "outputs": [
    {
     "data": {
      "text/plain": [
       "8681"
      ]
     },
     "execution_count": 25,
     "metadata": {},
     "output_type": "execute_result"
    }
   ],
   "source": [
    "len(restaurant_TO)"
   ]
  },
  {
   "cell_type": "code",
   "execution_count": 39,
   "id": "typical-offense",
   "metadata": {},
   "outputs": [
    {
     "data": {
      "text/html": [
       "<div>\n",
       "<style scoped>\n",
       "    .dataframe tbody tr th:only-of-type {\n",
       "        vertical-align: middle;\n",
       "    }\n",
       "\n",
       "    .dataframe tbody tr th {\n",
       "        vertical-align: top;\n",
       "    }\n",
       "\n",
       "    .dataframe thead th {\n",
       "        text-align: right;\n",
       "    }\n",
       "</style>\n",
       "<table border=\"1\" class=\"dataframe\">\n",
       "  <thead>\n",
       "    <tr style=\"text-align: right;\">\n",
       "      <th></th>\n",
       "      <th>business_id</th>\n",
       "      <th>name</th>\n",
       "      <th>address</th>\n",
       "      <th>city</th>\n",
       "      <th>state</th>\n",
       "      <th>postal_code</th>\n",
       "      <th>latitude</th>\n",
       "      <th>longitude</th>\n",
       "      <th>stars</th>\n",
       "      <th>review_count</th>\n",
       "      <th>is_open</th>\n",
       "      <th>attributes</th>\n",
       "      <th>categories</th>\n",
       "      <th>hours</th>\n",
       "    </tr>\n",
       "  </thead>\n",
       "  <tbody>\n",
       "    <tr>\n",
       "      <th>38</th>\n",
       "      <td>rVBPQdeayMYht4Uv_FOLHg</td>\n",
       "      <td>Gourmet Burger Company</td>\n",
       "      <td>843 Kipling Avenue</td>\n",
       "      <td>Toronto</td>\n",
       "      <td>ON</td>\n",
       "      <td>M8Z 5G9</td>\n",
       "      <td>43.633291</td>\n",
       "      <td>-79.531768</td>\n",
       "      <td>3.0</td>\n",
       "      <td>13</td>\n",
       "      <td>0</td>\n",
       "      <td>{'RestaurantsPriceRange2': '2', 'RestaurantsAttire': 'u'casual'', 'Alcohol': 'u'none'', 'Caters'...</td>\n",
       "      <td>Restaurants, Burgers, Food</td>\n",
       "      <td>None</td>\n",
       "    </tr>\n",
       "  </tbody>\n",
       "</table>\n",
       "</div>"
      ],
      "text/plain": [
       "               business_id                    name             address  \\\n",
       "38  rVBPQdeayMYht4Uv_FOLHg  Gourmet Burger Company  843 Kipling Avenue   \n",
       "\n",
       "       city state postal_code   latitude  longitude  stars  review_count  \\\n",
       "38  Toronto    ON     M8Z 5G9  43.633291 -79.531768    3.0            13   \n",
       "\n",
       "    is_open  \\\n",
       "38        0   \n",
       "\n",
       "                                                                                             attributes  \\\n",
       "38  {'RestaurantsPriceRange2': '2', 'RestaurantsAttire': 'u'casual'', 'Alcohol': 'u'none'', 'Caters'...   \n",
       "\n",
       "                    categories hours  \n",
       "38  Restaurants, Burgers, Food  None  "
      ]
     },
     "execution_count": 39,
     "metadata": {},
     "output_type": "execute_result"
    }
   ],
   "source": [
    "restaurant_TO.head(1)"
   ]
  },
  {
   "cell_type": "code",
   "execution_count": 40,
   "id": "emotional-supplement",
   "metadata": {},
   "outputs": [
    {
     "data": {
      "text/plain": [
       "3      688\n",
       "4      472\n",
       "5      399\n",
       "6      337\n",
       "7      296\n",
       "      ... \n",
       "501      1\n",
       "573      1\n",
       "613      1\n",
       "781      1\n",
       "751      1\n",
       "Name: review_count, Length: 421, dtype: int64"
      ]
     },
     "execution_count": 40,
     "metadata": {},
     "output_type": "execute_result"
    }
   ],
   "source": [
    "restaurant_TO['review_count'].value_counts()"
   ]
  },
  {
   "cell_type": "code",
   "execution_count": 41,
   "id": "encouraging-north",
   "metadata": {},
   "outputs": [
    {
     "data": {
      "text/plain": [
       "<AxesSubplot:xlabel='review_count', ylabel='Count'>"
      ]
     },
     "execution_count": 41,
     "metadata": {},
     "output_type": "execute_result"
    },
    {
     "data": {
      "image/png": "[encoded data removed]",
      "text/plain": [
       "<Figure size 864x288 with 1 Axes>"
      ]
     },
     "metadata": {},
     "output_type": "display_data"
    }
   ],
   "source": [
    "sns.histplot(restaurant_TO['review_count'])"
   ]
  },
  {
   "cell_type": "code",
   "execution_count": 16,
   "id": "wrapped-resistance",
   "metadata": {},
   "outputs": [],
   "source": [
    "restaurant_TO_10plus = restaurant_TO.loc[restaurant_TO['review_count'] >= 10]"
   ]
  },
  {
   "cell_type": "code",
   "execution_count": 27,
   "id": "fabulous-script",
   "metadata": {},
   "outputs": [
    {
     "data": {
      "text/plain": [
       "5979"
      ]
     },
     "execution_count": 27,
     "metadata": {},
     "output_type": "execute_result"
    }
   ],
   "source": [
    "len(restaurant_TO_10plus)"
   ]
  },
  {
   "cell_type": "code",
   "execution_count": 28,
   "id": "affecting-necessity",
   "metadata": {},
   "outputs": [
    {
     "data": {
      "text/html": [
       "<div>\n",
       "<style scoped>\n",
       "    .dataframe tbody tr th:only-of-type {\n",
       "        vertical-align: middle;\n",
       "    }\n",
       "\n",
       "    .dataframe tbody tr th {\n",
       "        vertical-align: top;\n",
       "    }\n",
       "\n",
       "    .dataframe thead th {\n",
       "        text-align: right;\n",
       "    }\n",
       "</style>\n",
       "<table border=\"1\" class=\"dataframe\">\n",
       "  <thead>\n",
       "    <tr style=\"text-align: right;\">\n",
       "      <th></th>\n",
       "      <th>business_id</th>\n",
       "      <th>name</th>\n",
       "      <th>address</th>\n",
       "      <th>city</th>\n",
       "      <th>state</th>\n",
       "      <th>postal_code</th>\n",
       "      <th>latitude</th>\n",
       "      <th>longitude</th>\n",
       "      <th>stars</th>\n",
       "      <th>review_count</th>\n",
       "      <th>is_open</th>\n",
       "      <th>attributes</th>\n",
       "      <th>categories</th>\n",
       "      <th>hours</th>\n",
       "    </tr>\n",
       "  </thead>\n",
       "  <tbody>\n",
       "    <tr>\n",
       "      <th>38</th>\n",
       "      <td>rVBPQdeayMYht4Uv_FOLHg</td>\n",
       "      <td>Gourmet Burger Company</td>\n",
       "      <td>843 Kipling Avenue</td>\n",
       "      <td>Toronto</td>\n",
       "      <td>ON</td>\n",
       "      <td>M8Z 5G9</td>\n",
       "      <td>43.633291</td>\n",
       "      <td>-79.531768</td>\n",
       "      <td>3.0</td>\n",
       "      <td>13</td>\n",
       "      <td>0</td>\n",
       "      <td>{'RestaurantsPriceRange2': '2', 'RestaurantsAttire': 'u'casual'', 'Alcohol': 'u'none'', 'Caters'...</td>\n",
       "      <td>Restaurants, Burgers, Food</td>\n",
       "      <td>None</td>\n",
       "    </tr>\n",
       "  </tbody>\n",
       "</table>\n",
       "</div>"
      ],
      "text/plain": [
       "               business_id                    name             address  \\\n",
       "38  rVBPQdeayMYht4Uv_FOLHg  Gourmet Burger Company  843 Kipling Avenue   \n",
       "\n",
       "       city state postal_code   latitude  longitude  stars  review_count  \\\n",
       "38  Toronto    ON     M8Z 5G9  43.633291 -79.531768    3.0            13   \n",
       "\n",
       "    is_open  \\\n",
       "38        0   \n",
       "\n",
       "                                                                                             attributes  \\\n",
       "38  {'RestaurantsPriceRange2': '2', 'RestaurantsAttire': 'u'casual'', 'Alcohol': 'u'none'', 'Caters'...   \n",
       "\n",
       "                    categories hours  \n",
       "38  Restaurants, Burgers, Food  None  "
      ]
     },
     "execution_count": 28,
     "metadata": {},
     "output_type": "execute_result"
    }
   ],
   "source": [
    "restaurant_TO_10plus.head(1)"
   ]
  },
  {
   "cell_type": "code",
   "execution_count": 18,
   "id": "weird-threshold",
   "metadata": {},
   "outputs": [],
   "source": [
    "restaurant_final = restaurant_TO_10plus[['business_id', 'name', 'city','state','stars','review_count','is_open','attributes','categories']]\n",
    "restaurant_final = restaurant_final.reset_index(drop=True)\n",
    "restaurant_final = restaurant_final.rename(columns={'name':'business_name','stars':'business_stars'})"
   ]
  },
  {
   "cell_type": "code",
   "execution_count": 30,
   "id": "unusual-metallic",
   "metadata": {},
   "outputs": [
    {
     "data": {
      "text/html": [
       "<div>\n",
       "<style scoped>\n",
       "    .dataframe tbody tr th:only-of-type {\n",
       "        vertical-align: middle;\n",
       "    }\n",
       "\n",
       "    .dataframe tbody tr th {\n",
       "        vertical-align: top;\n",
       "    }\n",
       "\n",
       "    .dataframe thead th {\n",
       "        text-align: right;\n",
       "    }\n",
       "</style>\n",
       "<table border=\"1\" class=\"dataframe\">\n",
       "  <thead>\n",
       "    <tr style=\"text-align: right;\">\n",
       "      <th></th>\n",
       "      <th>business_id</th>\n",
       "      <th>business_name</th>\n",
       "      <th>city</th>\n",
       "      <th>state</th>\n",
       "      <th>business_stars</th>\n",
       "      <th>review_count</th>\n",
       "      <th>is_open</th>\n",
       "      <th>attributes</th>\n",
       "      <th>categories</th>\n",
       "    </tr>\n",
       "  </thead>\n",
       "  <tbody>\n",
       "    <tr>\n",
       "      <th>0</th>\n",
       "      <td>rVBPQdeayMYht4Uv_FOLHg</td>\n",
       "      <td>Gourmet Burger Company</td>\n",
       "      <td>Toronto</td>\n",
       "      <td>ON</td>\n",
       "      <td>3.0</td>\n",
       "      <td>13</td>\n",
       "      <td>0</td>\n",
       "      <td>{'RestaurantsPriceRange2': '2', 'RestaurantsAttire': 'u'casual'', 'Alcohol': 'u'none'', 'Caters'...</td>\n",
       "      <td>Restaurants, Burgers, Food</td>\n",
       "    </tr>\n",
       "  </tbody>\n",
       "</table>\n",
       "</div>"
      ],
      "text/plain": [
       "              business_id           business_name     city state  \\\n",
       "0  rVBPQdeayMYht4Uv_FOLHg  Gourmet Burger Company  Toronto    ON   \n",
       "\n",
       "   business_stars  review_count  is_open  \\\n",
       "0             3.0            13        0   \n",
       "\n",
       "                                                                                            attributes  \\\n",
       "0  {'RestaurantsPriceRange2': '2', 'RestaurantsAttire': 'u'casual'', 'Alcohol': 'u'none'', 'Caters'...   \n",
       "\n",
       "                   categories  \n",
       "0  Restaurants, Burgers, Food  "
      ]
     },
     "execution_count": 30,
     "metadata": {},
     "output_type": "execute_result"
    }
   ],
   "source": [
    "restaurant_final.head(1)"
   ]
  },
  {
   "cell_type": "code",
   "execution_count": 47,
   "id": "passing-chart",
   "metadata": {},
   "outputs": [
    {
     "data": {
      "text/plain": [
       "McDonald's                         38\n",
       "Aroma Espresso Bar                 20\n",
       "Pizzaiolo                          20\n",
       "Swiss Chalet Rotisserie & Grill    20\n",
       "Freshii                            20\n",
       "                                   ..\n",
       "Buca Yorkville                      1\n",
       "Randy's Roti & Doubles              1\n",
       "The Victorian Monkey                1\n",
       "Darbar Persian Grill                1\n",
       "0109 Dessert & Chocolate            1\n",
       "Name: business_name, Length: 5127, dtype: int64"
      ]
     },
     "execution_count": 47,
     "metadata": {},
     "output_type": "execute_result"
    }
   ],
   "source": [
    "restaurant_final['business_name'].value_counts()"
   ]
  },
  {
   "cell_type": "code",
   "execution_count": 48,
   "id": "typical-craft",
   "metadata": {},
   "outputs": [
    {
     "data": {
      "text/plain": [
       "business_id        0\n",
       "business_name      0\n",
       "city               0\n",
       "state              0\n",
       "business_stars     0\n",
       "review_count       0\n",
       "is_open            0\n",
       "attributes        14\n",
       "categories         0\n",
       "dtype: int64"
      ]
     },
     "execution_count": 48,
     "metadata": {},
     "output_type": "execute_result"
    }
   ],
   "source": [
    "restaurant_final.isnull().sum()"
   ]
  },
  {
   "cell_type": "code",
   "execution_count": 19,
   "id": "psychological-finish",
   "metadata": {},
   "outputs": [],
   "source": [
    "#Remove data which 'attributes' is null\n",
    "restaurant_final = restaurant_final[restaurant_final['attributes'].notna()]"
   ]
  },
  {
   "cell_type": "code",
   "execution_count": 32,
   "id": "spiritual-brighton",
   "metadata": {},
   "outputs": [
    {
     "data": {
      "text/plain": [
       "business_id       0\n",
       "business_name     0\n",
       "city              0\n",
       "state             0\n",
       "business_stars    0\n",
       "review_count      0\n",
       "is_open           0\n",
       "attributes        0\n",
       "categories        0\n",
       "dtype: int64"
      ]
     },
     "execution_count": 32,
     "metadata": {},
     "output_type": "execute_result"
    }
   ],
   "source": [
    "restaurant_final.isnull().sum()"
   ]
  },
  {
   "cell_type": "code",
   "execution_count": 33,
   "id": "declared-russell",
   "metadata": {},
   "outputs": [
    {
     "data": {
      "text/plain": [
       "5965"
      ]
     },
     "execution_count": 33,
     "metadata": {},
     "output_type": "execute_result"
    }
   ],
   "source": [
    "len(restaurant_final)"
   ]
  },
  {
   "cell_type": "code",
   "execution_count": 20,
   "id": "defensive-medicaid",
   "metadata": {},
   "outputs": [
    {
     "name": "stdout",
     "output_type": "stream",
     "text": [
      "Requirement already satisfied: flat-table in c:\\users\\saivi\\appdata\\local\\programs\\python\\python39\\lib\\site-packages (1.1.1)\n",
      "Requirement already satisfied: pandas in c:\\users\\saivi\\appdata\\local\\programs\\python\\python39\\lib\\site-packages (from flat-table) (1.2.1)\n",
      "Requirement already satisfied: numpy in c:\\users\\saivi\\appdata\\local\\programs\\python\\python39\\lib\\site-packages (from flat-table) (1.20.0)\n",
      "Requirement already satisfied: pytz>=2017.3 in c:\\users\\saivi\\appdata\\local\\programs\\python\\python39\\lib\\site-packages (from pandas->flat-table) (2021.1)\n",
      "Requirement already satisfied: python-dateutil>=2.7.3 in c:\\users\\saivi\\appdata\\local\\programs\\python\\python39\\lib\\site-packages (from pandas->flat-table) (2.8.1)\n",
      "Requirement already satisfied: six>=1.5 in c:\\users\\saivi\\appdata\\local\\programs\\python\\python39\\lib\\site-packages (from python-dateutil>=2.7.3->pandas->flat-table) (1.15.0)\n"
     ]
    }
   ],
   "source": [
    "!pip install flat-table"
   ]
  },
  {
   "cell_type": "code",
   "execution_count": 21,
   "id": "applicable-reproduction",
   "metadata": {},
   "outputs": [],
   "source": [
    "import flat_table"
   ]
  },
  {
   "cell_type": "code",
   "execution_count": 22,
   "id": "municipal-dairy",
   "metadata": {},
   "outputs": [],
   "source": [
    "#'attributes' column includes nested-dictionary. Use flat table to flatten nested dictionary\n",
    "df_flatten = flat_table.normalize(restaurant_final,expand_dicts=True, expand_lists=False)"
   ]
  },
  {
   "cell_type": "code",
   "execution_count": 37,
   "id": "egyptian-porter",
   "metadata": {},
   "outputs": [
    {
     "data": {
      "text/html": [
       "<div>\n",
       "<style scoped>\n",
       "    .dataframe tbody tr th:only-of-type {\n",
       "        vertical-align: middle;\n",
       "    }\n",
       "\n",
       "    .dataframe tbody tr th {\n",
       "        vertical-align: top;\n",
       "    }\n",
       "\n",
       "    .dataframe thead th {\n",
       "        text-align: right;\n",
       "    }\n",
       "</style>\n",
       "<table border=\"1\" class=\"dataframe\">\n",
       "  <thead>\n",
       "    <tr style=\"text-align: right;\">\n",
       "      <th></th>\n",
       "      <th>index</th>\n",
       "      <th>business_id</th>\n",
       "      <th>business_name</th>\n",
       "      <th>city</th>\n",
       "      <th>state</th>\n",
       "      <th>business_stars</th>\n",
       "      <th>review_count</th>\n",
       "      <th>is_open</th>\n",
       "      <th>categories</th>\n",
       "      <th>attributes.RestaurantsCounterService</th>\n",
       "      <th>attributes.BusinessAcceptsBitcoin</th>\n",
       "      <th>attributes.AcceptsInsurance</th>\n",
       "      <th>attributes.AgesAllowed</th>\n",
       "      <th>attributes.DietaryRestrictions</th>\n",
       "      <th>attributes.ByAppointmentOnly</th>\n",
       "      <th>attributes.Corkage</th>\n",
       "      <th>attributes.BYOB</th>\n",
       "      <th>attributes.BusinessAcceptsCreditCards</th>\n",
       "      <th>attributes.Smoking</th>\n",
       "      <th>attributes.CoatCheck</th>\n",
       "      <th>attributes.GoodForDancing</th>\n",
       "      <th>attributes.BestNights</th>\n",
       "      <th>attributes.HappyHour</th>\n",
       "      <th>attributes.Music</th>\n",
       "      <th>attributes.WheelchairAccessible</th>\n",
       "      <th>attributes.DogsAllowed</th>\n",
       "      <th>attributes.DriveThru</th>\n",
       "      <th>attributes.RestaurantsTableService</th>\n",
       "      <th>attributes.BikeParking</th>\n",
       "      <th>attributes.GoodForMeal</th>\n",
       "      <th>attributes.OutdoorSeating</th>\n",
       "      <th>attributes.Ambience</th>\n",
       "      <th>attributes.WiFi</th>\n",
       "      <th>attributes.NoiseLevel</th>\n",
       "      <th>attributes.BusinessParking</th>\n",
       "      <th>attributes.RestaurantsReservations</th>\n",
       "      <th>attributes.RestaurantsDelivery</th>\n",
       "      <th>attributes.RestaurantsTakeOut</th>\n",
       "      <th>attributes.RestaurantsGoodForGroups</th>\n",
       "      <th>attributes.GoodForKids</th>\n",
       "      <th>attributes.HasTV</th>\n",
       "      <th>attributes.Caters</th>\n",
       "      <th>attributes.Alcohol</th>\n",
       "      <th>attributes.RestaurantsAttire</th>\n",
       "      <th>attributes.RestaurantsPriceRange2</th>\n",
       "    </tr>\n",
       "  </thead>\n",
       "  <tbody>\n",
       "    <tr>\n",
       "      <th>0</th>\n",
       "      <td>0</td>\n",
       "      <td>rVBPQdeayMYht4Uv_FOLHg</td>\n",
       "      <td>Gourmet Burger Company</td>\n",
       "      <td>Toronto</td>\n",
       "      <td>ON</td>\n",
       "      <td>3.0</td>\n",
       "      <td>13</td>\n",
       "      <td>0</td>\n",
       "      <td>Restaurants, Burgers, Food</td>\n",
       "      <td>NaN</td>\n",
       "      <td>NaN</td>\n",
       "      <td>NaN</td>\n",
       "      <td>NaN</td>\n",
       "      <td>NaN</td>\n",
       "      <td>NaN</td>\n",
       "      <td>NaN</td>\n",
       "      <td>NaN</td>\n",
       "      <td>NaN</td>\n",
       "      <td>NaN</td>\n",
       "      <td>NaN</td>\n",
       "      <td>NaN</td>\n",
       "      <td>NaN</td>\n",
       "      <td>NaN</td>\n",
       "      <td>NaN</td>\n",
       "      <td>NaN</td>\n",
       "      <td>NaN</td>\n",
       "      <td>NaN</td>\n",
       "      <td>NaN</td>\n",
       "      <td>NaN</td>\n",
       "      <td>NaN</td>\n",
       "      <td>False</td>\n",
       "      <td>{'romantic': False, 'intimate': False, 'classy': False, 'hipster': False, 'divey': False, 'touri...</td>\n",
       "      <td>'no'</td>\n",
       "      <td>u'average'</td>\n",
       "      <td>{'garage': False, 'street': False, 'validated': False, 'lot': True, 'valet': False}</td>\n",
       "      <td>False</td>\n",
       "      <td>False</td>\n",
       "      <td>True</td>\n",
       "      <td>True</td>\n",
       "      <td>True</td>\n",
       "      <td>False</td>\n",
       "      <td>False</td>\n",
       "      <td>u'none'</td>\n",
       "      <td>u'casual'</td>\n",
       "      <td>2</td>\n",
       "    </tr>\n",
       "  </tbody>\n",
       "</table>\n",
       "</div>"
      ],
      "text/plain": [
       "   index             business_id           business_name     city state  \\\n",
       "0      0  rVBPQdeayMYht4Uv_FOLHg  Gourmet Burger Company  Toronto    ON   \n",
       "\n",
       "   business_stars  review_count  is_open                  categories  \\\n",
       "0             3.0            13        0  Restaurants, Burgers, Food   \n",
       "\n",
       "  attributes.RestaurantsCounterService attributes.BusinessAcceptsBitcoin  \\\n",
       "0                                  NaN                               NaN   \n",
       "\n",
       "  attributes.AcceptsInsurance attributes.AgesAllowed  \\\n",
       "0                         NaN                    NaN   \n",
       "\n",
       "  attributes.DietaryRestrictions attributes.ByAppointmentOnly  \\\n",
       "0                            NaN                          NaN   \n",
       "\n",
       "  attributes.Corkage attributes.BYOB attributes.BusinessAcceptsCreditCards  \\\n",
       "0                NaN             NaN                                   NaN   \n",
       "\n",
       "  attributes.Smoking attributes.CoatCheck attributes.GoodForDancing  \\\n",
       "0                NaN                  NaN                       NaN   \n",
       "\n",
       "  attributes.BestNights attributes.HappyHour attributes.Music  \\\n",
       "0                   NaN                  NaN              NaN   \n",
       "\n",
       "  attributes.WheelchairAccessible attributes.DogsAllowed attributes.DriveThru  \\\n",
       "0                             NaN                    NaN                  NaN   \n",
       "\n",
       "  attributes.RestaurantsTableService attributes.BikeParking  \\\n",
       "0                                NaN                    NaN   \n",
       "\n",
       "  attributes.GoodForMeal attributes.OutdoorSeating  \\\n",
       "0                    NaN                     False   \n",
       "\n",
       "                                                                                   attributes.Ambience  \\\n",
       "0  {'romantic': False, 'intimate': False, 'classy': False, 'hipster': False, 'divey': False, 'touri...   \n",
       "\n",
       "  attributes.WiFi attributes.NoiseLevel  \\\n",
       "0            'no'            u'average'   \n",
       "\n",
       "                                                            attributes.BusinessParking  \\\n",
       "0  {'garage': False, 'street': False, 'validated': False, 'lot': True, 'valet': False}   \n",
       "\n",
       "  attributes.RestaurantsReservations attributes.RestaurantsDelivery  \\\n",
       "0                              False                          False   \n",
       "\n",
       "  attributes.RestaurantsTakeOut attributes.RestaurantsGoodForGroups  \\\n",
       "0                          True                                True   \n",
       "\n",
       "  attributes.GoodForKids attributes.HasTV attributes.Caters  \\\n",
       "0                   True            False             False   \n",
       "\n",
       "  attributes.Alcohol attributes.RestaurantsAttire  \\\n",
       "0            u'none'                    u'casual'   \n",
       "\n",
       "  attributes.RestaurantsPriceRange2  \n",
       "0                                 2  "
      ]
     },
     "execution_count": 37,
     "metadata": {},
     "output_type": "execute_result"
    }
   ],
   "source": [
    "df_flatten.head(1)"
   ]
  },
  {
   "cell_type": "code",
   "execution_count": 38,
   "id": "eastern-mounting",
   "metadata": {},
   "outputs": [
    {
     "data": {
      "text/plain": [
       "{'romantic': 'False',\n",
       " 'intimate': 'False',\n",
       " 'classy': 'False',\n",
       " 'hipster': 'False',\n",
       " 'divey': 'False',\n",
       " 'touristy': 'False',\n",
       " 'trendy': 'False',\n",
       " 'upscale': 'False',\n",
       " 'casual': 'True'}"
      ]
     },
     "execution_count": 38,
     "metadata": {},
     "output_type": "execute_result"
    }
   ],
   "source": [
    "#Notice that only first level of the nested dictionary is flattened. Some attributes like 'BusinessParking' still has dictionary in the column\n",
    "#The cause of this: the whole second-level dictionary is a string and the value of the dictionary does not has \"''\" and so not treated as string\n",
    "#Following code is a testing code to add \"''\" to the value of the dictionary \n",
    "json.loads(df_flatten.head(1)['attributes.Ambience'][0].replace(\"\\'\", \"\\\"\").replace(\": \",\":\\\"\").replace(\",\",\"\\\",\").replace(\"}\",\"\\\"}\"))"
   ]
  },
  {
   "cell_type": "code",
   "execution_count": 23,
   "id": "intelligent-robert",
   "metadata": {},
   "outputs": [],
   "source": [
    "#Below code is to convert value of the sub-dictionary to datatype ‘str'\n",
    "# data fix for 'BusinessParking'\n",
    "import re\n",
    "# iterate each row in restaurant_final to fix 'BusinessParking' data\n",
    "for index,row in restaurant_final.iterrows():\n",
    "    # if BusinessParking has a nested sub-dict\n",
    "    #     convert it to json and replace the original\n",
    "    if(row.attributes is not None and isinstance(row.attributes, dict) and 'BusinessParking' in row.attributes.keys() and isinstance(row.attributes['BusinessParking'], str) and row.attributes['BusinessParking']!='None'):\n",
    "        bp_str = re.sub(\":\\s(\\w+)\",\":'\\\\1'\",row.attributes['BusinessParking']).replace(\"'\",\"\\\"\")\n",
    "        row.attributes['BusinessParking'] = json.loads(bp_str)\n",
    "#restaurant_final.head(2)"
   ]
  },
  {
   "cell_type": "code",
   "execution_count": 24,
   "id": "sophisticated-corner",
   "metadata": {},
   "outputs": [],
   "source": [
    "# data fix for 'GoodForMeal'\n",
    "for index,row in restaurant_final.iterrows():\n",
    "    # if GoodForMeal has a nested sub-dict\n",
    "    #     convert it to json and replace the original\n",
    "    if(row.attributes is not None and isinstance(row.attributes, dict) and 'GoodForMeal' in row.attributes.keys() and isinstance(row.attributes['GoodForMeal'], str) and row.attributes['GoodForMeal']!='None'):\n",
    "        bp_str = re.sub(\":\\s(\\w+)\",\":'\\\\1'\",row.attributes['GoodForMeal']).replace(\"'\",\"\\\"\")\n",
    "        row.attributes['GoodForMeal'] = json.loads(bp_str)\n",
    "#restaurant_final.head(2)"
   ]
  },
  {
   "cell_type": "code",
   "execution_count": 25,
   "id": "middle-teach",
   "metadata": {},
   "outputs": [],
   "source": [
    "# data fix for 'Ambience'\n",
    "for index,row in restaurant_final.iterrows():\n",
    "    # if Ambience has a nested sub-dict\n",
    "    #     convert it to json and replace the original\n",
    "    if(row.attributes is not None and isinstance(row.attributes, dict) and 'Ambience' in row.attributes.keys() and isinstance(row.attributes['Ambience'], str) and row.attributes['Ambience']!='None'):\n",
    "        bp_str = re.sub(\":\\s(\\w+)\",\":'\\\\1'\",row.attributes['Ambience']).replace(\"'\",\"\\\"\")\n",
    "        row.attributes['Ambience'] = json.loads(bp_str)\n",
    "#restaurant_final.head(2)"
   ]
  },
  {
   "cell_type": "code",
   "execution_count": 26,
   "id": "alien-complement",
   "metadata": {},
   "outputs": [],
   "source": [
    "# data fix for 'BestNights'\n",
    "for index,row in restaurant_final.iterrows():\n",
    "    # if BestNights has a nested sub-dict\n",
    "    #     convert it to json and replace the original\n",
    "    if(row.attributes is not None and isinstance(row.attributes, dict) and 'BestNights' in row.attributes.keys() and isinstance(row.attributes['BestNights'], str) and row.attributes['BestNights']!='None'):\n",
    "        bp_str = re.sub(\":\\s(\\w+)\",\":'\\\\1'\",row.attributes['BestNights']).replace(\"'\",\"\\\"\")\n",
    "        row.attributes['BestNights'] = json.loads(bp_str)"
   ]
  },
  {
   "cell_type": "code",
   "execution_count": 27,
   "id": "static-catch",
   "metadata": {},
   "outputs": [],
   "source": [
    "# data fix for 'Music'\n",
    "for index,row in restaurant_final.iterrows():\n",
    "    # if Music has a nested sub-dict\n",
    "    #     convert it to json and replace the original\n",
    "    if(row.attributes is not None and isinstance(row.attributes, dict) and 'Music' in row.attributes.keys() and isinstance(row.attributes['Music'], str) and row.attributes['Music']!='None'):\n",
    "        bp_str = re.sub(\":\\s(\\w+)\",\":'\\\\1'\",row.attributes['Music']).replace(\"'\",\"\\\"\")\n",
    "        row.attributes['Music'] = json.loads(bp_str)"
   ]
  },
  {
   "cell_type": "code",
   "execution_count": 28,
   "id": "alpha-craps",
   "metadata": {},
   "outputs": [],
   "source": [
    "# data fix for 'DietaryRestrictions'\n",
    "for index,row in restaurant_final.iterrows():\n",
    "    # if DietaryRestrictions has a nested sub-dict\n",
    "    #     convert it to json and replace the original\n",
    "    if(row.attributes is not None and isinstance(row.attributes, dict) and 'DietaryRestrictions' in row.attributes.keys() and isinstance(row.attributes['DietaryRestrictions'], str) and row.attributes['DietaryRestrictions']!='None'):\n",
    "        bp_str = re.sub(\":\\s(\\w+)\",\":'\\\\1'\",row.attributes['DietaryRestrictions']).replace(\"'\",\"\\\"\")\n",
    "        row.attributes['DietaryRestrictions'] = json.loads(bp_str)"
   ]
  },
  {
   "cell_type": "code",
   "execution_count": 29,
   "id": "mighty-proxy",
   "metadata": {},
   "outputs": [
    {
     "name": "stdout",
     "output_type": "stream",
     "text": [
      "[]\n"
     ]
    }
   ],
   "source": [
    "#To check whether any column has nested-dictionary:\n",
    "errlist = []\n",
    "for index,row in restaurant_final.iterrows():\n",
    "    if(row.attributes is not None):\n",
    "        for k in row.attributes.keys():\n",
    "            if(isinstance(row.attributes[k], str) and \"{\" in row.attributes[k]):\n",
    "                if k not in errlist:\n",
    "                    errlist.append(k)\n",
    "                    print(k)\n",
    "                #print(str(index) +\" - \"+ k+\": \"+row.attributes[k])\n",
    "print(errlist)"
   ]
  },
  {
   "cell_type": "code",
   "execution_count": 30,
   "id": "compressed-mixture",
   "metadata": {},
   "outputs": [],
   "source": [
    "#Now run below code to flatten the sub-dictionaries\n",
    "restaurant_final = flat_table.normalize(restaurant_final,expand_dicts=True, expand_lists=True)"
   ]
  },
  {
   "cell_type": "code",
   "execution_count": 65,
   "id": "extraordinary-banana",
   "metadata": {},
   "outputs": [],
   "source": [
    "restaurant_final.to_csv(\"restaurant_final.csv\")"
   ]
  },
  {
   "cell_type": "code",
   "execution_count": 47,
   "id": "fossil-framework",
   "metadata": {},
   "outputs": [
    {
     "data": {
      "text/html": [
       "<div>\n",
       "<style scoped>\n",
       "    .dataframe tbody tr th:only-of-type {\n",
       "        vertical-align: middle;\n",
       "    }\n",
       "\n",
       "    .dataframe tbody tr th {\n",
       "        vertical-align: top;\n",
       "    }\n",
       "\n",
       "    .dataframe thead th {\n",
       "        text-align: right;\n",
       "    }\n",
       "</style>\n",
       "<table border=\"1\" class=\"dataframe\">\n",
       "  <thead>\n",
       "    <tr style=\"text-align: right;\">\n",
       "      <th></th>\n",
       "      <th>index</th>\n",
       "      <th>business_id</th>\n",
       "      <th>business_name</th>\n",
       "      <th>city</th>\n",
       "      <th>state</th>\n",
       "      <th>business_stars</th>\n",
       "      <th>review_count</th>\n",
       "      <th>is_open</th>\n",
       "      <th>categories</th>\n",
       "      <th>attributes.RestaurantsCounterService</th>\n",
       "      <th>attributes.BusinessAcceptsBitcoin</th>\n",
       "      <th>attributes.AcceptsInsurance</th>\n",
       "      <th>attributes.Music</th>\n",
       "      <th>attributes.AgesAllowed</th>\n",
       "      <th>attributes.GoodForMeal</th>\n",
       "      <th>attributes.DietaryRestrictions.vegetarian</th>\n",
       "      <th>attributes.DietaryRestrictions.soy-free</th>\n",
       "      <th>attributes.DietaryRestrictions.halal</th>\n",
       "      <th>attributes.DietaryRestrictions.kosher</th>\n",
       "      <th>attributes.DietaryRestrictions.vegan</th>\n",
       "      <th>attributes.DietaryRestrictions.gluten-free</th>\n",
       "      <th>attributes.DietaryRestrictions.dairy-free</th>\n",
       "      <th>attributes.Ambience</th>\n",
       "      <th>attributes.ByAppointmentOnly</th>\n",
       "      <th>attributes.Corkage</th>\n",
       "      <th>attributes.BYOB</th>\n",
       "      <th>attributes.BusinessAcceptsCreditCards</th>\n",
       "      <th>attributes.Smoking</th>\n",
       "      <th>attributes.CoatCheck</th>\n",
       "      <th>attributes.BusinessParking</th>\n",
       "      <th>attributes.BestNights.saturday</th>\n",
       "      <th>attributes.BestNights.sunday</th>\n",
       "      <th>attributes.BestNights.thursday</th>\n",
       "      <th>attributes.BestNights.wednesday</th>\n",
       "      <th>attributes.BestNights.friday</th>\n",
       "      <th>attributes.BestNights.tuesday</th>\n",
       "      <th>attributes.BestNights.monday</th>\n",
       "      <th>attributes.Music.karaoke</th>\n",
       "      <th>attributes.Music.video</th>\n",
       "      <th>attributes.Music.live</th>\n",
       "      <th>attributes.Music.jukebox</th>\n",
       "      <th>attributes.Music.no_music</th>\n",
       "      <th>attributes.Music.background_music</th>\n",
       "      <th>attributes.Music.dj</th>\n",
       "      <th>attributes.GoodForDancing</th>\n",
       "      <th>attributes.HappyHour</th>\n",
       "      <th>attributes.WheelchairAccessible</th>\n",
       "      <th>attributes.DogsAllowed</th>\n",
       "      <th>attributes.DriveThru</th>\n",
       "      <th>attributes.GoodForMeal.breakfast</th>\n",
       "      <th>attributes.GoodForMeal.brunch</th>\n",
       "      <th>attributes.GoodForMeal.dinner</th>\n",
       "      <th>attributes.GoodForMeal.lunch</th>\n",
       "      <th>attributes.GoodForMeal.latenight</th>\n",
       "      <th>attributes.GoodForMeal.dessert</th>\n",
       "      <th>attributes.RestaurantsTableService</th>\n",
       "      <th>attributes.BikeParking</th>\n",
       "      <th>attributes.Ambience.casual</th>\n",
       "      <th>attributes.Ambience.upscale</th>\n",
       "      <th>attributes.Ambience.trendy</th>\n",
       "      <th>attributes.Ambience.touristy</th>\n",
       "      <th>attributes.Ambience.divey</th>\n",
       "      <th>attributes.Ambience.hipster</th>\n",
       "      <th>attributes.Ambience.classy</th>\n",
       "      <th>attributes.Ambience.intimate</th>\n",
       "      <th>attributes.Ambience.romantic</th>\n",
       "      <th>attributes.BusinessParking.valet</th>\n",
       "      <th>attributes.BusinessParking.lot</th>\n",
       "      <th>attributes.BusinessParking.validated</th>\n",
       "      <th>attributes.BusinessParking.street</th>\n",
       "      <th>attributes.BusinessParking.garage</th>\n",
       "      <th>attributes.OutdoorSeating</th>\n",
       "      <th>attributes.WiFi</th>\n",
       "      <th>attributes.NoiseLevel</th>\n",
       "      <th>attributes.RestaurantsReservations</th>\n",
       "      <th>attributes.RestaurantsDelivery</th>\n",
       "      <th>attributes.RestaurantsTakeOut</th>\n",
       "      <th>attributes.RestaurantsGoodForGroups</th>\n",
       "      <th>attributes.GoodForKids</th>\n",
       "      <th>attributes.HasTV</th>\n",
       "      <th>attributes.Caters</th>\n",
       "      <th>attributes.Alcohol</th>\n",
       "      <th>attributes.RestaurantsAttire</th>\n",
       "      <th>attributes.RestaurantsPriceRange2</th>\n",
       "    </tr>\n",
       "  </thead>\n",
       "  <tbody>\n",
       "    <tr>\n",
       "      <th>0</th>\n",
       "      <td>0</td>\n",
       "      <td>rVBPQdeayMYht4Uv_FOLHg</td>\n",
       "      <td>Gourmet Burger Company</td>\n",
       "      <td>Toronto</td>\n",
       "      <td>ON</td>\n",
       "      <td>3.0</td>\n",
       "      <td>13</td>\n",
       "      <td>0</td>\n",
       "      <td>Restaurants, Burgers, Food</td>\n",
       "      <td>NaN</td>\n",
       "      <td>NaN</td>\n",
       "      <td>NaN</td>\n",
       "      <td>NaN</td>\n",
       "      <td>NaN</td>\n",
       "      <td>NaN</td>\n",
       "      <td>NaN</td>\n",
       "      <td>NaN</td>\n",
       "      <td>NaN</td>\n",
       "      <td>NaN</td>\n",
       "      <td>NaN</td>\n",
       "      <td>NaN</td>\n",
       "      <td>NaN</td>\n",
       "      <td>NaN</td>\n",
       "      <td>NaN</td>\n",
       "      <td>NaN</td>\n",
       "      <td>NaN</td>\n",
       "      <td>NaN</td>\n",
       "      <td>NaN</td>\n",
       "      <td>NaN</td>\n",
       "      <td>NaN</td>\n",
       "      <td>NaN</td>\n",
       "      <td>NaN</td>\n",
       "      <td>NaN</td>\n",
       "      <td>NaN</td>\n",
       "      <td>NaN</td>\n",
       "      <td>NaN</td>\n",
       "      <td>NaN</td>\n",
       "      <td>NaN</td>\n",
       "      <td>NaN</td>\n",
       "      <td>NaN</td>\n",
       "      <td>NaN</td>\n",
       "      <td>NaN</td>\n",
       "      <td>NaN</td>\n",
       "      <td>NaN</td>\n",
       "      <td>NaN</td>\n",
       "      <td>NaN</td>\n",
       "      <td>NaN</td>\n",
       "      <td>NaN</td>\n",
       "      <td>NaN</td>\n",
       "      <td>NaN</td>\n",
       "      <td>NaN</td>\n",
       "      <td>NaN</td>\n",
       "      <td>NaN</td>\n",
       "      <td>NaN</td>\n",
       "      <td>NaN</td>\n",
       "      <td>NaN</td>\n",
       "      <td>NaN</td>\n",
       "      <td>True</td>\n",
       "      <td>False</td>\n",
       "      <td>False</td>\n",
       "      <td>False</td>\n",
       "      <td>False</td>\n",
       "      <td>False</td>\n",
       "      <td>False</td>\n",
       "      <td>False</td>\n",
       "      <td>False</td>\n",
       "      <td>False</td>\n",
       "      <td>True</td>\n",
       "      <td>False</td>\n",
       "      <td>False</td>\n",
       "      <td>False</td>\n",
       "      <td>False</td>\n",
       "      <td>'no'</td>\n",
       "      <td>u'average'</td>\n",
       "      <td>False</td>\n",
       "      <td>False</td>\n",
       "      <td>True</td>\n",
       "      <td>True</td>\n",
       "      <td>True</td>\n",
       "      <td>False</td>\n",
       "      <td>False</td>\n",
       "      <td>u'none'</td>\n",
       "      <td>u'casual'</td>\n",
       "      <td>2</td>\n",
       "    </tr>\n",
       "  </tbody>\n",
       "</table>\n",
       "</div>"
      ],
      "text/plain": [
       "   index             business_id           business_name     city state  \\\n",
       "0      0  rVBPQdeayMYht4Uv_FOLHg  Gourmet Burger Company  Toronto    ON   \n",
       "\n",
       "   business_stars  review_count  is_open                  categories  \\\n",
       "0             3.0            13        0  Restaurants, Burgers, Food   \n",
       "\n",
       "  attributes.RestaurantsCounterService attributes.BusinessAcceptsBitcoin  \\\n",
       "0                                  NaN                               NaN   \n",
       "\n",
       "  attributes.AcceptsInsurance attributes.Music attributes.AgesAllowed  \\\n",
       "0                         NaN              NaN                    NaN   \n",
       "\n",
       "  attributes.GoodForMeal attributes.DietaryRestrictions.vegetarian  \\\n",
       "0                    NaN                                       NaN   \n",
       "\n",
       "  attributes.DietaryRestrictions.soy-free  \\\n",
       "0                                     NaN   \n",
       "\n",
       "  attributes.DietaryRestrictions.halal attributes.DietaryRestrictions.kosher  \\\n",
       "0                                  NaN                                   NaN   \n",
       "\n",
       "  attributes.DietaryRestrictions.vegan  \\\n",
       "0                                  NaN   \n",
       "\n",
       "  attributes.DietaryRestrictions.gluten-free  \\\n",
       "0                                        NaN   \n",
       "\n",
       "  attributes.DietaryRestrictions.dairy-free attributes.Ambience  \\\n",
       "0                                       NaN                 NaN   \n",
       "\n",
       "  attributes.ByAppointmentOnly attributes.Corkage attributes.BYOB  \\\n",
       "0                          NaN                NaN             NaN   \n",
       "\n",
       "  attributes.BusinessAcceptsCreditCards attributes.Smoking  \\\n",
       "0                                   NaN                NaN   \n",
       "\n",
       "  attributes.CoatCheck attributes.BusinessParking  \\\n",
       "0                  NaN                        NaN   \n",
       "\n",
       "  attributes.BestNights.saturday attributes.BestNights.sunday  \\\n",
       "0                            NaN                          NaN   \n",
       "\n",
       "  attributes.BestNights.thursday attributes.BestNights.wednesday  \\\n",
       "0                            NaN                             NaN   \n",
       "\n",
       "  attributes.BestNights.friday attributes.BestNights.tuesday  \\\n",
       "0                          NaN                           NaN   \n",
       "\n",
       "  attributes.BestNights.monday attributes.Music.karaoke  \\\n",
       "0                          NaN                      NaN   \n",
       "\n",
       "  attributes.Music.video attributes.Music.live attributes.Music.jukebox  \\\n",
       "0                    NaN                   NaN                      NaN   \n",
       "\n",
       "  attributes.Music.no_music attributes.Music.background_music  \\\n",
       "0                       NaN                               NaN   \n",
       "\n",
       "  attributes.Music.dj attributes.GoodForDancing attributes.HappyHour  \\\n",
       "0                 NaN                       NaN                  NaN   \n",
       "\n",
       "  attributes.WheelchairAccessible attributes.DogsAllowed attributes.DriveThru  \\\n",
       "0                             NaN                    NaN                  NaN   \n",
       "\n",
       "  attributes.GoodForMeal.breakfast attributes.GoodForMeal.brunch  \\\n",
       "0                              NaN                           NaN   \n",
       "\n",
       "  attributes.GoodForMeal.dinner attributes.GoodForMeal.lunch  \\\n",
       "0                           NaN                          NaN   \n",
       "\n",
       "  attributes.GoodForMeal.latenight attributes.GoodForMeal.dessert  \\\n",
       "0                              NaN                            NaN   \n",
       "\n",
       "  attributes.RestaurantsTableService attributes.BikeParking  \\\n",
       "0                                NaN                    NaN   \n",
       "\n",
       "  attributes.Ambience.casual attributes.Ambience.upscale  \\\n",
       "0                       True                       False   \n",
       "\n",
       "  attributes.Ambience.trendy attributes.Ambience.touristy  \\\n",
       "0                      False                        False   \n",
       "\n",
       "  attributes.Ambience.divey attributes.Ambience.hipster  \\\n",
       "0                     False                       False   \n",
       "\n",
       "  attributes.Ambience.classy attributes.Ambience.intimate  \\\n",
       "0                      False                        False   \n",
       "\n",
       "  attributes.Ambience.romantic attributes.BusinessParking.valet  \\\n",
       "0                        False                            False   \n",
       "\n",
       "  attributes.BusinessParking.lot attributes.BusinessParking.validated  \\\n",
       "0                           True                                False   \n",
       "\n",
       "  attributes.BusinessParking.street attributes.BusinessParking.garage  \\\n",
       "0                             False                             False   \n",
       "\n",
       "  attributes.OutdoorSeating attributes.WiFi attributes.NoiseLevel  \\\n",
       "0                     False            'no'            u'average'   \n",
       "\n",
       "  attributes.RestaurantsReservations attributes.RestaurantsDelivery  \\\n",
       "0                              False                          False   \n",
       "\n",
       "  attributes.RestaurantsTakeOut attributes.RestaurantsGoodForGroups  \\\n",
       "0                          True                                True   \n",
       "\n",
       "  attributes.GoodForKids attributes.HasTV attributes.Caters  \\\n",
       "0                   True            False             False   \n",
       "\n",
       "  attributes.Alcohol attributes.RestaurantsAttire  \\\n",
       "0            u'none'                    u'casual'   \n",
       "\n",
       "  attributes.RestaurantsPriceRange2  \n",
       "0                                 2  "
      ]
     },
     "execution_count": 47,
     "metadata": {},
     "output_type": "execute_result"
    }
   ],
   "source": [
    "restaurant_final.head(1)"
   ]
  },
  {
   "cell_type": "markdown",
   "id": "deadly-safety",
   "metadata": {
    "colab_type": "text",
    "id": "cP1vARz6wUQr"
   },
   "source": [
    "# Merge"
   ]
  },
  {
   "cell_type": "code",
   "execution_count": 31,
   "id": "turned-torture",
   "metadata": {},
   "outputs": [],
   "source": [
    "#Merge restaurant_final and review_final to one dataset\n",
    "#Merge on 'business_id'\n",
    "dataset = restaurant_final.merge(review_final, how='left', on='business_id', sort=True)"
   ]
  },
  {
   "cell_type": "code",
   "execution_count": 49,
   "id": "interested-rendering",
   "metadata": {},
   "outputs": [
    {
     "data": {
      "text/html": [
       "<div>\n",
       "<style scoped>\n",
       "    .dataframe tbody tr th:only-of-type {\n",
       "        vertical-align: middle;\n",
       "    }\n",
       "\n",
       "    .dataframe tbody tr th {\n",
       "        vertical-align: top;\n",
       "    }\n",
       "\n",
       "    .dataframe thead th {\n",
       "        text-align: right;\n",
       "    }\n",
       "</style>\n",
       "<table border=\"1\" class=\"dataframe\">\n",
       "  <thead>\n",
       "    <tr style=\"text-align: right;\">\n",
       "      <th></th>\n",
       "      <th>index</th>\n",
       "      <th>business_id</th>\n",
       "      <th>business_name</th>\n",
       "      <th>city</th>\n",
       "      <th>state</th>\n",
       "      <th>business_stars</th>\n",
       "      <th>review_count</th>\n",
       "      <th>is_open</th>\n",
       "      <th>categories</th>\n",
       "      <th>attributes.RestaurantsCounterService</th>\n",
       "      <th>attributes.BusinessAcceptsBitcoin</th>\n",
       "      <th>attributes.AcceptsInsurance</th>\n",
       "      <th>attributes.Music</th>\n",
       "      <th>attributes.AgesAllowed</th>\n",
       "      <th>attributes.GoodForMeal</th>\n",
       "      <th>attributes.DietaryRestrictions.vegetarian</th>\n",
       "      <th>attributes.DietaryRestrictions.soy-free</th>\n",
       "      <th>attributes.DietaryRestrictions.halal</th>\n",
       "      <th>attributes.DietaryRestrictions.kosher</th>\n",
       "      <th>attributes.DietaryRestrictions.vegan</th>\n",
       "      <th>attributes.DietaryRestrictions.gluten-free</th>\n",
       "      <th>attributes.DietaryRestrictions.dairy-free</th>\n",
       "      <th>attributes.Ambience</th>\n",
       "      <th>attributes.ByAppointmentOnly</th>\n",
       "      <th>attributes.Corkage</th>\n",
       "      <th>attributes.BYOB</th>\n",
       "      <th>attributes.BusinessAcceptsCreditCards</th>\n",
       "      <th>attributes.Smoking</th>\n",
       "      <th>attributes.CoatCheck</th>\n",
       "      <th>attributes.BusinessParking</th>\n",
       "      <th>attributes.BestNights.saturday</th>\n",
       "      <th>attributes.BestNights.sunday</th>\n",
       "      <th>attributes.BestNights.thursday</th>\n",
       "      <th>attributes.BestNights.wednesday</th>\n",
       "      <th>attributes.BestNights.friday</th>\n",
       "      <th>attributes.BestNights.tuesday</th>\n",
       "      <th>attributes.BestNights.monday</th>\n",
       "      <th>attributes.Music.karaoke</th>\n",
       "      <th>attributes.Music.video</th>\n",
       "      <th>attributes.Music.live</th>\n",
       "      <th>attributes.Music.jukebox</th>\n",
       "      <th>attributes.Music.no_music</th>\n",
       "      <th>attributes.Music.background_music</th>\n",
       "      <th>attributes.Music.dj</th>\n",
       "      <th>attributes.GoodForDancing</th>\n",
       "      <th>attributes.HappyHour</th>\n",
       "      <th>attributes.WheelchairAccessible</th>\n",
       "      <th>attributes.DogsAllowed</th>\n",
       "      <th>attributes.DriveThru</th>\n",
       "      <th>attributes.GoodForMeal.breakfast</th>\n",
       "      <th>attributes.GoodForMeal.brunch</th>\n",
       "      <th>attributes.GoodForMeal.dinner</th>\n",
       "      <th>attributes.GoodForMeal.lunch</th>\n",
       "      <th>attributes.GoodForMeal.latenight</th>\n",
       "      <th>attributes.GoodForMeal.dessert</th>\n",
       "      <th>attributes.RestaurantsTableService</th>\n",
       "      <th>attributes.BikeParking</th>\n",
       "      <th>attributes.Ambience.casual</th>\n",
       "      <th>attributes.Ambience.upscale</th>\n",
       "      <th>attributes.Ambience.trendy</th>\n",
       "      <th>attributes.Ambience.touristy</th>\n",
       "      <th>attributes.Ambience.divey</th>\n",
       "      <th>attributes.Ambience.hipster</th>\n",
       "      <th>attributes.Ambience.classy</th>\n",
       "      <th>attributes.Ambience.intimate</th>\n",
       "      <th>attributes.Ambience.romantic</th>\n",
       "      <th>attributes.BusinessParking.valet</th>\n",
       "      <th>attributes.BusinessParking.lot</th>\n",
       "      <th>attributes.BusinessParking.validated</th>\n",
       "      <th>attributes.BusinessParking.street</th>\n",
       "      <th>attributes.BusinessParking.garage</th>\n",
       "      <th>attributes.OutdoorSeating</th>\n",
       "      <th>attributes.WiFi</th>\n",
       "      <th>attributes.NoiseLevel</th>\n",
       "      <th>attributes.RestaurantsReservations</th>\n",
       "      <th>attributes.RestaurantsDelivery</th>\n",
       "      <th>attributes.RestaurantsTakeOut</th>\n",
       "      <th>attributes.RestaurantsGoodForGroups</th>\n",
       "      <th>attributes.GoodForKids</th>\n",
       "      <th>attributes.HasTV</th>\n",
       "      <th>attributes.Caters</th>\n",
       "      <th>attributes.Alcohol</th>\n",
       "      <th>attributes.RestaurantsAttire</th>\n",
       "      <th>attributes.RestaurantsPriceRange2</th>\n",
       "      <th>review_id</th>\n",
       "      <th>review_stars</th>\n",
       "      <th>review_text</th>\n",
       "      <th>date</th>\n",
       "    </tr>\n",
       "  </thead>\n",
       "  <tbody>\n",
       "    <tr>\n",
       "      <th>0</th>\n",
       "      <td>816</td>\n",
       "      <td>--DaPTJW3-tB1vP-PfdTEg</td>\n",
       "      <td>Sunnyside Grill</td>\n",
       "      <td>Toronto</td>\n",
       "      <td>ON</td>\n",
       "      <td>4.0</td>\n",
       "      <td>51</td>\n",
       "      <td>1</td>\n",
       "      <td>Restaurants, Breakfast &amp; Brunch</td>\n",
       "      <td>NaN</td>\n",
       "      <td>NaN</td>\n",
       "      <td>NaN</td>\n",
       "      <td>NaN</td>\n",
       "      <td>NaN</td>\n",
       "      <td>NaN</td>\n",
       "      <td>NaN</td>\n",
       "      <td>NaN</td>\n",
       "      <td>NaN</td>\n",
       "      <td>NaN</td>\n",
       "      <td>NaN</td>\n",
       "      <td>NaN</td>\n",
       "      <td>NaN</td>\n",
       "      <td>NaN</td>\n",
       "      <td>NaN</td>\n",
       "      <td>NaN</td>\n",
       "      <td>NaN</td>\n",
       "      <td>NaN</td>\n",
       "      <td>NaN</td>\n",
       "      <td>NaN</td>\n",
       "      <td>NaN</td>\n",
       "      <td>NaN</td>\n",
       "      <td>NaN</td>\n",
       "      <td>NaN</td>\n",
       "      <td>NaN</td>\n",
       "      <td>NaN</td>\n",
       "      <td>NaN</td>\n",
       "      <td>NaN</td>\n",
       "      <td>NaN</td>\n",
       "      <td>NaN</td>\n",
       "      <td>NaN</td>\n",
       "      <td>NaN</td>\n",
       "      <td>NaN</td>\n",
       "      <td>NaN</td>\n",
       "      <td>NaN</td>\n",
       "      <td>NaN</td>\n",
       "      <td>NaN</td>\n",
       "      <td>NaN</td>\n",
       "      <td>NaN</td>\n",
       "      <td>NaN</td>\n",
       "      <td>True</td>\n",
       "      <td>True</td>\n",
       "      <td>False</td>\n",
       "      <td>True</td>\n",
       "      <td>False</td>\n",
       "      <td>False</td>\n",
       "      <td>NaN</td>\n",
       "      <td>True</td>\n",
       "      <td>True</td>\n",
       "      <td>False</td>\n",
       "      <td>False</td>\n",
       "      <td>False</td>\n",
       "      <td>False</td>\n",
       "      <td>False</td>\n",
       "      <td>False</td>\n",
       "      <td>False</td>\n",
       "      <td>False</td>\n",
       "      <td>False</td>\n",
       "      <td>False</td>\n",
       "      <td>False</td>\n",
       "      <td>True</td>\n",
       "      <td>False</td>\n",
       "      <td>False</td>\n",
       "      <td>u'free'</td>\n",
       "      <td>u'quiet'</td>\n",
       "      <td>False</td>\n",
       "      <td>False</td>\n",
       "      <td>True</td>\n",
       "      <td>True</td>\n",
       "      <td>True</td>\n",
       "      <td>True</td>\n",
       "      <td>True</td>\n",
       "      <td>u'none'</td>\n",
       "      <td>u'casual'</td>\n",
       "      <td>2</td>\n",
       "      <td>MjqWXGgvcENMd60UvOXDEg</td>\n",
       "      <td>2.0</td>\n",
       "      <td>I used to come to this restaurant about two years ago. I loved them! Fresh food, friendly servic...</td>\n",
       "      <td>2013-10-06 17:06:11</td>\n",
       "    </tr>\n",
       "    <tr>\n",
       "      <th>1</th>\n",
       "      <td>816</td>\n",
       "      <td>--DaPTJW3-tB1vP-PfdTEg</td>\n",
       "      <td>Sunnyside Grill</td>\n",
       "      <td>Toronto</td>\n",
       "      <td>ON</td>\n",
       "      <td>4.0</td>\n",
       "      <td>51</td>\n",
       "      <td>1</td>\n",
       "      <td>Restaurants, Breakfast &amp; Brunch</td>\n",
       "      <td>NaN</td>\n",
       "      <td>NaN</td>\n",
       "      <td>NaN</td>\n",
       "      <td>NaN</td>\n",
       "      <td>NaN</td>\n",
       "      <td>NaN</td>\n",
       "      <td>NaN</td>\n",
       "      <td>NaN</td>\n",
       "      <td>NaN</td>\n",
       "      <td>NaN</td>\n",
       "      <td>NaN</td>\n",
       "      <td>NaN</td>\n",
       "      <td>NaN</td>\n",
       "      <td>NaN</td>\n",
       "      <td>NaN</td>\n",
       "      <td>NaN</td>\n",
       "      <td>NaN</td>\n",
       "      <td>NaN</td>\n",
       "      <td>NaN</td>\n",
       "      <td>NaN</td>\n",
       "      <td>NaN</td>\n",
       "      <td>NaN</td>\n",
       "      <td>NaN</td>\n",
       "      <td>NaN</td>\n",
       "      <td>NaN</td>\n",
       "      <td>NaN</td>\n",
       "      <td>NaN</td>\n",
       "      <td>NaN</td>\n",
       "      <td>NaN</td>\n",
       "      <td>NaN</td>\n",
       "      <td>NaN</td>\n",
       "      <td>NaN</td>\n",
       "      <td>NaN</td>\n",
       "      <td>NaN</td>\n",
       "      <td>NaN</td>\n",
       "      <td>NaN</td>\n",
       "      <td>NaN</td>\n",
       "      <td>NaN</td>\n",
       "      <td>NaN</td>\n",
       "      <td>NaN</td>\n",
       "      <td>True</td>\n",
       "      <td>True</td>\n",
       "      <td>False</td>\n",
       "      <td>True</td>\n",
       "      <td>False</td>\n",
       "      <td>False</td>\n",
       "      <td>NaN</td>\n",
       "      <td>True</td>\n",
       "      <td>True</td>\n",
       "      <td>False</td>\n",
       "      <td>False</td>\n",
       "      <td>False</td>\n",
       "      <td>False</td>\n",
       "      <td>False</td>\n",
       "      <td>False</td>\n",
       "      <td>False</td>\n",
       "      <td>False</td>\n",
       "      <td>False</td>\n",
       "      <td>False</td>\n",
       "      <td>False</td>\n",
       "      <td>True</td>\n",
       "      <td>False</td>\n",
       "      <td>False</td>\n",
       "      <td>u'free'</td>\n",
       "      <td>u'quiet'</td>\n",
       "      <td>False</td>\n",
       "      <td>False</td>\n",
       "      <td>True</td>\n",
       "      <td>True</td>\n",
       "      <td>True</td>\n",
       "      <td>True</td>\n",
       "      <td>True</td>\n",
       "      <td>u'none'</td>\n",
       "      <td>u'casual'</td>\n",
       "      <td>2</td>\n",
       "      <td>5sg8KeTfTiLFC0hx75Xt9g</td>\n",
       "      <td>4.0</td>\n",
       "      <td>We really enjoy this breakfast restaurant in the west end of the city.  Came here a few times an...</td>\n",
       "      <td>2016-03-19 03:52:08</td>\n",
       "    </tr>\n",
       "  </tbody>\n",
       "</table>\n",
       "</div>"
      ],
      "text/plain": [
       "   index             business_id    business_name     city state  \\\n",
       "0    816  --DaPTJW3-tB1vP-PfdTEg  Sunnyside Grill  Toronto    ON   \n",
       "1    816  --DaPTJW3-tB1vP-PfdTEg  Sunnyside Grill  Toronto    ON   \n",
       "\n",
       "   business_stars  review_count  is_open                       categories  \\\n",
       "0             4.0            51        1  Restaurants, Breakfast & Brunch   \n",
       "1             4.0            51        1  Restaurants, Breakfast & Brunch   \n",
       "\n",
       "  attributes.RestaurantsCounterService attributes.BusinessAcceptsBitcoin  \\\n",
       "0                                  NaN                               NaN   \n",
       "1                                  NaN                               NaN   \n",
       "\n",
       "  attributes.AcceptsInsurance attributes.Music attributes.AgesAllowed  \\\n",
       "0                         NaN              NaN                    NaN   \n",
       "1                         NaN              NaN                    NaN   \n",
       "\n",
       "  attributes.GoodForMeal attributes.DietaryRestrictions.vegetarian  \\\n",
       "0                    NaN                                       NaN   \n",
       "1                    NaN                                       NaN   \n",
       "\n",
       "  attributes.DietaryRestrictions.soy-free  \\\n",
       "0                                     NaN   \n",
       "1                                     NaN   \n",
       "\n",
       "  attributes.DietaryRestrictions.halal attributes.DietaryRestrictions.kosher  \\\n",
       "0                                  NaN                                   NaN   \n",
       "1                                  NaN                                   NaN   \n",
       "\n",
       "  attributes.DietaryRestrictions.vegan  \\\n",
       "0                                  NaN   \n",
       "1                                  NaN   \n",
       "\n",
       "  attributes.DietaryRestrictions.gluten-free  \\\n",
       "0                                        NaN   \n",
       "1                                        NaN   \n",
       "\n",
       "  attributes.DietaryRestrictions.dairy-free attributes.Ambience  \\\n",
       "0                                       NaN                 NaN   \n",
       "1                                       NaN                 NaN   \n",
       "\n",
       "  attributes.ByAppointmentOnly attributes.Corkage attributes.BYOB  \\\n",
       "0                          NaN                NaN             NaN   \n",
       "1                          NaN                NaN             NaN   \n",
       "\n",
       "  attributes.BusinessAcceptsCreditCards attributes.Smoking  \\\n",
       "0                                   NaN                NaN   \n",
       "1                                   NaN                NaN   \n",
       "\n",
       "  attributes.CoatCheck attributes.BusinessParking  \\\n",
       "0                  NaN                        NaN   \n",
       "1                  NaN                        NaN   \n",
       "\n",
       "  attributes.BestNights.saturday attributes.BestNights.sunday  \\\n",
       "0                            NaN                          NaN   \n",
       "1                            NaN                          NaN   \n",
       "\n",
       "  attributes.BestNights.thursday attributes.BestNights.wednesday  \\\n",
       "0                            NaN                             NaN   \n",
       "1                            NaN                             NaN   \n",
       "\n",
       "  attributes.BestNights.friday attributes.BestNights.tuesday  \\\n",
       "0                          NaN                           NaN   \n",
       "1                          NaN                           NaN   \n",
       "\n",
       "  attributes.BestNights.monday attributes.Music.karaoke  \\\n",
       "0                          NaN                      NaN   \n",
       "1                          NaN                      NaN   \n",
       "\n",
       "  attributes.Music.video attributes.Music.live attributes.Music.jukebox  \\\n",
       "0                    NaN                   NaN                      NaN   \n",
       "1                    NaN                   NaN                      NaN   \n",
       "\n",
       "  attributes.Music.no_music attributes.Music.background_music  \\\n",
       "0                       NaN                               NaN   \n",
       "1                       NaN                               NaN   \n",
       "\n",
       "  attributes.Music.dj attributes.GoodForDancing attributes.HappyHour  \\\n",
       "0                 NaN                       NaN                  NaN   \n",
       "1                 NaN                       NaN                  NaN   \n",
       "\n",
       "  attributes.WheelchairAccessible attributes.DogsAllowed attributes.DriveThru  \\\n",
       "0                             NaN                    NaN                  NaN   \n",
       "1                             NaN                    NaN                  NaN   \n",
       "\n",
       "  attributes.GoodForMeal.breakfast attributes.GoodForMeal.brunch  \\\n",
       "0                             True                          True   \n",
       "1                             True                          True   \n",
       "\n",
       "  attributes.GoodForMeal.dinner attributes.GoodForMeal.lunch  \\\n",
       "0                         False                         True   \n",
       "1                         False                         True   \n",
       "\n",
       "  attributes.GoodForMeal.latenight attributes.GoodForMeal.dessert  \\\n",
       "0                            False                          False   \n",
       "1                            False                          False   \n",
       "\n",
       "  attributes.RestaurantsTableService attributes.BikeParking  \\\n",
       "0                                NaN                   True   \n",
       "1                                NaN                   True   \n",
       "\n",
       "  attributes.Ambience.casual attributes.Ambience.upscale  \\\n",
       "0                       True                       False   \n",
       "1                       True                       False   \n",
       "\n",
       "  attributes.Ambience.trendy attributes.Ambience.touristy  \\\n",
       "0                      False                        False   \n",
       "1                      False                        False   \n",
       "\n",
       "  attributes.Ambience.divey attributes.Ambience.hipster  \\\n",
       "0                     False                       False   \n",
       "1                     False                       False   \n",
       "\n",
       "  attributes.Ambience.classy attributes.Ambience.intimate  \\\n",
       "0                      False                        False   \n",
       "1                      False                        False   \n",
       "\n",
       "  attributes.Ambience.romantic attributes.BusinessParking.valet  \\\n",
       "0                        False                            False   \n",
       "1                        False                            False   \n",
       "\n",
       "  attributes.BusinessParking.lot attributes.BusinessParking.validated  \\\n",
       "0                          False                                False   \n",
       "1                          False                                False   \n",
       "\n",
       "  attributes.BusinessParking.street attributes.BusinessParking.garage  \\\n",
       "0                              True                             False   \n",
       "1                              True                             False   \n",
       "\n",
       "  attributes.OutdoorSeating attributes.WiFi attributes.NoiseLevel  \\\n",
       "0                     False         u'free'              u'quiet'   \n",
       "1                     False         u'free'              u'quiet'   \n",
       "\n",
       "  attributes.RestaurantsReservations attributes.RestaurantsDelivery  \\\n",
       "0                              False                          False   \n",
       "1                              False                          False   \n",
       "\n",
       "  attributes.RestaurantsTakeOut attributes.RestaurantsGoodForGroups  \\\n",
       "0                          True                                True   \n",
       "1                          True                                True   \n",
       "\n",
       "  attributes.GoodForKids attributes.HasTV attributes.Caters  \\\n",
       "0                   True             True              True   \n",
       "1                   True             True              True   \n",
       "\n",
       "  attributes.Alcohol attributes.RestaurantsAttire  \\\n",
       "0            u'none'                    u'casual'   \n",
       "1            u'none'                    u'casual'   \n",
       "\n",
       "  attributes.RestaurantsPriceRange2               review_id  review_stars  \\\n",
       "0                                 2  MjqWXGgvcENMd60UvOXDEg           2.0   \n",
       "1                                 2  5sg8KeTfTiLFC0hx75Xt9g           4.0   \n",
       "\n",
       "                                                                                           review_text  \\\n",
       "0  I used to come to this restaurant about two years ago. I loved them! Fresh food, friendly servic...   \n",
       "1  We really enjoy this breakfast restaurant in the west end of the city.  Came here a few times an...   \n",
       "\n",
       "                  date  \n",
       "0  2013-10-06 17:06:11  \n",
       "1  2016-03-19 03:52:08  "
      ]
     },
     "execution_count": 49,
     "metadata": {},
     "output_type": "execute_result"
    }
   ],
   "source": [
    "#One review record for each business is one row\n",
    "dataset.head(2)"
   ]
  },
  {
   "cell_type": "code",
   "execution_count": 50,
   "id": "cutting-humanitarian",
   "metadata": {},
   "outputs": [
    {
     "data": {
      "text/plain": [
       "417536"
      ]
     },
     "execution_count": 50,
     "metadata": {},
     "output_type": "execute_result"
    }
   ],
   "source": [
    "len(dataset)"
   ]
  },
  {
   "cell_type": "code",
   "execution_count": null,
   "id": "spread-check",
   "metadata": {},
   "outputs": [],
   "source": [
    "dataset.to_csv(\"dataset_merge.csv\")"
   ]
  },
  {
   "cell_type": "code",
   "execution_count": null,
   "id": "requested-marathon",
   "metadata": {},
   "outputs": [],
   "source": []
  },
  {
   "cell_type": "markdown",
   "id": "static-detroit",
   "metadata": {
    "colab_type": "text",
    "id": "ChLz9vzRxyhZ"
   },
   "source": [
    "# Checks"
   ]
  },
  {
   "cell_type": "code",
   "execution_count": 70,
   "id": "signal-speed",
   "metadata": {},
   "outputs": [
    {
     "data": {
      "text/plain": [
       "index                                    0\n",
       "business_id                              0\n",
       "business_name                            0\n",
       "city                                     0\n",
       "state                                    0\n",
       "                                     ...  \n",
       "attributes.RestaurantsPriceRange2    11512\n",
       "review_id                                0\n",
       "review_stars                             0\n",
       "review_text                              0\n",
       "date                                     0\n",
       "Length: 88, dtype: int64"
      ]
     },
     "execution_count": 70,
     "metadata": {},
     "output_type": "execute_result"
    }
   ],
   "source": [
    "dataset.isna().sum()"
   ]
  },
  {
   "cell_type": "code",
   "execution_count": 71,
   "id": "handled-resolution",
   "metadata": {},
   "outputs": [
    {
     "data": {
      "text/plain": [
       "index                                    0\n",
       "business_id                              0\n",
       "business_name                            0\n",
       "city                                     0\n",
       "state                                    0\n",
       "                                     ...  \n",
       "attributes.RestaurantsPriceRange2    11512\n",
       "review_id                                0\n",
       "review_stars                             0\n",
       "review_text                              0\n",
       "date                                     0\n",
       "Length: 88, dtype: int64"
      ]
     },
     "execution_count": 71,
     "metadata": {},
     "output_type": "execute_result"
    }
   ],
   "source": [
    "dataset.isnull().sum()"
   ]
  },
  {
   "cell_type": "code",
   "execution_count": 72,
   "id": "needed-thing",
   "metadata": {},
   "outputs": [
    {
     "data": {
      "text/html": [
       "<div>\n",
       "<style scoped>\n",
       "    .dataframe tbody tr th:only-of-type {\n",
       "        vertical-align: middle;\n",
       "    }\n",
       "\n",
       "    .dataframe tbody tr th {\n",
       "        vertical-align: top;\n",
       "    }\n",
       "\n",
       "    .dataframe thead th {\n",
       "        text-align: right;\n",
       "    }\n",
       "</style>\n",
       "<table border=\"1\" class=\"dataframe\">\n",
       "  <thead>\n",
       "    <tr style=\"text-align: right;\">\n",
       "      <th>business_stars</th>\n",
       "      <th>1.0</th>\n",
       "      <th>1.5</th>\n",
       "      <th>2.0</th>\n",
       "      <th>2.5</th>\n",
       "      <th>3.0</th>\n",
       "      <th>3.5</th>\n",
       "      <th>4.0</th>\n",
       "      <th>4.5</th>\n",
       "      <th>5.0</th>\n",
       "    </tr>\n",
       "    <tr>\n",
       "      <th>business_id</th>\n",
       "      <th></th>\n",
       "      <th></th>\n",
       "      <th></th>\n",
       "      <th></th>\n",
       "      <th></th>\n",
       "      <th></th>\n",
       "      <th></th>\n",
       "      <th></th>\n",
       "      <th></th>\n",
       "    </tr>\n",
       "  </thead>\n",
       "  <tbody>\n",
       "    <tr>\n",
       "      <th>--DaPTJW3-tB1vP-PfdTEg</th>\n",
       "      <td>NaN</td>\n",
       "      <td>NaN</td>\n",
       "      <td>NaN</td>\n",
       "      <td>NaN</td>\n",
       "      <td>NaN</td>\n",
       "      <td>NaN</td>\n",
       "      <td>3.764706</td>\n",
       "      <td>NaN</td>\n",
       "      <td>NaN</td>\n",
       "    </tr>\n",
       "    <tr>\n",
       "      <th>--SrzpvFLwP_YFwB_Cetow</th>\n",
       "      <td>NaN</td>\n",
       "      <td>NaN</td>\n",
       "      <td>NaN</td>\n",
       "      <td>NaN</td>\n",
       "      <td>NaN</td>\n",
       "      <td>3.500000</td>\n",
       "      <td>NaN</td>\n",
       "      <td>NaN</td>\n",
       "      <td>NaN</td>\n",
       "    </tr>\n",
       "    <tr>\n",
       "      <th>-0NhdsDJsdarxyDPR523ZQ</th>\n",
       "      <td>NaN</td>\n",
       "      <td>NaN</td>\n",
       "      <td>NaN</td>\n",
       "      <td>NaN</td>\n",
       "      <td>2.909091</td>\n",
       "      <td>NaN</td>\n",
       "      <td>NaN</td>\n",
       "      <td>NaN</td>\n",
       "      <td>NaN</td>\n",
       "    </tr>\n",
       "    <tr>\n",
       "      <th>-0aOudcaAyac0VJbMX-L1g</th>\n",
       "      <td>NaN</td>\n",
       "      <td>NaN</td>\n",
       "      <td>NaN</td>\n",
       "      <td>NaN</td>\n",
       "      <td>3.066667</td>\n",
       "      <td>NaN</td>\n",
       "      <td>NaN</td>\n",
       "      <td>NaN</td>\n",
       "      <td>NaN</td>\n",
       "    </tr>\n",
       "    <tr>\n",
       "      <th>-2EAyppKR_2xuLyvJZEbRQ</th>\n",
       "      <td>NaN</td>\n",
       "      <td>NaN</td>\n",
       "      <td>2.142857</td>\n",
       "      <td>NaN</td>\n",
       "      <td>NaN</td>\n",
       "      <td>NaN</td>\n",
       "      <td>NaN</td>\n",
       "      <td>NaN</td>\n",
       "      <td>NaN</td>\n",
       "    </tr>\n",
       "    <tr>\n",
       "      <th>...</th>\n",
       "      <td>...</td>\n",
       "      <td>...</td>\n",
       "      <td>...</td>\n",
       "      <td>...</td>\n",
       "      <td>...</td>\n",
       "      <td>...</td>\n",
       "      <td>...</td>\n",
       "      <td>...</td>\n",
       "      <td>...</td>\n",
       "    </tr>\n",
       "    <tr>\n",
       "      <th>zy_NHTqtfSrfTGGPoqy4Mw</th>\n",
       "      <td>NaN</td>\n",
       "      <td>NaN</td>\n",
       "      <td>NaN</td>\n",
       "      <td>NaN</td>\n",
       "      <td>3.240000</td>\n",
       "      <td>NaN</td>\n",
       "      <td>NaN</td>\n",
       "      <td>NaN</td>\n",
       "      <td>NaN</td>\n",
       "    </tr>\n",
       "    <tr>\n",
       "      <th>zyw5DjrRks7a8OhmBsgCQQ</th>\n",
       "      <td>NaN</td>\n",
       "      <td>NaN</td>\n",
       "      <td>NaN</td>\n",
       "      <td>NaN</td>\n",
       "      <td>3.084746</td>\n",
       "      <td>NaN</td>\n",
       "      <td>NaN</td>\n",
       "      <td>NaN</td>\n",
       "      <td>NaN</td>\n",
       "    </tr>\n",
       "    <tr>\n",
       "      <th>zz3CqZhNx2rQ_Yp6zHze-A</th>\n",
       "      <td>NaN</td>\n",
       "      <td>NaN</td>\n",
       "      <td>NaN</td>\n",
       "      <td>NaN</td>\n",
       "      <td>3.021739</td>\n",
       "      <td>NaN</td>\n",
       "      <td>NaN</td>\n",
       "      <td>NaN</td>\n",
       "      <td>NaN</td>\n",
       "    </tr>\n",
       "    <tr>\n",
       "      <th>zzH3E5DA8eMzFwv2k5izyw</th>\n",
       "      <td>NaN</td>\n",
       "      <td>NaN</td>\n",
       "      <td>NaN</td>\n",
       "      <td>NaN</td>\n",
       "      <td>NaN</td>\n",
       "      <td>NaN</td>\n",
       "      <td>NaN</td>\n",
       "      <td>4.421053</td>\n",
       "      <td>NaN</td>\n",
       "    </tr>\n",
       "    <tr>\n",
       "      <th>zze6IysT7bJFS8gvi6fZ2A</th>\n",
       "      <td>NaN</td>\n",
       "      <td>NaN</td>\n",
       "      <td>NaN</td>\n",
       "      <td>NaN</td>\n",
       "      <td>NaN</td>\n",
       "      <td>3.285714</td>\n",
       "      <td>NaN</td>\n",
       "      <td>NaN</td>\n",
       "      <td>NaN</td>\n",
       "    </tr>\n",
       "  </tbody>\n",
       "</table>\n",
       "<p>5965 rows × 9 columns</p>\n",
       "</div>"
      ],
      "text/plain": [
       "business_stars          1.0  1.5       2.0  2.5       3.0       3.5       4.0  \\\n",
       "business_id                                                                     \n",
       "--DaPTJW3-tB1vP-PfdTEg  NaN  NaN       NaN  NaN       NaN       NaN  3.764706   \n",
       "--SrzpvFLwP_YFwB_Cetow  NaN  NaN       NaN  NaN       NaN  3.500000       NaN   \n",
       "-0NhdsDJsdarxyDPR523ZQ  NaN  NaN       NaN  NaN  2.909091       NaN       NaN   \n",
       "-0aOudcaAyac0VJbMX-L1g  NaN  NaN       NaN  NaN  3.066667       NaN       NaN   \n",
       "-2EAyppKR_2xuLyvJZEbRQ  NaN  NaN  2.142857  NaN       NaN       NaN       NaN   \n",
       "...                     ...  ...       ...  ...       ...       ...       ...   \n",
       "zy_NHTqtfSrfTGGPoqy4Mw  NaN  NaN       NaN  NaN  3.240000       NaN       NaN   \n",
       "zyw5DjrRks7a8OhmBsgCQQ  NaN  NaN       NaN  NaN  3.084746       NaN       NaN   \n",
       "zz3CqZhNx2rQ_Yp6zHze-A  NaN  NaN       NaN  NaN  3.021739       NaN       NaN   \n",
       "zzH3E5DA8eMzFwv2k5izyw  NaN  NaN       NaN  NaN       NaN       NaN       NaN   \n",
       "zze6IysT7bJFS8gvi6fZ2A  NaN  NaN       NaN  NaN       NaN  3.285714       NaN   \n",
       "\n",
       "business_stars               4.5  5.0  \n",
       "business_id                            \n",
       "--DaPTJW3-tB1vP-PfdTEg       NaN  NaN  \n",
       "--SrzpvFLwP_YFwB_Cetow       NaN  NaN  \n",
       "-0NhdsDJsdarxyDPR523ZQ       NaN  NaN  \n",
       "-0aOudcaAyac0VJbMX-L1g       NaN  NaN  \n",
       "-2EAyppKR_2xuLyvJZEbRQ       NaN  NaN  \n",
       "...                          ...  ...  \n",
       "zy_NHTqtfSrfTGGPoqy4Mw       NaN  NaN  \n",
       "zyw5DjrRks7a8OhmBsgCQQ       NaN  NaN  \n",
       "zz3CqZhNx2rQ_Yp6zHze-A       NaN  NaN  \n",
       "zzH3E5DA8eMzFwv2k5izyw  4.421053  NaN  \n",
       "zze6IysT7bJFS8gvi6fZ2A       NaN  NaN  \n",
       "\n",
       "[5965 rows x 9 columns]"
      ]
     },
     "execution_count": 72,
     "metadata": {},
     "output_type": "execute_result"
    }
   ],
   "source": [
    "#Compare average of review_stars and business_stars\n",
    "avg_rating = pd.pivot_table(dataset, values='review_stars', index=['business_id'], columns=['business_stars'], aggfunc='mean')\n",
    "avg_rating"
   ]
  },
  {
   "cell_type": "code",
   "execution_count": null,
   "id": "fantastic-attraction",
   "metadata": {},
   "outputs": [],
   "source": []
  },
  {
   "cell_type": "markdown",
   "id": "clean-occasions",
   "metadata": {
    "colab_type": "text",
    "id": "IoaG2rUz9KK7"
   },
   "source": [
    "# Assign Sentiment"
   ]
  },
  {
   "cell_type": "code",
   "execution_count": 32,
   "id": "rising-quantum",
   "metadata": {},
   "outputs": [],
   "source": [
    "#5-star review ratings (very negative, negative, neutral, positive, very positive) will be used\n",
    "dataset = dataset.astype({'review_stars': 'int32'})"
   ]
  },
  {
   "cell_type": "code",
   "execution_count": 52,
   "id": "general-tower",
   "metadata": {},
   "outputs": [
    {
     "data": {
      "text/html": [
       "<div>\n",
       "<style scoped>\n",
       "    .dataframe tbody tr th:only-of-type {\n",
       "        vertical-align: middle;\n",
       "    }\n",
       "\n",
       "    .dataframe tbody tr th {\n",
       "        vertical-align: top;\n",
       "    }\n",
       "\n",
       "    .dataframe thead th {\n",
       "        text-align: right;\n",
       "    }\n",
       "</style>\n",
       "<table border=\"1\" class=\"dataframe\">\n",
       "  <thead>\n",
       "    <tr style=\"text-align: right;\">\n",
       "      <th></th>\n",
       "      <th>index</th>\n",
       "      <th>business_id</th>\n",
       "      <th>business_name</th>\n",
       "      <th>city</th>\n",
       "      <th>state</th>\n",
       "      <th>business_stars</th>\n",
       "      <th>review_count</th>\n",
       "      <th>is_open</th>\n",
       "      <th>categories</th>\n",
       "      <th>attributes.RestaurantsCounterService</th>\n",
       "      <th>attributes.BusinessAcceptsBitcoin</th>\n",
       "      <th>attributes.AcceptsInsurance</th>\n",
       "      <th>attributes.Music</th>\n",
       "      <th>attributes.AgesAllowed</th>\n",
       "      <th>attributes.GoodForMeal</th>\n",
       "      <th>attributes.DietaryRestrictions.vegetarian</th>\n",
       "      <th>attributes.DietaryRestrictions.soy-free</th>\n",
       "      <th>attributes.DietaryRestrictions.halal</th>\n",
       "      <th>attributes.DietaryRestrictions.kosher</th>\n",
       "      <th>attributes.DietaryRestrictions.vegan</th>\n",
       "      <th>attributes.DietaryRestrictions.gluten-free</th>\n",
       "      <th>attributes.DietaryRestrictions.dairy-free</th>\n",
       "      <th>attributes.Ambience</th>\n",
       "      <th>attributes.ByAppointmentOnly</th>\n",
       "      <th>attributes.Corkage</th>\n",
       "      <th>attributes.BYOB</th>\n",
       "      <th>attributes.BusinessAcceptsCreditCards</th>\n",
       "      <th>attributes.Smoking</th>\n",
       "      <th>attributes.CoatCheck</th>\n",
       "      <th>attributes.BusinessParking</th>\n",
       "      <th>attributes.BestNights.saturday</th>\n",
       "      <th>attributes.BestNights.sunday</th>\n",
       "      <th>attributes.BestNights.thursday</th>\n",
       "      <th>attributes.BestNights.wednesday</th>\n",
       "      <th>attributes.BestNights.friday</th>\n",
       "      <th>attributes.BestNights.tuesday</th>\n",
       "      <th>attributes.BestNights.monday</th>\n",
       "      <th>attributes.Music.karaoke</th>\n",
       "      <th>attributes.Music.video</th>\n",
       "      <th>attributes.Music.live</th>\n",
       "      <th>attributes.Music.jukebox</th>\n",
       "      <th>attributes.Music.no_music</th>\n",
       "      <th>attributes.Music.background_music</th>\n",
       "      <th>attributes.Music.dj</th>\n",
       "      <th>attributes.GoodForDancing</th>\n",
       "      <th>attributes.HappyHour</th>\n",
       "      <th>attributes.WheelchairAccessible</th>\n",
       "      <th>attributes.DogsAllowed</th>\n",
       "      <th>attributes.DriveThru</th>\n",
       "      <th>attributes.GoodForMeal.breakfast</th>\n",
       "      <th>attributes.GoodForMeal.brunch</th>\n",
       "      <th>attributes.GoodForMeal.dinner</th>\n",
       "      <th>attributes.GoodForMeal.lunch</th>\n",
       "      <th>attributes.GoodForMeal.latenight</th>\n",
       "      <th>attributes.GoodForMeal.dessert</th>\n",
       "      <th>attributes.RestaurantsTableService</th>\n",
       "      <th>attributes.BikeParking</th>\n",
       "      <th>attributes.Ambience.casual</th>\n",
       "      <th>attributes.Ambience.upscale</th>\n",
       "      <th>attributes.Ambience.trendy</th>\n",
       "      <th>attributes.Ambience.touristy</th>\n",
       "      <th>attributes.Ambience.divey</th>\n",
       "      <th>attributes.Ambience.hipster</th>\n",
       "      <th>attributes.Ambience.classy</th>\n",
       "      <th>attributes.Ambience.intimate</th>\n",
       "      <th>attributes.Ambience.romantic</th>\n",
       "      <th>attributes.BusinessParking.valet</th>\n",
       "      <th>attributes.BusinessParking.lot</th>\n",
       "      <th>attributes.BusinessParking.validated</th>\n",
       "      <th>attributes.BusinessParking.street</th>\n",
       "      <th>attributes.BusinessParking.garage</th>\n",
       "      <th>attributes.OutdoorSeating</th>\n",
       "      <th>attributes.WiFi</th>\n",
       "      <th>attributes.NoiseLevel</th>\n",
       "      <th>attributes.RestaurantsReservations</th>\n",
       "      <th>attributes.RestaurantsDelivery</th>\n",
       "      <th>attributes.RestaurantsTakeOut</th>\n",
       "      <th>attributes.RestaurantsGoodForGroups</th>\n",
       "      <th>attributes.GoodForKids</th>\n",
       "      <th>attributes.HasTV</th>\n",
       "      <th>attributes.Caters</th>\n",
       "      <th>attributes.Alcohol</th>\n",
       "      <th>attributes.RestaurantsAttire</th>\n",
       "      <th>attributes.RestaurantsPriceRange2</th>\n",
       "      <th>review_id</th>\n",
       "      <th>review_stars</th>\n",
       "      <th>review_text</th>\n",
       "      <th>date</th>\n",
       "    </tr>\n",
       "  </thead>\n",
       "  <tbody>\n",
       "    <tr>\n",
       "      <th>0</th>\n",
       "      <td>816</td>\n",
       "      <td>--DaPTJW3-tB1vP-PfdTEg</td>\n",
       "      <td>Sunnyside Grill</td>\n",
       "      <td>Toronto</td>\n",
       "      <td>ON</td>\n",
       "      <td>4.0</td>\n",
       "      <td>51</td>\n",
       "      <td>1</td>\n",
       "      <td>Restaurants, Breakfast &amp; Brunch</td>\n",
       "      <td>NaN</td>\n",
       "      <td>NaN</td>\n",
       "      <td>NaN</td>\n",
       "      <td>NaN</td>\n",
       "      <td>NaN</td>\n",
       "      <td>NaN</td>\n",
       "      <td>NaN</td>\n",
       "      <td>NaN</td>\n",
       "      <td>NaN</td>\n",
       "      <td>NaN</td>\n",
       "      <td>NaN</td>\n",
       "      <td>NaN</td>\n",
       "      <td>NaN</td>\n",
       "      <td>NaN</td>\n",
       "      <td>NaN</td>\n",
       "      <td>NaN</td>\n",
       "      <td>NaN</td>\n",
       "      <td>NaN</td>\n",
       "      <td>NaN</td>\n",
       "      <td>NaN</td>\n",
       "      <td>NaN</td>\n",
       "      <td>NaN</td>\n",
       "      <td>NaN</td>\n",
       "      <td>NaN</td>\n",
       "      <td>NaN</td>\n",
       "      <td>NaN</td>\n",
       "      <td>NaN</td>\n",
       "      <td>NaN</td>\n",
       "      <td>NaN</td>\n",
       "      <td>NaN</td>\n",
       "      <td>NaN</td>\n",
       "      <td>NaN</td>\n",
       "      <td>NaN</td>\n",
       "      <td>NaN</td>\n",
       "      <td>NaN</td>\n",
       "      <td>NaN</td>\n",
       "      <td>NaN</td>\n",
       "      <td>NaN</td>\n",
       "      <td>NaN</td>\n",
       "      <td>NaN</td>\n",
       "      <td>True</td>\n",
       "      <td>True</td>\n",
       "      <td>False</td>\n",
       "      <td>True</td>\n",
       "      <td>False</td>\n",
       "      <td>False</td>\n",
       "      <td>NaN</td>\n",
       "      <td>True</td>\n",
       "      <td>True</td>\n",
       "      <td>False</td>\n",
       "      <td>False</td>\n",
       "      <td>False</td>\n",
       "      <td>False</td>\n",
       "      <td>False</td>\n",
       "      <td>False</td>\n",
       "      <td>False</td>\n",
       "      <td>False</td>\n",
       "      <td>False</td>\n",
       "      <td>False</td>\n",
       "      <td>False</td>\n",
       "      <td>True</td>\n",
       "      <td>False</td>\n",
       "      <td>False</td>\n",
       "      <td>u'free'</td>\n",
       "      <td>u'quiet'</td>\n",
       "      <td>False</td>\n",
       "      <td>False</td>\n",
       "      <td>True</td>\n",
       "      <td>True</td>\n",
       "      <td>True</td>\n",
       "      <td>True</td>\n",
       "      <td>True</td>\n",
       "      <td>u'none'</td>\n",
       "      <td>u'casual'</td>\n",
       "      <td>2</td>\n",
       "      <td>MjqWXGgvcENMd60UvOXDEg</td>\n",
       "      <td>2</td>\n",
       "      <td>I used to come to this restaurant about two years ago. I loved them! Fresh food, friendly servic...</td>\n",
       "      <td>2013-10-06 17:06:11</td>\n",
       "    </tr>\n",
       "  </tbody>\n",
       "</table>\n",
       "</div>"
      ],
      "text/plain": [
       "   index             business_id    business_name     city state  \\\n",
       "0    816  --DaPTJW3-tB1vP-PfdTEg  Sunnyside Grill  Toronto    ON   \n",
       "\n",
       "   business_stars  review_count  is_open                       categories  \\\n",
       "0             4.0            51        1  Restaurants, Breakfast & Brunch   \n",
       "\n",
       "  attributes.RestaurantsCounterService attributes.BusinessAcceptsBitcoin  \\\n",
       "0                                  NaN                               NaN   \n",
       "\n",
       "  attributes.AcceptsInsurance attributes.Music attributes.AgesAllowed  \\\n",
       "0                         NaN              NaN                    NaN   \n",
       "\n",
       "  attributes.GoodForMeal attributes.DietaryRestrictions.vegetarian  \\\n",
       "0                    NaN                                       NaN   \n",
       "\n",
       "  attributes.DietaryRestrictions.soy-free  \\\n",
       "0                                     NaN   \n",
       "\n",
       "  attributes.DietaryRestrictions.halal attributes.DietaryRestrictions.kosher  \\\n",
       "0                                  NaN                                   NaN   \n",
       "\n",
       "  attributes.DietaryRestrictions.vegan  \\\n",
       "0                                  NaN   \n",
       "\n",
       "  attributes.DietaryRestrictions.gluten-free  \\\n",
       "0                                        NaN   \n",
       "\n",
       "  attributes.DietaryRestrictions.dairy-free attributes.Ambience  \\\n",
       "0                                       NaN                 NaN   \n",
       "\n",
       "  attributes.ByAppointmentOnly attributes.Corkage attributes.BYOB  \\\n",
       "0                          NaN                NaN             NaN   \n",
       "\n",
       "  attributes.BusinessAcceptsCreditCards attributes.Smoking  \\\n",
       "0                                   NaN                NaN   \n",
       "\n",
       "  attributes.CoatCheck attributes.BusinessParking  \\\n",
       "0                  NaN                        NaN   \n",
       "\n",
       "  attributes.BestNights.saturday attributes.BestNights.sunday  \\\n",
       "0                            NaN                          NaN   \n",
       "\n",
       "  attributes.BestNights.thursday attributes.BestNights.wednesday  \\\n",
       "0                            NaN                             NaN   \n",
       "\n",
       "  attributes.BestNights.friday attributes.BestNights.tuesday  \\\n",
       "0                          NaN                           NaN   \n",
       "\n",
       "  attributes.BestNights.monday attributes.Music.karaoke  \\\n",
       "0                          NaN                      NaN   \n",
       "\n",
       "  attributes.Music.video attributes.Music.live attributes.Music.jukebox  \\\n",
       "0                    NaN                   NaN                      NaN   \n",
       "\n",
       "  attributes.Music.no_music attributes.Music.background_music  \\\n",
       "0                       NaN                               NaN   \n",
       "\n",
       "  attributes.Music.dj attributes.GoodForDancing attributes.HappyHour  \\\n",
       "0                 NaN                       NaN                  NaN   \n",
       "\n",
       "  attributes.WheelchairAccessible attributes.DogsAllowed attributes.DriveThru  \\\n",
       "0                             NaN                    NaN                  NaN   \n",
       "\n",
       "  attributes.GoodForMeal.breakfast attributes.GoodForMeal.brunch  \\\n",
       "0                             True                          True   \n",
       "\n",
       "  attributes.GoodForMeal.dinner attributes.GoodForMeal.lunch  \\\n",
       "0                         False                         True   \n",
       "\n",
       "  attributes.GoodForMeal.latenight attributes.GoodForMeal.dessert  \\\n",
       "0                            False                          False   \n",
       "\n",
       "  attributes.RestaurantsTableService attributes.BikeParking  \\\n",
       "0                                NaN                   True   \n",
       "\n",
       "  attributes.Ambience.casual attributes.Ambience.upscale  \\\n",
       "0                       True                       False   \n",
       "\n",
       "  attributes.Ambience.trendy attributes.Ambience.touristy  \\\n",
       "0                      False                        False   \n",
       "\n",
       "  attributes.Ambience.divey attributes.Ambience.hipster  \\\n",
       "0                     False                       False   \n",
       "\n",
       "  attributes.Ambience.classy attributes.Ambience.intimate  \\\n",
       "0                      False                        False   \n",
       "\n",
       "  attributes.Ambience.romantic attributes.BusinessParking.valet  \\\n",
       "0                        False                            False   \n",
       "\n",
       "  attributes.BusinessParking.lot attributes.BusinessParking.validated  \\\n",
       "0                          False                                False   \n",
       "\n",
       "  attributes.BusinessParking.street attributes.BusinessParking.garage  \\\n",
       "0                              True                             False   \n",
       "\n",
       "  attributes.OutdoorSeating attributes.WiFi attributes.NoiseLevel  \\\n",
       "0                     False         u'free'              u'quiet'   \n",
       "\n",
       "  attributes.RestaurantsReservations attributes.RestaurantsDelivery  \\\n",
       "0                              False                          False   \n",
       "\n",
       "  attributes.RestaurantsTakeOut attributes.RestaurantsGoodForGroups  \\\n",
       "0                          True                                True   \n",
       "\n",
       "  attributes.GoodForKids attributes.HasTV attributes.Caters  \\\n",
       "0                   True             True              True   \n",
       "\n",
       "  attributes.Alcohol attributes.RestaurantsAttire  \\\n",
       "0            u'none'                    u'casual'   \n",
       "\n",
       "  attributes.RestaurantsPriceRange2               review_id  review_stars  \\\n",
       "0                                 2  MjqWXGgvcENMd60UvOXDEg             2   \n",
       "\n",
       "                                                                                           review_text  \\\n",
       "0  I used to come to this restaurant about two years ago. I loved them! Fresh food, friendly servic...   \n",
       "\n",
       "                  date  \n",
       "0  2013-10-06 17:06:11  "
      ]
     },
     "execution_count": 52,
     "metadata": {},
     "output_type": "execute_result"
    }
   ],
   "source": [
    "dataset.head(1)"
   ]
  },
  {
   "cell_type": "code",
   "execution_count": 33,
   "id": "continuing-sender",
   "metadata": {},
   "outputs": [],
   "source": [
    "#Rename columns\n",
    "dataset = dataset.rename(columns={'review_text':'review','review_stars':'sentiment'})"
   ]
  },
  {
   "cell_type": "code",
   "execution_count": 76,
   "id": "collaborative-disney",
   "metadata": {},
   "outputs": [
    {
     "data": {
      "text/html": [
       "<div>\n",
       "<style scoped>\n",
       "    .dataframe tbody tr th:only-of-type {\n",
       "        vertical-align: middle;\n",
       "    }\n",
       "\n",
       "    .dataframe tbody tr th {\n",
       "        vertical-align: top;\n",
       "    }\n",
       "\n",
       "    .dataframe thead th {\n",
       "        text-align: right;\n",
       "    }\n",
       "</style>\n",
       "<table border=\"1\" class=\"dataframe\">\n",
       "  <thead>\n",
       "    <tr style=\"text-align: right;\">\n",
       "      <th></th>\n",
       "      <th>index</th>\n",
       "      <th>business_id</th>\n",
       "      <th>business_name</th>\n",
       "      <th>city</th>\n",
       "      <th>state</th>\n",
       "      <th>business_stars</th>\n",
       "      <th>review_count</th>\n",
       "      <th>is_open</th>\n",
       "      <th>categories</th>\n",
       "      <th>attributes.RestaurantsCounterService</th>\n",
       "      <th>attributes.BusinessAcceptsBitcoin</th>\n",
       "      <th>attributes.AcceptsInsurance</th>\n",
       "      <th>attributes.Music</th>\n",
       "      <th>attributes.AgesAllowed</th>\n",
       "      <th>attributes.GoodForMeal</th>\n",
       "      <th>attributes.DietaryRestrictions.vegetarian</th>\n",
       "      <th>attributes.DietaryRestrictions.soy-free</th>\n",
       "      <th>attributes.DietaryRestrictions.halal</th>\n",
       "      <th>attributes.DietaryRestrictions.kosher</th>\n",
       "      <th>attributes.DietaryRestrictions.vegan</th>\n",
       "      <th>attributes.DietaryRestrictions.gluten-free</th>\n",
       "      <th>attributes.DietaryRestrictions.dairy-free</th>\n",
       "      <th>attributes.Ambience</th>\n",
       "      <th>attributes.ByAppointmentOnly</th>\n",
       "      <th>attributes.Corkage</th>\n",
       "      <th>attributes.BYOB</th>\n",
       "      <th>attributes.BusinessAcceptsCreditCards</th>\n",
       "      <th>attributes.Smoking</th>\n",
       "      <th>attributes.CoatCheck</th>\n",
       "      <th>attributes.BusinessParking</th>\n",
       "      <th>attributes.BestNights.saturday</th>\n",
       "      <th>attributes.BestNights.sunday</th>\n",
       "      <th>attributes.BestNights.thursday</th>\n",
       "      <th>attributes.BestNights.wednesday</th>\n",
       "      <th>attributes.BestNights.friday</th>\n",
       "      <th>attributes.BestNights.tuesday</th>\n",
       "      <th>attributes.BestNights.monday</th>\n",
       "      <th>attributes.Music.karaoke</th>\n",
       "      <th>attributes.Music.video</th>\n",
       "      <th>attributes.Music.live</th>\n",
       "      <th>attributes.Music.jukebox</th>\n",
       "      <th>attributes.Music.no_music</th>\n",
       "      <th>attributes.Music.background_music</th>\n",
       "      <th>attributes.Music.dj</th>\n",
       "      <th>attributes.GoodForDancing</th>\n",
       "      <th>attributes.HappyHour</th>\n",
       "      <th>attributes.WheelchairAccessible</th>\n",
       "      <th>attributes.DogsAllowed</th>\n",
       "      <th>attributes.DriveThru</th>\n",
       "      <th>attributes.GoodForMeal.breakfast</th>\n",
       "      <th>attributes.GoodForMeal.brunch</th>\n",
       "      <th>attributes.GoodForMeal.dinner</th>\n",
       "      <th>attributes.GoodForMeal.lunch</th>\n",
       "      <th>attributes.GoodForMeal.latenight</th>\n",
       "      <th>attributes.GoodForMeal.dessert</th>\n",
       "      <th>attributes.RestaurantsTableService</th>\n",
       "      <th>attributes.BikeParking</th>\n",
       "      <th>attributes.Ambience.casual</th>\n",
       "      <th>attributes.Ambience.upscale</th>\n",
       "      <th>attributes.Ambience.trendy</th>\n",
       "      <th>attributes.Ambience.touristy</th>\n",
       "      <th>attributes.Ambience.divey</th>\n",
       "      <th>attributes.Ambience.hipster</th>\n",
       "      <th>attributes.Ambience.classy</th>\n",
       "      <th>attributes.Ambience.intimate</th>\n",
       "      <th>attributes.Ambience.romantic</th>\n",
       "      <th>attributes.BusinessParking.valet</th>\n",
       "      <th>attributes.BusinessParking.lot</th>\n",
       "      <th>attributes.BusinessParking.validated</th>\n",
       "      <th>attributes.BusinessParking.street</th>\n",
       "      <th>attributes.BusinessParking.garage</th>\n",
       "      <th>attributes.OutdoorSeating</th>\n",
       "      <th>attributes.WiFi</th>\n",
       "      <th>attributes.NoiseLevel</th>\n",
       "      <th>attributes.RestaurantsReservations</th>\n",
       "      <th>attributes.RestaurantsDelivery</th>\n",
       "      <th>attributes.RestaurantsTakeOut</th>\n",
       "      <th>attributes.RestaurantsGoodForGroups</th>\n",
       "      <th>attributes.GoodForKids</th>\n",
       "      <th>attributes.HasTV</th>\n",
       "      <th>attributes.Caters</th>\n",
       "      <th>attributes.Alcohol</th>\n",
       "      <th>attributes.RestaurantsAttire</th>\n",
       "      <th>attributes.RestaurantsPriceRange2</th>\n",
       "      <th>review_id</th>\n",
       "      <th>sentiment</th>\n",
       "      <th>review</th>\n",
       "      <th>date</th>\n",
       "    </tr>\n",
       "  </thead>\n",
       "  <tbody>\n",
       "    <tr>\n",
       "      <th>0</th>\n",
       "      <td>816</td>\n",
       "      <td>--DaPTJW3-tB1vP-PfdTEg</td>\n",
       "      <td>Sunnyside Grill</td>\n",
       "      <td>Toronto</td>\n",
       "      <td>ON</td>\n",
       "      <td>4.0</td>\n",
       "      <td>51</td>\n",
       "      <td>1</td>\n",
       "      <td>Restaurants, Breakfast &amp; Brunch</td>\n",
       "      <td>NaN</td>\n",
       "      <td>NaN</td>\n",
       "      <td>NaN</td>\n",
       "      <td>NaN</td>\n",
       "      <td>NaN</td>\n",
       "      <td>NaN</td>\n",
       "      <td>NaN</td>\n",
       "      <td>NaN</td>\n",
       "      <td>NaN</td>\n",
       "      <td>NaN</td>\n",
       "      <td>NaN</td>\n",
       "      <td>NaN</td>\n",
       "      <td>NaN</td>\n",
       "      <td>NaN</td>\n",
       "      <td>NaN</td>\n",
       "      <td>NaN</td>\n",
       "      <td>NaN</td>\n",
       "      <td>NaN</td>\n",
       "      <td>NaN</td>\n",
       "      <td>NaN</td>\n",
       "      <td>NaN</td>\n",
       "      <td>NaN</td>\n",
       "      <td>NaN</td>\n",
       "      <td>NaN</td>\n",
       "      <td>NaN</td>\n",
       "      <td>NaN</td>\n",
       "      <td>NaN</td>\n",
       "      <td>NaN</td>\n",
       "      <td>NaN</td>\n",
       "      <td>NaN</td>\n",
       "      <td>NaN</td>\n",
       "      <td>NaN</td>\n",
       "      <td>NaN</td>\n",
       "      <td>NaN</td>\n",
       "      <td>NaN</td>\n",
       "      <td>NaN</td>\n",
       "      <td>NaN</td>\n",
       "      <td>NaN</td>\n",
       "      <td>NaN</td>\n",
       "      <td>NaN</td>\n",
       "      <td>True</td>\n",
       "      <td>True</td>\n",
       "      <td>False</td>\n",
       "      <td>True</td>\n",
       "      <td>False</td>\n",
       "      <td>False</td>\n",
       "      <td>NaN</td>\n",
       "      <td>True</td>\n",
       "      <td>True</td>\n",
       "      <td>False</td>\n",
       "      <td>False</td>\n",
       "      <td>False</td>\n",
       "      <td>False</td>\n",
       "      <td>False</td>\n",
       "      <td>False</td>\n",
       "      <td>False</td>\n",
       "      <td>False</td>\n",
       "      <td>False</td>\n",
       "      <td>False</td>\n",
       "      <td>False</td>\n",
       "      <td>True</td>\n",
       "      <td>False</td>\n",
       "      <td>False</td>\n",
       "      <td>u'free'</td>\n",
       "      <td>u'quiet'</td>\n",
       "      <td>False</td>\n",
       "      <td>False</td>\n",
       "      <td>True</td>\n",
       "      <td>True</td>\n",
       "      <td>True</td>\n",
       "      <td>True</td>\n",
       "      <td>True</td>\n",
       "      <td>u'none'</td>\n",
       "      <td>u'casual'</td>\n",
       "      <td>2</td>\n",
       "      <td>MjqWXGgvcENMd60UvOXDEg</td>\n",
       "      <td>2</td>\n",
       "      <td>I used to come to this restaurant about two years ago. I loved them! Fresh food, friendly servic...</td>\n",
       "      <td>2013-10-06 17:06:11</td>\n",
       "    </tr>\n",
       "  </tbody>\n",
       "</table>\n",
       "</div>"
      ],
      "text/plain": [
       "   index             business_id    business_name     city state  \\\n",
       "0    816  --DaPTJW3-tB1vP-PfdTEg  Sunnyside Grill  Toronto    ON   \n",
       "\n",
       "   business_stars  review_count  is_open                       categories  \\\n",
       "0             4.0            51        1  Restaurants, Breakfast & Brunch   \n",
       "\n",
       "  attributes.RestaurantsCounterService attributes.BusinessAcceptsBitcoin  \\\n",
       "0                                  NaN                               NaN   \n",
       "\n",
       "  attributes.AcceptsInsurance attributes.Music attributes.AgesAllowed  \\\n",
       "0                         NaN              NaN                    NaN   \n",
       "\n",
       "  attributes.GoodForMeal attributes.DietaryRestrictions.vegetarian  \\\n",
       "0                    NaN                                       NaN   \n",
       "\n",
       "  attributes.DietaryRestrictions.soy-free  \\\n",
       "0                                     NaN   \n",
       "\n",
       "  attributes.DietaryRestrictions.halal attributes.DietaryRestrictions.kosher  \\\n",
       "0                                  NaN                                   NaN   \n",
       "\n",
       "  attributes.DietaryRestrictions.vegan  \\\n",
       "0                                  NaN   \n",
       "\n",
       "  attributes.DietaryRestrictions.gluten-free  \\\n",
       "0                                        NaN   \n",
       "\n",
       "  attributes.DietaryRestrictions.dairy-free attributes.Ambience  \\\n",
       "0                                       NaN                 NaN   \n",
       "\n",
       "  attributes.ByAppointmentOnly attributes.Corkage attributes.BYOB  \\\n",
       "0                          NaN                NaN             NaN   \n",
       "\n",
       "  attributes.BusinessAcceptsCreditCards attributes.Smoking  \\\n",
       "0                                   NaN                NaN   \n",
       "\n",
       "  attributes.CoatCheck attributes.BusinessParking  \\\n",
       "0                  NaN                        NaN   \n",
       "\n",
       "  attributes.BestNights.saturday attributes.BestNights.sunday  \\\n",
       "0                            NaN                          NaN   \n",
       "\n",
       "  attributes.BestNights.thursday attributes.BestNights.wednesday  \\\n",
       "0                            NaN                             NaN   \n",
       "\n",
       "  attributes.BestNights.friday attributes.BestNights.tuesday  \\\n",
       "0                          NaN                           NaN   \n",
       "\n",
       "  attributes.BestNights.monday attributes.Music.karaoke  \\\n",
       "0                          NaN                      NaN   \n",
       "\n",
       "  attributes.Music.video attributes.Music.live attributes.Music.jukebox  \\\n",
       "0                    NaN                   NaN                      NaN   \n",
       "\n",
       "  attributes.Music.no_music attributes.Music.background_music  \\\n",
       "0                       NaN                               NaN   \n",
       "\n",
       "  attributes.Music.dj attributes.GoodForDancing attributes.HappyHour  \\\n",
       "0                 NaN                       NaN                  NaN   \n",
       "\n",
       "  attributes.WheelchairAccessible attributes.DogsAllowed attributes.DriveThru  \\\n",
       "0                             NaN                    NaN                  NaN   \n",
       "\n",
       "  attributes.GoodForMeal.breakfast attributes.GoodForMeal.brunch  \\\n",
       "0                             True                          True   \n",
       "\n",
       "  attributes.GoodForMeal.dinner attributes.GoodForMeal.lunch  \\\n",
       "0                         False                         True   \n",
       "\n",
       "  attributes.GoodForMeal.latenight attributes.GoodForMeal.dessert  \\\n",
       "0                            False                          False   \n",
       "\n",
       "  attributes.RestaurantsTableService attributes.BikeParking  \\\n",
       "0                                NaN                   True   \n",
       "\n",
       "  attributes.Ambience.casual attributes.Ambience.upscale  \\\n",
       "0                       True                       False   \n",
       "\n",
       "  attributes.Ambience.trendy attributes.Ambience.touristy  \\\n",
       "0                      False                        False   \n",
       "\n",
       "  attributes.Ambience.divey attributes.Ambience.hipster  \\\n",
       "0                     False                       False   \n",
       "\n",
       "  attributes.Ambience.classy attributes.Ambience.intimate  \\\n",
       "0                      False                        False   \n",
       "\n",
       "  attributes.Ambience.romantic attributes.BusinessParking.valet  \\\n",
       "0                        False                            False   \n",
       "\n",
       "  attributes.BusinessParking.lot attributes.BusinessParking.validated  \\\n",
       "0                          False                                False   \n",
       "\n",
       "  attributes.BusinessParking.street attributes.BusinessParking.garage  \\\n",
       "0                              True                             False   \n",
       "\n",
       "  attributes.OutdoorSeating attributes.WiFi attributes.NoiseLevel  \\\n",
       "0                     False         u'free'              u'quiet'   \n",
       "\n",
       "  attributes.RestaurantsReservations attributes.RestaurantsDelivery  \\\n",
       "0                              False                          False   \n",
       "\n",
       "  attributes.RestaurantsTakeOut attributes.RestaurantsGoodForGroups  \\\n",
       "0                          True                                True   \n",
       "\n",
       "  attributes.GoodForKids attributes.HasTV attributes.Caters  \\\n",
       "0                   True             True              True   \n",
       "\n",
       "  attributes.Alcohol attributes.RestaurantsAttire  \\\n",
       "0            u'none'                    u'casual'   \n",
       "\n",
       "  attributes.RestaurantsPriceRange2               review_id  sentiment  \\\n",
       "0                                 2  MjqWXGgvcENMd60UvOXDEg          2   \n",
       "\n",
       "                                                                                                review  \\\n",
       "0  I used to come to this restaurant about two years ago. I loved them! Fresh food, friendly servic...   \n",
       "\n",
       "                  date  \n",
       "0  2013-10-06 17:06:11  "
      ]
     },
     "execution_count": 76,
     "metadata": {},
     "output_type": "execute_result"
    }
   ],
   "source": [
    "dataset.head(1)"
   ]
  },
  {
   "cell_type": "code",
   "execution_count": 34,
   "id": "twenty-protest",
   "metadata": {},
   "outputs": [],
   "source": [
    "dataset_sentiment = dataset.loc[:,['sentiment', 'review']]"
   ]
  },
  {
   "cell_type": "code",
   "execution_count": 55,
   "id": "imperial-ivory",
   "metadata": {},
   "outputs": [
    {
     "data": {
      "text/html": [
       "<div>\n",
       "<style scoped>\n",
       "    .dataframe tbody tr th:only-of-type {\n",
       "        vertical-align: middle;\n",
       "    }\n",
       "\n",
       "    .dataframe tbody tr th {\n",
       "        vertical-align: top;\n",
       "    }\n",
       "\n",
       "    .dataframe thead th {\n",
       "        text-align: right;\n",
       "    }\n",
       "</style>\n",
       "<table border=\"1\" class=\"dataframe\">\n",
       "  <thead>\n",
       "    <tr style=\"text-align: right;\">\n",
       "      <th></th>\n",
       "      <th>sentiment</th>\n",
       "    </tr>\n",
       "  </thead>\n",
       "  <tbody>\n",
       "    <tr>\n",
       "      <th>count</th>\n",
       "      <td>417536.000000</td>\n",
       "    </tr>\n",
       "    <tr>\n",
       "      <th>mean</th>\n",
       "      <td>3.640706</td>\n",
       "    </tr>\n",
       "    <tr>\n",
       "      <th>std</th>\n",
       "      <td>1.274158</td>\n",
       "    </tr>\n",
       "    <tr>\n",
       "      <th>min</th>\n",
       "      <td>1.000000</td>\n",
       "    </tr>\n",
       "    <tr>\n",
       "      <th>25%</th>\n",
       "      <td>3.000000</td>\n",
       "    </tr>\n",
       "    <tr>\n",
       "      <th>50%</th>\n",
       "      <td>4.000000</td>\n",
       "    </tr>\n",
       "    <tr>\n",
       "      <th>75%</th>\n",
       "      <td>5.000000</td>\n",
       "    </tr>\n",
       "    <tr>\n",
       "      <th>max</th>\n",
       "      <td>5.000000</td>\n",
       "    </tr>\n",
       "  </tbody>\n",
       "</table>\n",
       "</div>"
      ],
      "text/plain": [
       "           sentiment\n",
       "count  417536.000000\n",
       "mean        3.640706\n",
       "std         1.274158\n",
       "min         1.000000\n",
       "25%         3.000000\n",
       "50%         4.000000\n",
       "75%         5.000000\n",
       "max         5.000000"
      ]
     },
     "execution_count": 55,
     "metadata": {},
     "output_type": "execute_result"
    }
   ],
   "source": [
    "dataset_sentiment.describe()"
   ]
  },
  {
   "cell_type": "code",
   "execution_count": 35,
   "id": "verified-pierce",
   "metadata": {},
   "outputs": [
    {
     "data": {
      "text/plain": [
       "4    134366\n",
       "5    127888\n",
       "3     73017\n",
       "2     41906\n",
       "1     40359\n",
       "Name: sentiment, dtype: int64"
      ]
     },
     "execution_count": 35,
     "metadata": {},
     "output_type": "execute_result"
    }
   ],
   "source": [
    "dataset_sentiment['sentiment'].value_counts()\n",
    "#imbalanced?"
   ]
  },
  {
   "cell_type": "markdown",
   "id": "differential-korean",
   "metadata": {
    "colab_type": "text",
    "id": "pOCynR0Z93-B"
   },
   "source": [
    "# Train/Test Split"
   ]
  },
  {
   "cell_type": "code",
   "execution_count": 36,
   "id": "wicked-region",
   "metadata": {},
   "outputs": [
    {
     "name": "stdout",
     "output_type": "stream",
     "text": [
      "Requirement already satisfied: scikit_learn in c:\\users\\saivi\\appdata\\local\\programs\\python\\python39\\lib\\site-packages (0.24.1)\n",
      "Requirement already satisfied: scipy>=0.19.1 in c:\\users\\saivi\\appdata\\local\\programs\\python\\python39\\lib\\site-packages (from scikit_learn) (1.6.1)\n",
      "Requirement already satisfied: numpy>=1.13.3 in c:\\users\\saivi\\appdata\\local\\programs\\python\\python39\\lib\\site-packages (from scikit_learn) (1.20.0)\n",
      "Requirement already satisfied: joblib>=0.11 in c:\\users\\saivi\\appdata\\roaming\\python\\python39\\site-packages (from scikit_learn) (1.0.1)\n",
      "Requirement already satisfied: threadpoolctl>=2.0.0 in c:\\users\\saivi\\appdata\\local\\programs\\python\\python39\\lib\\site-packages (from scikit_learn) (2.1.0)\n"
     ]
    }
   ],
   "source": [
    "!pip install scikit_learn"
   ]
  },
  {
   "cell_type": "code",
   "execution_count": 37,
   "id": "eight-induction",
   "metadata": {},
   "outputs": [],
   "source": [
    "#Class sklearn.model_selection.TimeSeriesSplit(n_splits=5, *, max_train_size=None, test_size=None, gap=0)\n",
    "#Provides train/test indices to split time series data samples that are observed at fixed time intervals, in train/test sets.\n",
    "#In the kth split, it returns first k folds as train set and the (k+1)th fold as test set.\n",
    "\n",
    "from sklearn.model_selection import TimeSeriesSplit"
   ]
  },
  {
   "cell_type": "code",
   "execution_count": 38,
   "id": "cross-protest",
   "metadata": {},
   "outputs": [],
   "source": [
    "#Preparing dataset for spliting:\n",
    "#Inculde column \"date\" as time series is considered\n",
    "dataset_sentiment = dataset.loc[:,['review', 'sentiment','date']]"
   ]
  },
  {
   "cell_type": "code",
   "execution_count": 60,
   "id": "steady-princeton",
   "metadata": {},
   "outputs": [
    {
     "data": {
      "text/html": [
       "<div>\n",
       "<style scoped>\n",
       "    .dataframe tbody tr th:only-of-type {\n",
       "        vertical-align: middle;\n",
       "    }\n",
       "\n",
       "    .dataframe tbody tr th {\n",
       "        vertical-align: top;\n",
       "    }\n",
       "\n",
       "    .dataframe thead th {\n",
       "        text-align: right;\n",
       "    }\n",
       "</style>\n",
       "<table border=\"1\" class=\"dataframe\">\n",
       "  <thead>\n",
       "    <tr style=\"text-align: right;\">\n",
       "      <th></th>\n",
       "      <th>review</th>\n",
       "      <th>sentiment</th>\n",
       "      <th>date</th>\n",
       "    </tr>\n",
       "  </thead>\n",
       "  <tbody>\n",
       "    <tr>\n",
       "      <th>0</th>\n",
       "      <td>I used to come to this restaurant about two years ago. I loved them! Fresh food, friendly servic...</td>\n",
       "      <td>2</td>\n",
       "      <td>2013-10-06 17:06:11</td>\n",
       "    </tr>\n",
       "  </tbody>\n",
       "</table>\n",
       "</div>"
      ],
      "text/plain": [
       "                                                                                                review  \\\n",
       "0  I used to come to this restaurant about two years ago. I loved them! Fresh food, friendly servic...   \n",
       "\n",
       "   sentiment                 date  \n",
       "0          2  2013-10-06 17:06:11  "
      ]
     },
     "execution_count": 60,
     "metadata": {},
     "output_type": "execute_result"
    }
   ],
   "source": [
    "dataset_sentiment.head(1)"
   ]
  },
  {
   "cell_type": "code",
   "execution_count": 61,
   "id": "overhead-benchmark",
   "metadata": {},
   "outputs": [
    {
     "data": {
      "text/plain": [
       "417536"
      ]
     },
     "execution_count": 61,
     "metadata": {},
     "output_type": "execute_result"
    }
   ],
   "source": [
    "len(dataset_sentiment)"
   ]
  },
  {
   "cell_type": "code",
   "execution_count": 39,
   "id": "conventional-wrapping",
   "metadata": {},
   "outputs": [],
   "source": [
    "#Ensure column \"date\" is datetime format\n",
    "dataset_sentiment[\"date\"] = pd.to_datetime(dataset_sentiment[\"date\"])"
   ]
  },
  {
   "cell_type": "code",
   "execution_count": 40,
   "id": "frozen-directory",
   "metadata": {},
   "outputs": [],
   "source": [
    "#Sort dataset by the content of \"date\"\n",
    "dataset_sentiment = dataset_sentiment.sort_values(by=\"date\")"
   ]
  },
  {
   "cell_type": "code",
   "execution_count": 64,
   "id": "exterior-prophet",
   "metadata": {},
   "outputs": [
    {
     "data": {
      "text/html": [
       "<div>\n",
       "<style scoped>\n",
       "    .dataframe tbody tr th:only-of-type {\n",
       "        vertical-align: middle;\n",
       "    }\n",
       "\n",
       "    .dataframe tbody tr th {\n",
       "        vertical-align: top;\n",
       "    }\n",
       "\n",
       "    .dataframe thead th {\n",
       "        text-align: right;\n",
       "    }\n",
       "</style>\n",
       "<table border=\"1\" class=\"dataframe\">\n",
       "  <thead>\n",
       "    <tr style=\"text-align: right;\">\n",
       "      <th></th>\n",
       "      <th>review</th>\n",
       "      <th>sentiment</th>\n",
       "      <th>date</th>\n",
       "    </tr>\n",
       "  </thead>\n",
       "  <tbody>\n",
       "    <tr>\n",
       "      <th>25361</th>\n",
       "      <td>Originally an old mill from 1832 located in Toronto, ON, Canada. The Distillery was re-opened to...</td>\n",
       "      <td>5</td>\n",
       "      <td>2007-12-15 00:38:57</td>\n",
       "    </tr>\n",
       "    <tr>\n",
       "      <th>20771</th>\n",
       "      <td>This is the first bar I was ever served in. Lax attitude to checking IDs aside, it was super-hip...</td>\n",
       "      <td>5</td>\n",
       "      <td>2008-04-13 09:47:22</td>\n",
       "    </tr>\n",
       "    <tr>\n",
       "      <th>162264</th>\n",
       "      <td>North Americans love Sunday brunch, the leisurely dining experience between breakfast and lunch ...</td>\n",
       "      <td>5</td>\n",
       "      <td>2008-04-27 21:06:24</td>\n",
       "    </tr>\n",
       "    <tr>\n",
       "      <th>127564</th>\n",
       "      <td>If you've only got a few days in Toronto, it's definitely worth stopping by the bar at Canoe res...</td>\n",
       "      <td>5</td>\n",
       "      <td>2008-06-09 01:11:03</td>\n",
       "    </tr>\n",
       "    <tr>\n",
       "      <th>124261</th>\n",
       "      <td>Its always helpful having someone dine with you who has never eaten a certain culinary style. a ...</td>\n",
       "      <td>3</td>\n",
       "      <td>2008-06-24 00:31:49</td>\n",
       "    </tr>\n",
       "  </tbody>\n",
       "</table>\n",
       "</div>"
      ],
      "text/plain": [
       "                                                                                                     review  \\\n",
       "25361   Originally an old mill from 1832 located in Toronto, ON, Canada. The Distillery was re-opened to...   \n",
       "20771   This is the first bar I was ever served in. Lax attitude to checking IDs aside, it was super-hip...   \n",
       "162264  North Americans love Sunday brunch, the leisurely dining experience between breakfast and lunch ...   \n",
       "127564  If you've only got a few days in Toronto, it's definitely worth stopping by the bar at Canoe res...   \n",
       "124261  Its always helpful having someone dine with you who has never eaten a certain culinary style. a ...   \n",
       "\n",
       "        sentiment                date  \n",
       "25361           5 2007-12-15 00:38:57  \n",
       "20771           5 2008-04-13 09:47:22  \n",
       "162264          5 2008-04-27 21:06:24  \n",
       "127564          5 2008-06-09 01:11:03  \n",
       "124261          3 2008-06-24 00:31:49  "
      ]
     },
     "execution_count": 64,
     "metadata": {},
     "output_type": "execute_result"
    }
   ],
   "source": [
    "#Check result after sorting\n",
    "dataset_sentiment.head(5)"
   ]
  },
  {
   "cell_type": "code",
   "execution_count": 65,
   "id": "split-timing",
   "metadata": {},
   "outputs": [
    {
     "data": {
      "text/plain": [
       "<AxesSubplot:xlabel='sentiment', ylabel='Count'>"
      ]
     },
     "execution_count": 65,
     "metadata": {},
     "output_type": "execute_result"
    },
    {
     "data": {
      "image/png": "[encoded data removed]",
      "text/plain": [
       "<Figure size 864x288 with 1 Axes>"
      ]
     },
     "metadata": {},
     "output_type": "display_data"
    }
   ],
   "source": [
    "sns.histplot(dataset_sentiment.sentiment)"
   ]
  },
  {
   "cell_type": "code",
   "execution_count": null,
   "id": "comic-argument",
   "metadata": {},
   "outputs": [],
   "source": [
    "#Reference code: split dataset by certain percentage (e.g.70% for training and 30% for testing) instead of cross-validation\n",
    "#X_train = X[:int(X.shape[0]*0.7)]\n",
    "#X_test = X[int(X.shape[0]*0.7):]\n",
    "#y_train = y[:int(X.shape[0]*0.7)]\n",
    "#y_test = y[int(X.shape[0]*0.7):]"
   ]
  },
  {
   "cell_type": "code",
   "execution_count": 41,
   "id": "endangered-leisure",
   "metadata": {},
   "outputs": [],
   "source": [
    "dataset_sentiment = dataset_sentiment.drop(columns = ['date'])"
   ]
  },
  {
   "cell_type": "code",
   "execution_count": 67,
   "id": "acquired-stomach",
   "metadata": {},
   "outputs": [
    {
     "data": {
      "text/html": [
       "<div>\n",
       "<style scoped>\n",
       "    .dataframe tbody tr th:only-of-type {\n",
       "        vertical-align: middle;\n",
       "    }\n",
       "\n",
       "    .dataframe tbody tr th {\n",
       "        vertical-align: top;\n",
       "    }\n",
       "\n",
       "    .dataframe thead th {\n",
       "        text-align: right;\n",
       "    }\n",
       "</style>\n",
       "<table border=\"1\" class=\"dataframe\">\n",
       "  <thead>\n",
       "    <tr style=\"text-align: right;\">\n",
       "      <th></th>\n",
       "      <th>review</th>\n",
       "      <th>sentiment</th>\n",
       "    </tr>\n",
       "  </thead>\n",
       "  <tbody>\n",
       "    <tr>\n",
       "      <th>25361</th>\n",
       "      <td>Originally an old mill from 1832 located in Toronto, ON, Canada. The Distillery was re-opened to...</td>\n",
       "      <td>5</td>\n",
       "    </tr>\n",
       "  </tbody>\n",
       "</table>\n",
       "</div>"
      ],
      "text/plain": [
       "                                                                                                    review  \\\n",
       "25361  Originally an old mill from 1832 located in Toronto, ON, Canada. The Distillery was re-opened to...   \n",
       "\n",
       "       sentiment  \n",
       "25361          5  "
      ]
     },
     "execution_count": 67,
     "metadata": {},
     "output_type": "execute_result"
    }
   ],
   "source": [
    "dataset_sentiment.head(1)"
   ]
  },
  {
   "cell_type": "code",
   "execution_count": 42,
   "id": "false-norman",
   "metadata": {},
   "outputs": [
    {
     "name": "stdout",
     "output_type": "stream",
     "text": [
      "417536\n",
      "417536\n"
     ]
    }
   ],
   "source": [
    "x = dataset_sentiment['review']\n",
    "y = dataset_sentiment['sentiment']\n",
    "print(len(x))\n",
    "print(len(y))"
   ]
  },
  {
   "cell_type": "code",
   "execution_count": 43,
   "id": "heard-absorption",
   "metadata": {},
   "outputs": [],
   "source": [
    "#Split data by using TimeSeriesSplit\n",
    "cv = TimeSeriesSplit(n_splits = 5)"
   ]
  },
  {
   "cell_type": "code",
   "execution_count": 70,
   "id": "joined-gravity",
   "metadata": {},
   "outputs": [
    {
     "data": {
      "image/png": "[encoded data removed]",
      "text/plain": [
       "<Figure size 864x288 with 1 Axes>"
      ]
     },
     "metadata": {},
     "output_type": "display_data"
    }
   ],
   "source": [
    "#Visualize the TimeSeriesSplit\n",
    "#tr: train_index; tt: text_index\n",
    "fig,ax = plt.subplots()\n",
    "for ii, (tr,tt) in enumerate(cv.split(x,y)):\n",
    "    #Plot training and test indices\n",
    "    l1 = ax.scatter(tr,[ii]*len(tr), c=[plt.cm.coolwarm(.1)], marker='_',lw=6)\n",
    "    l2 = ax.scatter(tt,[ii]*len(tt), c=[plt.cm.coolwarm(.9)], marker='_',lw=6)\n",
    "    ax.set(ylim = [10,-1], title= 'TimeSeriesSplit behavior', xlabel='data index',ylabel='CV iteration')\n",
    "    ax.legend([l1,l2],['Training','Validation'])"
   ]
  },
  {
   "cell_type": "code",
   "execution_count": 44,
   "id": "informative-preparation",
   "metadata": {},
   "outputs": [
    {
     "name": "stdout",
     "output_type": "stream",
     "text": [
      "TRAIN: [    0     1     2 ... 69588 69589 69590] TEST: [ 69591  69592  69593 ... 139177 139178 139179]\n",
      "TRAIN: [     0      1      2 ... 139177 139178 139179] TEST: [139180 139181 139182 ... 208766 208767 208768]\n",
      "TRAIN: [     0      1      2 ... 208766 208767 208768] TEST: [208769 208770 208771 ... 278355 278356 278357]\n",
      "TRAIN: [     0      1      2 ... 278355 278356 278357] TEST: [278358 278359 278360 ... 347944 347945 347946]\n",
      "TRAIN: [     0      1      2 ... 347944 347945 347946] TEST: [347947 347948 347949 ... 417533 417534 417535]\n"
     ]
    }
   ],
   "source": [
    "#Train and test index\n",
    "for tr, tt in cv.split(x):\n",
    "    print(\"TRAIN:\", tr, \"TEST:\", tt) \n",
    "    X_train, X_test = x[tr], x[tt]\n",
    "    y_train, y_test = y[tr], y[tt]"
   ]
  },
  {
   "cell_type": "code",
   "execution_count": 45,
   "id": "homeless-adrian",
   "metadata": {},
   "outputs": [],
   "source": [
    "#Generate X_train, X_text and y_train, y_test dataset:\n",
    "for tr, tt in cv.split(x):\n",
    "    X_train, X_test = x.iloc[tr], x.iloc[tt]\n",
    "    y_train, y_test = y.iloc[tr], y.iloc[tt]"
   ]
  },
  {
   "cell_type": "markdown",
   "id": "spoken-viewer",
   "metadata": {
    "colab_type": "text",
    "id": "2GNbdd-wAYQc"
   },
   "source": [
    "# Baseline"
   ]
  },
  {
   "cell_type": "markdown",
   "id": "packed-catering",
   "metadata": {
    "colab_type": "text",
    "id": "vOz_rgslAYQc"
   },
   "source": [
    "Naive Bayes with default parameters\n",
    "- CountVectorizer\n",
    "- Unigram\n",
    "- No non-word/stop word removal\n",
    "- No normalization (stemming/lemmatization)"
   ]
  },
  {
   "cell_type": "code",
   "execution_count": null,
   "id": "rapid-armor",
   "metadata": {},
   "outputs": [],
   "source": [
    "'''\n",
    "CountVectorizer is used to transform a given text into a vector on the basis of the frequency (count) of each word that occurs in the entire text.\n",
    "TF-IDF is a statistical measure that evaluates how relevant a word is to a document in a collection of documents. \n",
    "TF-IDF = Term Frequency (TF) * Inverse Document Frequency (IDF)\n",
    "'''"
   ]
  },
  {
   "cell_type": "code",
   "execution_count": 46,
   "id": "painted-geography",
   "metadata": {},
   "outputs": [],
   "source": [
    "#Prepare for training / testing:\n",
    "import nltk\n",
    "from nltk.corpus import stopwords"
   ]
  },
  {
   "cell_type": "code",
   "execution_count": 47,
   "id": "distinguished-lighting",
   "metadata": {},
   "outputs": [],
   "source": [
    "from sklearn.feature_extraction.text import CountVectorizer, TfidfVectorizer"
   ]
  },
  {
   "cell_type": "code",
   "execution_count": 48,
   "id": "chemical-constant",
   "metadata": {},
   "outputs": [],
   "source": [
    "from sklearn.model_selection import cross_val_predict\n",
    "from sklearn.metrics import confusion_matrix"
   ]
  },
  {
   "cell_type": "code",
   "execution_count": 49,
   "id": "mental-handling",
   "metadata": {},
   "outputs": [],
   "source": [
    "#Multinomial Classification is used for discrete counts here\n",
    "from sklearn.naive_bayes import MultinomialNB"
   ]
  },
  {
   "cell_type": "code",
   "execution_count": 70,
   "id": "negative-breast",
   "metadata": {},
   "outputs": [],
   "source": [
    "from yelpsent import data\n",
    "from yelpsent import features\n",
    "from yelpsent import metrics\n",
    "from yelpsent import visualization\n",
    "from yelpsent import models"
   ]
  },
  {
   "cell_type": "code",
   "execution_count": 71,
   "id": "korean-wales",
   "metadata": {},
   "outputs": [],
   "source": [
    "import importlib\n",
    "def reload():\n",
    "  importlib.reload(data)\n",
    "  importlib.reload(features)\n",
    "  importlib.reload(metrics)\n",
    "  importlib.reload(visualization)\n",
    "  importlib.reload(models)"
   ]
  },
  {
   "cell_type": "code",
   "execution_count": 52,
   "id": "static-container",
   "metadata": {},
   "outputs": [
    {
     "name": "stderr",
     "output_type": "stream",
     "text": [
      "[nltk_data] Downloading package punkt to\n",
      "[nltk_data]     C:\\Users\\Saivi\\AppData\\Roaming\\nltk_data...\n",
      "[nltk_data]   Package punkt is already up-to-date!\n",
      "[nltk_data] Downloading package stopwords to\n",
      "[nltk_data]     C:\\Users\\Saivi\\AppData\\Roaming\\nltk_data...\n",
      "[nltk_data]   Package stopwords is already up-to-date!\n",
      "[nltk_data] Downloading package wordnet to\n",
      "[nltk_data]     C:\\Users\\Saivi\\AppData\\Roaming\\nltk_data...\n",
      "[nltk_data]   Package wordnet is already up-to-date!\n",
      "[nltk_data] Downloading package averaged_perceptron_tagger to\n",
      "[nltk_data]     C:\\Users\\Saivi\\AppData\\Roaming\\nltk_data...\n",
      "[nltk_data]   Package averaged_perceptron_tagger is already up-to-\n",
      "[nltk_data]       date!\n"
     ]
    },
    {
     "data": {
      "text/plain": [
       "True"
      ]
     },
     "execution_count": 52,
     "metadata": {},
     "output_type": "execute_result"
    }
   ],
   "source": [
    "nltk.download('punkt')\n",
    "nltk.download('stopwords')\n",
    "nltk.download('wordnet')\n",
    "nltk.download('averaged_perceptron_tagger')"
   ]
  },
  {
   "cell_type": "code",
   "execution_count": 80,
   "id": "grateful-norway",
   "metadata": {},
   "outputs": [
    {
     "data": {
      "image/png": "[encoded data removed]",
      "text/plain": [
       "<Figure size 216x216 with 1 Axes>"
      ]
     },
     "metadata": {},
     "output_type": "display_data"
    },
    {
     "name": "stdout",
     "output_type": "stream",
     "text": [
      "Macro F1 Scores: \n",
      " Training: 0.5934097359161483 \n",
      " Testing: 0.5502714319418232\n"
     ]
    }
   ],
   "source": [
    "baseline, y_train_pred_baseline, y_test_pred_baseline, f1_train_baseline, f1_test_baseline = \\\n",
    "models.train_and_test(X_train = X_train,\n",
    "                      y_train = y_train,\n",
    "                      X_test = X_test,\n",
    "                      y_test = y_test,\n",
    "                      classifier = MultinomialNB(),\n",
    "                      vectorizer = CountVectorizer())\n",
    "\n",
    "print(\"Macro F1 Scores: \\n Training: {0} \\n Testing: {1}\".format(f1_train_baseline, f1_test_baseline))"
   ]
  },
  {
   "cell_type": "code",
   "execution_count": 120,
   "id": "rocky-settlement",
   "metadata": {},
   "outputs": [],
   "source": []
  },
  {
   "cell_type": "markdown",
   "id": "complicated-glass",
   "metadata": {
    "colab_type": "text",
    "id": "rb0MpuhYd_8m"
   },
   "source": [
    "# 1 - Other Vectorizers"
   ]
  },
  {
   "cell_type": "markdown",
   "id": "sitting-rwanda",
   "metadata": {
    "colab_type": "text",
    "id": "rd8UOCDheOPc"
   },
   "source": [
    "TfidfVectorizer"
   ]
  },
  {
   "cell_type": "code",
   "execution_count": 107,
   "id": "assisted-heavy",
   "metadata": {},
   "outputs": [
    {
     "data": {
      "image/png": "[encoded data removed]",
      "text/plain": [
       "<Figure size 216x216 with 1 Axes>"
      ]
     },
     "metadata": {},
     "output_type": "display_data"
    },
    {
     "name": "stdout",
     "output_type": "stream",
     "text": [
      "Macro F1 Scores: \n",
      " Training: 0.466941142022224 \n",
      " Testing: 0.4246011760464458\n"
     ]
    }
   ],
   "source": [
    "tfidf, y_train_pred_tfidf, y_test_pred_tfidf, f1_train_tfidf, f1_test_tfidf = \\\n",
    "models.train_and_test(X_train=X_train,\n",
    "                      y_train=y_train,\n",
    "                      X_test=X_test,\n",
    "                      y_test=y_test,\n",
    "                      classifier=MultinomialNB(),\n",
    "                      vectorizer=TfidfVectorizer())\n",
    "\n",
    "print(\"Macro F1 Scores: \\n Training: {0} \\n Testing: {1}\".format(f1_train_tfidf, f1_test_tfidf))"
   ]
  },
  {
   "cell_type": "code",
   "execution_count": 108,
   "id": "connected-naples",
   "metadata": {},
   "outputs": [
    {
     "data": {
      "text/plain": [
       "[(\"It's very good, very subtle flavours of fish, good service but overall not as good as Yasu.\",\n",
       "  91),\n",
       " ('Good food. Always on point. Would recommend to a friend in the area but not worth traveling for.',\n",
       "  96),\n",
       " ('I really like this restaurant, I already eaten many times~ good food, good services, good environment.',\n",
       "  102),\n",
       " ('Great food. Michael was great!  But cannot order alcohol from Parklet on the street. Otherwise would be 5 stars.',\n",
       "  112),\n",
       " ('Lamb Biryani very good\\nChicken Karachi not very authentic..\\nButter chicken very good \\nChicken muglai korma very good',\n",
       "  116)]"
      ]
     },
     "execution_count": 108,
     "metadata": {},
     "output_type": "execute_result"
    }
   ],
   "source": [
    "#get examples where: actual rating is \"2\", and baseline model predicted \"2\", and TF-IDF predicted \"1\"\n",
    "models.get_examples(X_test, y_test, y_test_pred_baseline, y_test_pred_tfidf,4,4,5)"
   ]
  },
  {
   "cell_type": "code",
   "execution_count": 109,
   "id": "favorite-password",
   "metadata": {},
   "outputs": [],
   "source": [
    "ex = ['I really like this restaurant, I already eaten many times~ good food, good services, good environment.']"
   ]
  },
  {
   "cell_type": "code",
   "execution_count": 114,
   "id": "structured-acrobat",
   "metadata": {},
   "outputs": [
    {
     "data": {
      "text/plain": [
       "array([[0.01268726, 0.04772325, 0.17789759, 0.39068872, 0.37100319]])"
      ]
     },
     "execution_count": 114,
     "metadata": {},
     "output_type": "execute_result"
    }
   ],
   "source": [
    "#How baseline model predict the rating of above two examples:\n",
    "baseline.predict_proba(ex)"
   ]
  },
  {
   "cell_type": "code",
   "execution_count": 115,
   "id": "third-livestock",
   "metadata": {},
   "outputs": [
    {
     "name": "stdout",
     "output_type": "stream",
     "text": [
      "already [1]\n",
      "eaten [1]\n",
      "environment [1]\n",
      "food [1]\n",
      "good [3]\n",
      "like [1]\n",
      "many [1]\n",
      "really [1]\n",
      "restaurant [1]\n",
      "services [1]\n",
      "this [1]\n",
      "times [1]\n"
     ]
    }
   ],
   "source": [
    "#Return the term frequency of each word in two examples:\n",
    "for i, v in zip(baseline.named_steps['vectorizer'].get_feature_names(),\n",
    "                baseline.named_steps['vectorizer'].transform(ex).toarray().transpose()):\n",
    "  if np.any(v) > 0:\n",
    "    print(i, v)"
   ]
  },
  {
   "cell_type": "code",
   "execution_count": 116,
   "id": "identified-easter",
   "metadata": {},
   "outputs": [
    {
     "data": {
      "text/plain": [
       "array([[0.03616662, 0.048543  , 0.13660165, 0.38097378, 0.39771495]])"
      ]
     },
     "execution_count": 116,
     "metadata": {},
     "output_type": "execute_result"
    }
   ],
   "source": [
    "#How TF-IDF model predict the rating of above two examples:\n",
    "tfidf.predict_proba(ex)"
   ]
  },
  {
   "cell_type": "code",
   "execution_count": null,
   "id": "established-bottom",
   "metadata": {},
   "outputs": [],
   "source": []
  },
  {
   "cell_type": "markdown",
   "id": "dense-canyon",
   "metadata": {
    "colab_type": "text",
    "id": "uazuxXLIeQW9"
   },
   "source": [
    "Binary CountVectorizer"
   ]
  },
  {
   "cell_type": "code",
   "execution_count": 117,
   "id": "treated-resolution",
   "metadata": {},
   "outputs": [
    {
     "data": {
      "image/png": "[encoded data removed]",
      "text/plain": [
       "<Figure size 216x216 with 1 Axes>"
      ]
     },
     "metadata": {},
     "output_type": "display_data"
    },
    {
     "name": "stdout",
     "output_type": "stream",
     "text": [
      "Macro F1 Scores: \n",
      " Training: 0.6048726042577922 \n",
      " Testing: 0.5565273196429427\n"
     ]
    }
   ],
   "source": [
    "binary, y_train_pred_binary, y_test_pred_binary, f1_train_binary, f1_test_binary = \\\n",
    "models.train_and_test(X_train=X_train,\n",
    "                      y_train=y_train,\n",
    "                      X_test=X_test,\n",
    "                      y_test=y_test,\n",
    "                      classifier=MultinomialNB(),\n",
    "                      vectorizer=CountVectorizer(binary=True))\n",
    "\n",
    "print(\"Macro F1 Scores: \\n Training: {0} \\n Testing: {1}\".format(f1_train_binary, f1_test_binary))"
   ]
  },
  {
   "cell_type": "code",
   "execution_count": 118,
   "id": "interested-session",
   "metadata": {},
   "outputs": [
    {
     "data": {
      "text/plain": [
       "array([[0.06563739, 0.07332392, 0.12737823, 0.27217241, 0.46148805]])"
      ]
     },
     "execution_count": 118,
     "metadata": {},
     "output_type": "execute_result"
    }
   ],
   "source": [
    "binary.predict_proba(ex)"
   ]
  },
  {
   "cell_type": "code",
   "execution_count": 169,
   "id": "suited-composer",
   "metadata": {},
   "outputs": [
    {
     "data": {
      "text/plain": [
       "'\\nConclusion:\\nAfter comparing three models, binary countvertorizer has the highest F1 scores.\\nBinary countvertorizer will be used for our future experiments.\\n'"
      ]
     },
     "execution_count": 169,
     "metadata": {},
     "output_type": "execute_result"
    }
   ],
   "source": [
    "\"\"\"\n",
    "Conclusion:\n",
    "After comparing three models, binary countvertorizer has the highest F1 scores.\n",
    "Binary countvertorizer will be used for our future experiments.\n",
    "\"\"\""
   ]
  },
  {
   "cell_type": "markdown",
   "id": "genuine-makeup",
   "metadata": {
    "colab_type": "text",
    "id": "4wYpz2F9AYQv"
   },
   "source": [
    "# 2 - N-Grams"
   ]
  },
  {
   "cell_type": "markdown",
   "id": "unsigned-invasion",
   "metadata": {
    "colab_type": "text",
    "id": "5VYbIblMAYQw"
   },
   "source": [
    "Unigram + Bigrams"
   ]
  },
  {
   "cell_type": "code",
   "execution_count": 120,
   "id": "opposed-lighter",
   "metadata": {},
   "outputs": [
    {
     "data": {
      "image/png": "[encoded data removed]",
      "text/plain": [
       "<Figure size 216x216 with 1 Axes>"
      ]
     },
     "metadata": {},
     "output_type": "display_data"
    },
    {
     "name": "stdout",
     "output_type": "stream",
     "text": [
      "Macro F1 Scores: \n",
      " Training: 0.8104919601136039 \n",
      " Testing: 0.538933806301886\n"
     ]
    }
   ],
   "source": [
    "bigrams, y_train_pred_bigrams, y_test_pred_bigrams, f1_train_bigrams, f1_test_bigrams = \\\n",
    "models.train_and_test(X_train=X_train,\n",
    "                      y_train=y_train,\n",
    "                      X_test=X_test,\n",
    "                      y_test=y_test,\n",
    "                      classifier=MultinomialNB(),\n",
    "                      vectorizer=CountVectorizer(binary=True,\n",
    "                                                 ngram_range=(1,2)))\n",
    "\n",
    "print(\"Macro F1 Scores: \\n Training: {0} \\n Testing: {1}\".format(f1_train_bigrams, f1_test_bigrams))"
   ]
  },
  {
   "cell_type": "code",
   "execution_count": 121,
   "id": "assumed-monitor",
   "metadata": {},
   "outputs": [
    {
     "data": {
      "text/plain": [
       "array([[3.15584461e-06, 1.51444148e-03, 1.49970589e-02, 7.34793785e-01,\n",
       "        2.48691559e-01]])"
      ]
     },
     "execution_count": 121,
     "metadata": {},
     "output_type": "execute_result"
    }
   ],
   "source": [
    "bigrams.predict_proba(ex)"
   ]
  },
  {
   "cell_type": "code",
   "execution_count": null,
   "id": "optical-hanging",
   "metadata": {},
   "outputs": [],
   "source": []
  },
  {
   "cell_type": "markdown",
   "id": "sunset-season",
   "metadata": {
    "colab_type": "text",
    "id": "BgOEsHmVAYRA"
   },
   "source": [
    "Unigram + Bigrams + Trigrams"
   ]
  },
  {
   "cell_type": "code",
   "execution_count": 122,
   "id": "closed-million",
   "metadata": {},
   "outputs": [
    {
     "data": {
      "image/png": "[encoded data removed]",
      "text/plain": [
       "<Figure size 216x216 with 1 Axes>"
      ]
     },
     "metadata": {},
     "output_type": "display_data"
    },
    {
     "name": "stdout",
     "output_type": "stream",
     "text": [
      "Macro F1 Scores: \n",
      " Training: 0.9190101285618691 \n",
      " Testing: 0.4694880787258501\n"
     ]
    }
   ],
   "source": [
    "trigrams, y_train_pred_trigrams, y_test_pred_trigrams, f1_train_trigrams, f1_test_trigrams = \\\n",
    "models.train_and_test(X_train=X_train,\n",
    "                      y_train=y_train,\n",
    "                      X_test=X_test,\n",
    "                      y_test=y_test,\n",
    "                      classifier=MultinomialNB(),\n",
    "                      vectorizer=CountVectorizer(binary=True,\n",
    "                                                 ngram_range=(1,3)))\n",
    "\n",
    "print(\"Macro F1 Scores: \\n Training: {0} \\n Testing: {1}\".format(f1_train_trigrams, f1_test_trigrams))"
   ]
  },
  {
   "cell_type": "code",
   "execution_count": 123,
   "id": "alert-language",
   "metadata": {},
   "outputs": [
    {
     "data": {
      "text/plain": [
       "array([[6.02741444e-12, 4.82652077e-07, 1.51781933e-05, 9.91465394e-01,\n",
       "        8.51894484e-03]])"
      ]
     },
     "execution_count": 123,
     "metadata": {},
     "output_type": "execute_result"
    }
   ],
   "source": [
    "trigrams.predict_proba(ex)"
   ]
  },
  {
   "cell_type": "code",
   "execution_count": null,
   "id": "collectible-trance",
   "metadata": {},
   "outputs": [],
   "source": []
  },
  {
   "cell_type": "markdown",
   "id": "agricultural-mongolia",
   "metadata": {
    "colab_type": "text",
    "id": "VVqIX-DMAYRR"
   },
   "source": [
    "# 2b - Remove Non-Words/Numbers"
   ]
  },
  {
   "cell_type": "code",
   "execution_count": 88,
   "id": "stylish-focus",
   "metadata": {},
   "outputs": [
    {
     "data": {
      "image/png": "[encoded data removed]",
      "text/plain": [
       "<Figure size 216x216 with 1 Axes>"
      ]
     },
     "metadata": {},
     "output_type": "display_data"
    },
    {
     "name": "stdout",
     "output_type": "stream",
     "text": [
      "Macro F1 Scores: \n",
      " Training: 0.5937381613867835 \n",
      " Testing: 0.5521389491697442\n"
     ]
    }
   ],
   "source": [
    "filtered, y_train_pred_filtered, y_test_pred_filtered, f1_train_filtered, f1_test_filtered = \\\n",
    "models.train_and_test(X_train=X_train,\n",
    "                      y_train=y_train,\n",
    "                      X_test=X_test,\n",
    "                      y_test=y_test,\n",
    "                      classifier=MultinomialNB(),\n",
    "                      vectorizer=CountVectorizer(token_pattern = '[a-zA-Z0-9]+'))\n",
    "print(\"Macro F1 Scores: \\n Training: {0} \\n Testing: {1}\".format(f1_train_filtered, f1_test_filtered))"
   ]
  },
  {
   "cell_type": "code",
   "execution_count": 89,
   "id": "upper-floating",
   "metadata": {},
   "outputs": [],
   "source": [
    "features_baseline = baseline.named_steps['vectorizer'].get_feature_names()"
   ]
  },
  {
   "cell_type": "code",
   "execution_count": 90,
   "id": "alternative-prior",
   "metadata": {},
   "outputs": [],
   "source": [
    "features_filtered = filtered.named_steps['vectorizer'].get_feature_names()"
   ]
  },
  {
   "cell_type": "code",
   "execution_count": 91,
   "id": "acknowledged-arbitration",
   "metadata": {},
   "outputs": [
    {
     "name": "stdout",
     "output_type": "stream",
     "text": [
      "Baseline: 128292, Filtered: 123465\n"
     ]
    }
   ],
   "source": [
    "print(\"Baseline: {0}, Filtered: {1}\".format(len(features_baseline), len(features_filtered)))"
   ]
  },
  {
   "cell_type": "code",
   "execution_count": 104,
   "id": "executed-somewhere",
   "metadata": {},
   "outputs": [
    {
     "name": "stdout",
     "output_type": "stream",
     "text": [
      "00閉店と載っていても\n"
     ]
    }
   ],
   "source": [
    "for f in features_baseline:\n",
    "    if f not in features_filtered:\n",
    "        print(f)\n",
    "        break"
   ]
  },
  {
   "cell_type": "code",
   "execution_count": null,
   "id": "vocational-notion",
   "metadata": {},
   "outputs": [],
   "source": []
  },
  {
   "cell_type": "markdown",
   "id": "variable-mobile",
   "metadata": {
    "colab_type": "text",
    "id": "u7oTogUeAYRj"
   },
   "source": [
    "# 3 - Remove Stopwords/Infrequent Words"
   ]
  },
  {
   "cell_type": "code",
   "execution_count": 102,
   "id": "curious-vacuum",
   "metadata": {},
   "outputs": [
    {
     "name": "stderr",
     "output_type": "stream",
     "text": [
      "[nltk_data] Downloading package stopwords to\n",
      "[nltk_data]     C:\\Users\\Saivi\\AppData\\Roaming\\nltk_data...\n",
      "[nltk_data]   Package stopwords is already up-to-date!\n"
     ]
    },
    {
     "data": {
      "text/plain": [
       "True"
      ]
     },
     "execution_count": 102,
     "metadata": {},
     "output_type": "execute_result"
    }
   ],
   "source": [
    "nltk.download('stopwords')"
   ]
  },
  {
   "cell_type": "code",
   "execution_count": 124,
   "id": "protective-matthew",
   "metadata": {},
   "outputs": [
    {
     "data": {
      "image/png": "[encoded data removed]",
      "text/plain": [
       "<Figure size 216x216 with 1 Axes>"
      ]
     },
     "metadata": {},
     "output_type": "display_data"
    },
    {
     "name": "stdout",
     "output_type": "stream",
     "text": [
      "Macro F1 Scores: \n",
      " Training: 0.8765988210444527 \n",
      " Testing: 0.49221373502506877\n"
     ]
    }
   ],
   "source": [
    "stopworded, y_train_pred_stopworded, y_test_pred_stopworded, f1_train_stopworded, f1_test_stopworded = \\\n",
    "models.train_and_test(X_train=X_train,\n",
    "                      y_train=y_train,\n",
    "                      X_test=X_test,\n",
    "                      y_test=y_test,\n",
    "                      classifier=MultinomialNB(),\n",
    "                      vectorizer=CountVectorizer(binary=True,\n",
    "                                                 ngram_range=(1,2),\n",
    "                                                 stop_words=stopwords.words('english')))\n",
    "\n",
    "print(\"Macro F1 Scores: \\n Training: {0} \\n Testing: {1}\".format(f1_train_stopworded, f1_test_stopworded))"
   ]
  },
  {
   "cell_type": "code",
   "execution_count": 125,
   "id": "imperial-reproduction",
   "metadata": {},
   "outputs": [
    {
     "data": {
      "text/plain": [
       "3781534"
      ]
     },
     "execution_count": 125,
     "metadata": {},
     "output_type": "execute_result"
    }
   ],
   "source": [
    "len(bigrams.named_steps['vectorizer'].get_feature_names())"
   ]
  },
  {
   "cell_type": "code",
   "execution_count": 126,
   "id": "filled-iceland",
   "metadata": {},
   "outputs": [
    {
     "data": {
      "text/plain": [
       "5465144"
      ]
     },
     "execution_count": 126,
     "metadata": {},
     "output_type": "execute_result"
    }
   ],
   "source": [
    "len(stopworded.named_steps['vectorizer'].get_feature_names())"
   ]
  },
  {
   "cell_type": "code",
   "execution_count": 127,
   "id": "checked-thanksgiving",
   "metadata": {},
   "outputs": [
    {
     "name": "stdout",
     "output_type": "stream",
     "text": [
      "('the', array([-5.84839187, -5.82738076, -5.65656383, -5.47872286, -5.36763789]))\n",
      "('and', array([-5.88305425, -5.87342864, -5.70760519, -5.49853524, -5.37427227]))\n",
      "('to', array([-5.9775457 , -5.99072218, -5.84074133, -5.70726119, -5.65231001]))\n",
      "('it', array([-6.13802415, -6.05958337, -5.87508672, -5.76775618, -5.78043917]))\n",
      "('of', array([-6.16155157, -6.10810839, -5.92752981, -5.78019044, -5.77188821]))\n",
      "('for', array([-6.16380666, -6.10504149, -5.91625484, -5.79424578, -5.81552874]))\n",
      "('was', array([-6.06950306, -6.01379349, -5.916539  , -5.87432492, -5.93156319]))\n",
      "('is', array([-6.35380702, -6.25233218, -6.00582056, -5.81562092, -5.73210858]))\n",
      "('in', array([-6.26975758, -6.253486  , -6.09144219, -5.93900644, -5.84189677]))\n",
      "('but', array([-6.41751438, -6.14327513, -5.91402811, -5.92986572, -6.14930925]))\n"
     ]
    }
   ],
   "source": [
    "models.most_frequent_words(bigrams.named_steps['vectorizer'],\n",
    "                           bigrams.named_steps['classifier'],\n",
    "                           k=10)"
   ]
  },
  {
   "cell_type": "code",
   "execution_count": 128,
   "id": "compound-relation",
   "metadata": {},
   "outputs": [
    {
     "name": "stdout",
     "output_type": "stream",
     "text": [
      "('food', array([-6.24161995, -6.17738072, -5.99935309, -5.82675839, -5.75048772]))\n",
      "('place', array([-6.58019066, -6.51521294, -6.21056474, -5.93974317, -5.86591378]))\n",
      "('good', array([-6.9850117 , -6.47326973, -5.96988115, -5.80010399, -6.09785853]))\n",
      "('service', array([-6.58764657, -6.54791838, -6.34419181, -6.17878953, -6.13626806]))\n",
      "('like', array([-6.77580414, -6.63075846, -6.4046676 , -6.33922415, -6.55332843]))\n",
      "('one', array([-6.84952222, -6.86153972, -6.68138722, -6.45558478, -6.47544757]))\n",
      "('would', array([-6.89167638, -6.85506173, -6.54784838, -6.45398698, -6.7458526 ]))\n",
      "('back', array([-6.87545593, -6.93307892, -6.78671463, -6.48059555, -6.46042242]))\n",
      "('great', array([-7.83732153, -7.22943196, -6.68796226, -6.06021858, -5.95068119]))\n",
      "('really', array([-7.34180027, -6.9144355 , -6.60111081, -6.39508825, -6.58674846]))\n"
     ]
    }
   ],
   "source": [
    "models.most_frequent_words(stopworded.named_steps['vectorizer'],\n",
    "                           stopworded.named_steps['classifier'],\n",
    "                           k=10)"
   ]
  },
  {
   "cell_type": "code",
   "execution_count": 129,
   "id": "sonic-contribution",
   "metadata": {},
   "outputs": [
    {
     "data": {
      "image/png": "[encoded data removed]",
      "text/plain": [
       "<Figure size 216x216 with 1 Axes>"
      ]
     },
     "metadata": {},
     "output_type": "display_data"
    },
    {
     "name": "stdout",
     "output_type": "stream",
     "text": [
      "Macro F1 Scores: \n",
      " Training: 0.7326748910058527 \n",
      " Testing: 0.5949193767137366\n"
     ]
    }
   ],
   "source": [
    "infrequented, y_train_pred_infrequented, y_test_pred_infrequented, f1_train_infrequented, f1_test_infrequented = \\\n",
    "models.train_and_test(X_train=X_train,\n",
    "                      y_train=y_train,\n",
    "                      X_test=X_test,\n",
    "                      y_test=y_test,\n",
    "                      classifier=MultinomialNB(),\n",
    "                      vectorizer=CountVectorizer(binary=True,\n",
    "                                                 ngram_range=(1,2),\n",
    "                                                 min_df=6))\n",
    "\n",
    "print(\"Macro F1 Scores: \\n Training: {0} \\n Testing: {1}\".format(f1_train_infrequented, f1_test_infrequented))"
   ]
  },
  {
   "cell_type": "code",
   "execution_count": 130,
   "id": "mature-visitor",
   "metadata": {},
   "outputs": [
    {
     "data": {
      "text/plain": [
       "3781534"
      ]
     },
     "execution_count": 130,
     "metadata": {},
     "output_type": "execute_result"
    }
   ],
   "source": [
    "len(bigrams.named_steps['vectorizer'].get_feature_names())"
   ]
  },
  {
   "cell_type": "code",
   "execution_count": 131,
   "id": "essential-bishop",
   "metadata": {},
   "outputs": [
    {
     "data": {
      "text/plain": [
       "507869"
      ]
     },
     "execution_count": 131,
     "metadata": {},
     "output_type": "execute_result"
    }
   ],
   "source": [
    "len(infrequented.named_steps['vectorizer'].get_feature_names())"
   ]
  },
  {
   "cell_type": "code",
   "execution_count": null,
   "id": "latter-climate",
   "metadata": {},
   "outputs": [],
   "source": []
  },
  {
   "cell_type": "code",
   "execution_count": null,
   "id": "empty-telescope",
   "metadata": {},
   "outputs": [],
   "source": []
  },
  {
   "cell_type": "markdown",
   "id": "arranged-feeling",
   "metadata": {
    "colab_type": "text",
    "id": "SJVVXUdQAYR0"
   },
   "source": [
    "# 4 - Normalization"
   ]
  },
  {
   "cell_type": "markdown",
   "id": "interior-exhibit",
   "metadata": {
    "colab_type": "text",
    "id": "BE4wYDi9lWV7"
   },
   "source": [
    "Stemming"
   ]
  },
  {
   "cell_type": "code",
   "execution_count": 53,
   "id": "looking-display",
   "metadata": {},
   "outputs": [
    {
     "data": {
      "image/png": "[encoded data removed]",
      "text/plain": [
       "<Figure size 216x216 with 1 Axes>"
      ]
     },
     "metadata": {},
     "output_type": "display_data"
    },
    {
     "name": "stdout",
     "output_type": "stream",
     "text": [
      "Macro F1 Scores: \n",
      " Training: 0.719482969661493 \n",
      " Testing: 0.5954833623323391\n"
     ]
    }
   ],
   "source": [
    "stemmed, y_train_pred_stemmed, y_test_pred_stemmed, f1_train_stemmed, f1_test_stemmed = \\\n",
    "models.train_and_test(X_train=X_train,\n",
    "                      y_train=y_train,\n",
    "                      X_test=X_test,\n",
    "                      y_test=y_test,\n",
    "                      classifier=MultinomialNB(),\n",
    "                      vectorizer=features.YelpSentCountVectorizer(ngram_range=(1,2),\n",
    "                                                                  remove_nonwords=False,\n",
    "                                                                  remove_stopwords=False,\n",
    "                                                                  stem=True,\n",
    "                                                                  lemmatize=False,\n",
    "                                                                  min_df=6,\n",
    "                                                                  binary=True))\n",
    "\n",
    "print(\"Macro F1 Scores: \\n Training: {0} \\n Testing: {1}\".format(f1_train_stemmed, f1_test_stemmed))"
   ]
  },
  {
   "cell_type": "code",
   "execution_count": 54,
   "id": "unavailable-examination",
   "metadata": {},
   "outputs": [],
   "source": [
    "example_words = ['what a trouble',\n",
    "                 'this is very troubling',\n",
    "                 'i am troubled']"
   ]
  },
  {
   "cell_type": "code",
   "execution_count": 55,
   "id": "wanted-villa",
   "metadata": {},
   "outputs": [],
   "source": [
    "stem_vec = features.YelpSentCountVectorizer(stem=True)\n",
    "lemma_vec = features.YelpSentCountVectorizer(lemmatize=True)"
   ]
  },
  {
   "cell_type": "code",
   "execution_count": 56,
   "id": "solved-forty",
   "metadata": {},
   "outputs": [],
   "source": [
    "example_stemmed = stem_vec.fit_transform(example_words)\n",
    "example_lemmed = lemma_vec.fit_transform(example_words)"
   ]
  },
  {
   "cell_type": "code",
   "execution_count": 57,
   "id": "exceptional-lindsay",
   "metadata": {},
   "outputs": [
    {
     "data": {
      "text/plain": [
       "['a', 'am', 'i', 'is', 'thi', 'troubl', 'veri', 'what']"
      ]
     },
     "execution_count": 57,
     "metadata": {},
     "output_type": "execute_result"
    }
   ],
   "source": [
    "stem_vec.get_feature_names()"
   ]
  },
  {
   "cell_type": "code",
   "execution_count": 58,
   "id": "pretty-smith",
   "metadata": {},
   "outputs": [
    {
     "data": {
      "text/plain": [
       "array([[1, 0, 0, 0, 0, 1, 0, 1],\n",
       "       [0, 0, 0, 1, 1, 1, 1, 0],\n",
       "       [0, 1, 1, 0, 0, 1, 0, 0]], dtype=int64)"
      ]
     },
     "execution_count": 58,
     "metadata": {},
     "output_type": "execute_result"
    }
   ],
   "source": [
    "example_stemmed.toarray()"
   ]
  },
  {
   "cell_type": "code",
   "execution_count": 59,
   "id": "headed-exercise",
   "metadata": {},
   "outputs": [],
   "source": [
    "features_stemmed = stem_vec.get_feature_names()\n",
    "\n",
    "words_stemmed = []\n",
    "for sent in example_stemmed.toarray():\n",
    "  words = []\n",
    "  for i, w in enumerate(sent):\n",
    "    if w > 0:\n",
    "      words.append(features_stemmed[i])\n",
    "  words_stemmed.append(' '.join(words))"
   ]
  },
  {
   "cell_type": "code",
   "execution_count": 60,
   "id": "determined-postage",
   "metadata": {},
   "outputs": [
    {
     "data": {
      "text/plain": [
       "['a troubl what', 'is thi troubl veri', 'am i troubl']"
      ]
     },
     "execution_count": 60,
     "metadata": {},
     "output_type": "execute_result"
    }
   ],
   "source": [
    "words_stemmed"
   ]
  },
  {
   "cell_type": "code",
   "execution_count": 61,
   "id": "arctic-young",
   "metadata": {},
   "outputs": [],
   "source": [
    "features_lemmed = lemma_vec.get_feature_names()\n",
    "\n",
    "words_lemmed = []\n",
    "for sent in example_lemmed.toarray():\n",
    "  words = []\n",
    "  for i, w in enumerate(sent):\n",
    "    if w > 0:\n",
    "      words.append(features_lemmed[i])\n",
    "  words_lemmed.append(' '.join(words))"
   ]
  },
  {
   "cell_type": "code",
   "execution_count": 62,
   "id": "exciting-meaning",
   "metadata": {},
   "outputs": [
    {
     "data": {
      "text/plain": [
       "['a trouble what', 'be this troubling very', 'be i trouble']"
      ]
     },
     "execution_count": 62,
     "metadata": {},
     "output_type": "execute_result"
    }
   ],
   "source": [
    "words_lemmed"
   ]
  },
  {
   "cell_type": "code",
   "execution_count": 68,
   "id": "empty-potato",
   "metadata": {},
   "outputs": [
    {
     "data": {
      "text/plain": [
       "446227"
      ]
     },
     "execution_count": 68,
     "metadata": {},
     "output_type": "execute_result"
    }
   ],
   "source": [
    "len(stemmed.named_steps['vectorizer'].get_feature_names())"
   ]
  },
  {
   "cell_type": "code",
   "execution_count": null,
   "id": "significant-oasis",
   "metadata": {},
   "outputs": [],
   "source": []
  },
  {
   "cell_type": "code",
   "execution_count": null,
   "id": "numerical-lender",
   "metadata": {},
   "outputs": [],
   "source": []
  },
  {
   "cell_type": "markdown",
   "id": "becoming-allocation",
   "metadata": {
    "colab_type": "text",
    "id": "a3661D4FlX6s"
   },
   "source": [
    "Lemmatization"
   ]
  },
  {
   "cell_type": "code",
   "execution_count": 63,
   "id": "painful-saint",
   "metadata": {},
   "outputs": [
    {
     "name": "stderr",
     "output_type": "stream",
     "text": [
      "[nltk_data] Downloading package wordnet to\n",
      "[nltk_data]     C:\\Users\\Saivi\\AppData\\Roaming\\nltk_data...\n",
      "[nltk_data]   Package wordnet is already up-to-date!\n"
     ]
    },
    {
     "data": {
      "text/plain": [
       "True"
      ]
     },
     "execution_count": 63,
     "metadata": {},
     "output_type": "execute_result"
    }
   ],
   "source": [
    "nltk.download('wordnet')"
   ]
  },
  {
   "cell_type": "code",
   "execution_count": 65,
   "id": "compressed-compiler",
   "metadata": {},
   "outputs": [
    {
     "name": "stderr",
     "output_type": "stream",
     "text": [
      "[nltk_data] Downloading package averaged_perceptron_tagger to\n",
      "[nltk_data]     C:\\Users\\Saivi\\AppData\\Roaming\\nltk_data...\n",
      "[nltk_data]   Package averaged_perceptron_tagger is already up-to-\n",
      "[nltk_data]       date!\n"
     ]
    },
    {
     "data": {
      "text/plain": [
       "True"
      ]
     },
     "execution_count": 65,
     "metadata": {},
     "output_type": "execute_result"
    }
   ],
   "source": [
    "nltk.download('averaged_perceptron_tagger')"
   ]
  },
  {
   "cell_type": "code",
   "execution_count": 66,
   "id": "treated-argentina",
   "metadata": {},
   "outputs": [
    {
     "data": {
      "image/png": "[encoded data removed]",
      "text/plain": [
       "<Figure size 216x216 with 1 Axes>"
      ]
     },
     "metadata": {},
     "output_type": "display_data"
    },
    {
     "name": "stdout",
     "output_type": "stream",
     "text": [
      "Macro F1 Scores: \n",
      " Training: 0.7181577009090642 \n",
      " Testing: 0.5949647405690791\n"
     ]
    }
   ],
   "source": [
    "lemmatized, y_train_pred_lemmatized, y_test_pred_lemmatized, f1_train_lemmatized, f1_test_lemmatized = \\\n",
    "models.train_and_test(X_train=X_train,\n",
    "                      y_train=y_train,\n",
    "                      X_test=X_test,\n",
    "                      y_test=y_test,\n",
    "                      classifier=MultinomialNB(),\n",
    "                      vectorizer=features.YelpSentCountVectorizer(ngram_range=(1,2),\n",
    "                                                                  remove_nonwords=False,\n",
    "                                                                  remove_stopwords=False,\n",
    "                                                                  stem=False,\n",
    "                                                                  lemmatize=True,\n",
    "                                                                  min_df=6,\n",
    "                                                                  binary=True))\n",
    "\n",
    "print(\"Macro F1 Scores: \\n Training: {0} \\n Testing: {1}\".format(f1_train_lemmatized, f1_test_lemmatized))"
   ]
  },
  {
   "cell_type": "code",
   "execution_count": null,
   "id": "corrected-exclusive",
   "metadata": {},
   "outputs": [],
   "source": [
    "final_vectorizer = lemmatized.named_steps['vectorizer']"
   ]
  },
  {
   "cell_type": "code",
   "execution_count": 67,
   "id": "voluntary-collapse",
   "metadata": {},
   "outputs": [
    {
     "data": {
      "text/plain": [
       "439416"
      ]
     },
     "execution_count": 67,
     "metadata": {},
     "output_type": "execute_result"
    }
   ],
   "source": [
    "len(lemmatized.named_steps['vectorizer'].get_feature_names())"
   ]
  },
  {
   "cell_type": "markdown",
   "id": "rocky-skating",
   "metadata": {
    "colab_type": "text",
    "id": "jY4V7H0Z83av"
   },
   "source": [
    "# Conclusion"
   ]
  },
  {
   "cell_type": "markdown",
   "id": "thrown-voluntary",
   "metadata": {
    "colab_type": "text",
    "id": "NVHKVbGZ85jL"
   },
   "source": [
    "We should\n",
    "- CountVectorizer, binarized\n",
    "- Unigram + Bigram\n",
    "- Min DF of 6\n",
    "- Stemming\n",
    "\n",
    "Next step: following four machine learning models will be used in the experiment and compared with the baseline model\n",
    "- Multinomial Logistic Regression\n",
    "- Support Vector Machine\n",
    "- k-Nearest-Neighbors (kNN)\n",
    "- RandomForest (RF)"
   ]
  },
  {
   "cell_type": "code",
   "execution_count": 76,
   "id": "subtle-midnight",
   "metadata": {},
   "outputs": [],
   "source": [
    "final_vectorizer = stemmed.named_steps['vectorizer']"
   ]
  },
  {
   "cell_type": "code",
   "execution_count": 77,
   "id": "british-giving",
   "metadata": {},
   "outputs": [],
   "source": [
    "final_X_train_dtm = final_vectorizer.transform(X_train)\n",
    "final_X_test_dtm = final_vectorizer.transform(X_test)"
   ]
  },
  {
   "cell_type": "code",
   "execution_count": null,
   "id": "organic-connectivity",
   "metadata": {},
   "outputs": [],
   "source": []
  },
  {
   "cell_type": "markdown",
   "id": "demographic-oxygen",
   "metadata": {
    "colab_type": "text",
    "id": "LBhtNConM71T"
   },
   "source": [
    "# Multinomial Logistic Regression"
   ]
  },
  {
   "cell_type": "code",
   "execution_count": 73,
   "id": "coastal-tackle",
   "metadata": {},
   "outputs": [],
   "source": [
    "from sklearn.linear_model import LogisticRegression\n",
    "from sklearn.model_selection import GridSearchCV"
   ]
  },
  {
   "cell_type": "code",
   "execution_count": 80,
   "id": "hazardous-explosion",
   "metadata": {},
   "outputs": [],
   "source": [
    "# # Grid-search for c\n",
    "params = dict(C = np.logspace(-3, 0, 4),\n",
    "              penalty = ['l1', 'l2'])\n",
    "\n",
    "gscv = GridSearchCV(LogisticRegression(max_iter=500,\n",
    "                   multi_class='multinomial'),\n",
    "                    params,\n",
    "                    scoring='f1_macro',\n",
    "                    cv=cv,\n",
    "                    verbose=1,\n",
    "                    n_jobs=-1)"
   ]
  },
  {
   "cell_type": "code",
   "execution_count": null,
   "id": "prospective-technology",
   "metadata": {},
   "outputs": [
    {
     "name": "stdout",
     "output_type": "stream",
     "text": [
      "Fitting 5 folds for each of 8 candidates, totalling 40 fits\n"
     ]
    }
   ],
   "source": [
    "gscv.fit(final_X_train_dtm, y_train)"
   ]
  },
  {
   "cell_type": "code",
   "execution_count": null,
   "id": "regular-sydney",
   "metadata": {},
   "outputs": [],
   "source": [
    "print(gscv.best_params_)"
   ]
  },
  {
   "cell_type": "code",
   "execution_count": null,
   "id": "respected-issue",
   "metadata": {},
   "outputs": [],
   "source": [
    "# # Selected model:\n",
    "# model = LogisticRegression(C=0.01,\n",
    "#                            penalty='l2',\n",
    "#                            max_iter=1000,\n",
    "#                            random_state=647,\n",
    "#                            n_jobs=-1)"
   ]
  },
  {
   "cell_type": "code",
   "execution_count": null,
   "id": "annoying-alberta",
   "metadata": {},
   "outputs": [],
   "source": [
    "# %time model.fit(X_train_dtm, y_train)"
   ]
  },
  {
   "cell_type": "code",
   "execution_count": null,
   "id": "according-benefit",
   "metadata": {},
   "outputs": [],
   "source": [
    "#y_train_pred, y_test_pred, f1_train, f1_test =\\\n",
    "models.evaluate_pipeline(X_train = X_train_dtm,\n",
    "                         y_train = y_train,\n",
    "                         X_test = X_test_dtm,\n",
    "                         y_test = y_test,\n",
    "                         pipeline = model)\n",
    "\n",
    "print(\"Macro F1 Scores: \\n Training: {0:.3f} \\n Testing: {1:.3f}\\n\\n\".format(f1_train, f1_test))"
   ]
  },
  {
   "cell_type": "code",
   "execution_count": null,
   "id": "quarterly-hacker",
   "metadata": {},
   "outputs": [],
   "source": []
  },
  {
   "cell_type": "code",
   "execution_count": null,
   "id": "responsible-lover",
   "metadata": {},
   "outputs": [],
   "source": []
  },
  {
   "cell_type": "markdown",
   "id": "nasty-carpet",
   "metadata": {
    "colab_type": "text",
    "id": "LBhtNConM71T"
   },
   "source": [
    "# SVM"
   ]
  },
  {
   "cell_type": "code",
   "execution_count": null,
   "id": "through-daniel",
   "metadata": {},
   "outputs": [],
   "source": [
    "from sklearn.svm import LinearSVC"
   ]
  },
  {
   "cell_type": "code",
   "execution_count": null,
   "id": "intimate-heating",
   "metadata": {},
   "outputs": [],
   "source": [
    "params"
   ]
  },
  {
   "cell_type": "code",
   "execution_count": null,
   "id": "maritime-porcelain",
   "metadata": {},
   "outputs": [],
   "source": [
    "# Grid-search for C\n",
    "params = {'C' : np.logspace(-5, -2, 6)}\n",
    "\n",
    "gscv = GridSearchCV(LinearSVC(max_iter=1000),\n",
    "                    params,\n",
    "                    scoring='f1_macro',\n",
    "                    cv=cv,\n",
    "                    verbose=1,\n",
    "                    n_jobs=-1)"
   ]
  },
  {
   "cell_type": "code",
   "execution_count": null,
   "id": "norman-distribution",
   "metadata": {},
   "outputs": [],
   "source": [
    "gscv.fit(X_train_dtm, y_train)"
   ]
  },
  {
   "cell_type": "code",
   "execution_count": null,
   "id": "adapted-amplifier",
   "metadata": {},
   "outputs": [],
   "source": [
    "print(gscv.best_params_)"
   ]
  },
  {
   "cell_type": "code",
   "execution_count": null,
   "id": "industrial-ticket",
   "metadata": {},
   "outputs": [],
   "source": [
    "#model = LinearSVC(max_iter=1000,\n",
    "                  C=0.0025118864315095794,\n",
    "                  random_state=647)"
   ]
  },
  {
   "cell_type": "code",
   "execution_count": null,
   "id": "brown-exemption",
   "metadata": {},
   "outputs": [],
   "source": [
    "%time model.fit(X_train_dtm, y_train)"
   ]
  },
  {
   "cell_type": "code",
   "execution_count": null,
   "id": "cooked-sigma",
   "metadata": {},
   "outputs": [],
   "source": [
    "#y_train_pred, y_test_pred, f1_train, f1_test =\\\n",
    "models.evaluate_pipeline(X_train = X_train_dtm,\n",
    "                         y_train = y_train,\n",
    "                         X_test = X_test_dtm,\n",
    "                         y_test = y_test,\n",
    "                         pipeline = model)\n",
    "\n",
    "print(\"Macro F1 Scores: \\n Training: {0:.3f} \\n Testing: {1:.3f}\\n\\n\".format(f1_train, f1_test))"
   ]
  },
  {
   "cell_type": "code",
   "execution_count": null,
   "id": "typical-rally",
   "metadata": {},
   "outputs": [],
   "source": []
  },
  {
   "cell_type": "code",
   "execution_count": null,
   "id": "pleasant-guyana",
   "metadata": {},
   "outputs": [],
   "source": []
  },
  {
   "cell_type": "markdown",
   "id": "nominated-cooler",
   "metadata": {
    "colab_type": "text",
    "id": "LBhtNConM71T"
   },
   "source": [
    "# KNN"
   ]
  },
  {
   "cell_type": "code",
   "execution_count": null,
   "id": "complicated-sheep",
   "metadata": {},
   "outputs": [],
   "source": [
    "from sklearn.neighbors import KNeighborsClassifier"
   ]
  },
  {
   "cell_type": "markdown",
   "id": "seventh-shape",
   "metadata": {
    "colab_type": "text",
    "id": "LBhtNConM71T"
   },
   "source": [
    "# Random Forest"
   ]
  },
  {
   "cell_type": "code",
   "execution_count": null,
   "id": "decent-contrast",
   "metadata": {},
   "outputs": [],
   "source": [
    "from sklearn.ensemble import RandomForestRegressor"
   ]
  }
 ],
 "metadata": {
  "kernelspec": {
   "display_name": "Python 3",
   "language": "python",
   "name": "python3"
  },
  "language_info": {
   "codemirror_mode": {
    "name": "ipython",
    "version": 3
   },
   "file_extension": ".py",
   "mimetype": "text/x-python",
   "name": "python",
   "nbconvert_exporter": "python",
   "pygments_lexer": "ipython3",
   "version": "3.9.1"
  }
 },
 "nbformat": 4,
 "nbformat_minor": 5
}
